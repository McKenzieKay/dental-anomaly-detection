{
 "cells": [
  {
   "cell_type": "markdown",
   "id": "6fe8f3aa",
   "metadata": {},
   "source": [
    "# Multi Label Classification Model"
   ]
  },
  {
   "cell_type": "code",
   "execution_count": 1,
   "id": "b9a6e786",
   "metadata": {},
   "outputs": [],
   "source": [
    "# !pip3 install torch==1.9.1+cu111 torchvision==0.10.1+cu111 torchaudio===0.9.1 -f https://download.pytorch.org/whl/torch_stable.html"
   ]
  },
  {
   "cell_type": "markdown",
   "id": "8c5afc77",
   "metadata": {},
   "source": [
    "## Imports"
   ]
  },
  {
   "cell_type": "code",
   "execution_count": 2,
   "id": "4bcef6b0",
   "metadata": {},
   "outputs": [],
   "source": [
    "# import os \n",
    "# os.environ[\"KMP_DUPLICATE_LIB_OK\"]=\"TRUE\""
   ]
  },
  {
   "cell_type": "code",
   "execution_count": 3,
   "id": "45ec6735",
   "metadata": {},
   "outputs": [],
   "source": [
    "# Basic imports\n",
    "import os\n",
    "import cv2\n",
    "import numpy as np\n",
    "import pandas as pd\n",
    "from tqdm import tqdm\n",
    "\n",
    "# Torch imports\n",
    "import torch\n",
    "import torchvision\n",
    "import torch.optim as optim\n",
    "from torch.nn import init\n",
    "import torch.nn as nn\n",
    "import torch.nn.functional as F\n",
    "import torch.utils.data as data\n",
    "\n",
    "# Sklearn imports\n",
    "from sklearn.model_selection import train_test_split\n",
    "from sklearn.metrics import classification_report\n",
    "\n",
    "# Custom functions\n",
    "from processing_functions import *"
   ]
  },
  {
   "cell_type": "markdown",
   "id": "a0c7544c",
   "metadata": {},
   "source": [
    "## GPU Setup"
   ]
  },
  {
   "cell_type": "code",
   "execution_count": 4,
   "id": "d0243aee",
   "metadata": {},
   "outputs": [
    {
     "data": {
      "text/plain": [
       "device(type='cuda', index=0)"
      ]
     },
     "execution_count": 4,
     "metadata": {},
     "output_type": "execute_result"
    }
   ],
   "source": [
    "# check if GPU available and assign it\n",
    "torch.cuda.is_available()\n",
    "device = torch.device('cuda', 1)\n",
    "device"
   ]
  },
  {
   "cell_type": "markdown",
   "id": "136c3392",
   "metadata": {},
   "source": [
    "## DataLoader"
   ]
  },
  {
   "cell_type": "code",
   "execution_count": 5,
   "id": "8ba0fab7",
   "metadata": {},
   "outputs": [],
   "source": [
    "class TeethDataLoader_MultiLabel(data.Dataset): # input is folder name where folders of teeth are stored\n",
    "                                        # requires overwrite __getitem__(), supporting fetching a data sample for a given key\n",
    "                                        # can also overwrite __len__(), which is expected to return the size of the dataset\n",
    "\n",
    "\n",
    "    def __init__(self, xray_path, anomaly_path, segmentation_path): # path below = ./training_images/\n",
    "                \n",
    "        xray_filenames = os.listdir(xray_path)\n",
    "        anomaly_filenames = os.listdir(anomaly_path)\n",
    "        segmentation_filenames = os.listdir(segmentation_path)\n",
    "\n",
    "        output_path = 'SegmentedTeethImages/'\n",
    "        \n",
    "        self.images, self.labels = [], []\n",
    "\n",
    "        for i in range(len(anomaly_filenames)):\n",
    "            # Create dataframe with tooth number\n",
    "            print(anomaly_path + anomaly_filenames[i])\n",
    "            anomalies_df = anomaly_matching(anomaly_path + anomaly_filenames[i], \n",
    "                                            segmentation_path + segmentation_filenames[i], \n",
    "                                            io.imread(xray_path + xray_filenames[i]).shape, \n",
    "                                            normalized=True)\n",
    "            anomalies_df = multi_labeling(anomalies_df)\n",
    "            \n",
    "            for index, row in anomalies_df.iterrows():\n",
    "                yolo_coord = row[['x_center', 'y_center', 'width', 'height']].to_list()\n",
    "                tooth_file = extract_image(xray_path + xray_filenames[i],\n",
    "                                           yolo_coord, \n",
    "                                           int(row['tooth_number']), \n",
    "                                           output_folder=output_path, \n",
    "                                           print_names=False)\n",
    "                self.images.append(tooth_file)\n",
    "                self.labels.append(row['anomaly_category'])\n",
    "\n",
    "    def __len__(self):\n",
    "        return len(self.images)\n",
    "\n",
    "    def __getitem__(self, index):\n",
    "        img = cv2.imread(self.images[index])     # loads image from file\n",
    "        img = cv2.resize(img, (224, 224))        # resize image to 224x224\n",
    "        img = np.array(img, dtype=np.float32)    # change data type to float\n",
    "        img = (img / 255.)                       # normalize colors to be 0-1\n",
    "        img = img[:, :, (2, 1, 0)]               # reorder RGB\n",
    "        img = torchvision.transforms.ToTensor()(img)  # convert to tensor\n",
    "        label = self.labels[index]               # 1 or 0\n",
    "        \n",
    "        return img.float(), torch.FloatTensor([label]) # returns tensor of modified image and label"
   ]
  },
  {
   "cell_type": "markdown",
   "id": "c44113ca",
   "metadata": {},
   "source": [
    "## Modeling Setup"
   ]
  },
  {
   "cell_type": "code",
   "execution_count": 6,
   "id": "20f066b2",
   "metadata": {},
   "outputs": [],
   "source": [
    "from torchvision import models as models\n",
    "\n",
    "def model(pretrained, requires_grad):\n",
    "    model = models.resnet50(progress=True, pretrained=pretrained)\n",
    "    # to freeze the hidden layers\n",
    "    if requires_grad == False:\n",
    "        for param in model.parameters():\n",
    "            param.requires_grad = False\n",
    "    # to train the hidden layers\n",
    "    elif requires_grad == True:\n",
    "        for param in model.parameters():\n",
    "            param.requires_grad = True\n",
    "    # make the classification layer learnable\n",
    "    model.fc = nn.Linear(2048, 8)\n",
    "    return model"
   ]
  },
  {
   "cell_type": "code",
   "execution_count": 7,
   "id": "33ea6cde",
   "metadata": {},
   "outputs": [],
   "source": [
    "import torch\n",
    "from tqdm import tqdm\n",
    "# training function\n",
    "def train(model, dataloader, optimizer, criterion, device):\n",
    "    print('Training')\n",
    "    model.train()\n",
    "    counter = 0\n",
    "    train_running_loss = 0.0\n",
    "    for (x, y) in tqdm(train_loader):\n",
    "        counter += 1\n",
    "        data, target = x.to(device), y.to(device)\n",
    "        optimizer.zero_grad()\n",
    "        outputs = model(data)\n",
    "        # apply sigmoid activation to get all the outputs between 0 and 1\n",
    "        outputs = torch.sigmoid(outputs)\n",
    "        loss = criterion(outputs, target.squeeze(1))\n",
    "        train_running_loss += loss.item()\n",
    "        # backpropagation\n",
    "        loss.backward()\n",
    "        # update optimizer parameters\n",
    "        optimizer.step()\n",
    "        \n",
    "    train_loss = train_running_loss / counter\n",
    "    return train_loss\n",
    "\n",
    "\n",
    "# validation function\n",
    "def validate(model, dataloader, criterion, device):\n",
    "    print('Validating')\n",
    "    model.eval()\n",
    "    counter = 0\n",
    "    val_running_loss = 0.0\n",
    "    with torch.no_grad():\n",
    "        for (x, y) in tqdm(train_loader):\n",
    "            counter += 1\n",
    "            data, target = x.to(device), y.to(device)\n",
    "            outputs = model(data)\n",
    "            # apply sigmoid activation to get all the outputs between 0 and 1\n",
    "            outputs = torch.sigmoid(outputs)\n",
    "            loss = criterion(outputs, target.squeeze(1))\n",
    "            val_running_loss += loss.item()\n",
    "        \n",
    "        val_loss = val_running_loss / counter\n",
    "        return val_loss"
   ]
  },
  {
   "cell_type": "markdown",
   "id": "8491ff41",
   "metadata": {},
   "source": [
    "## Model Training"
   ]
  },
  {
   "cell_type": "code",
   "execution_count": 8,
   "id": "daf9f9db",
   "metadata": {},
   "outputs": [],
   "source": [
    "#intialize the model\n",
    "model = model(pretrained=True, requires_grad=False).to(device)\n",
    "# learning parameters\n",
    "lr = 0.0001\n",
    "epochs = 5\n",
    "batch_size = 32\n",
    "optimizer = optim.Adam(model.parameters(), lr=lr)\n",
    "criterion = nn.BCELoss()"
   ]
  },
  {
   "cell_type": "code",
   "execution_count": 9,
   "id": "6eae674f",
   "metadata": {
    "scrolled": true
   },
   "outputs": [
    {
     "name": "stdout",
     "output_type": "stream",
     "text": [
      "Test_images/panoramic0_labels/cate2-00001.txt\n",
      "Test_images/panoramic0_labels/cate2-00002.txt\n",
      "Test_images/panoramic0_labels/cate2-00003.txt\n",
      "Test_images/panoramic0_labels/cate2-00005.txt\n",
      "Test_images/panoramic0_labels/cate2-00006.txt\n",
      "Test_images/panoramic0_labels/cate2-00007.txt\n",
      "Test_images/panoramic0_labels/cate2-00008.txt\n",
      "Test_images/panoramic0_labels/cate2-00010.txt\n",
      "Test_images/panoramic0_labels/cate2-00011.txt\n",
      "Test_images/panoramic0_labels/cate2-00012.txt\n",
      "Test_images/panoramic0_labels/cate2-00013.txt\n",
      "Test_images/panoramic0_labels/cate2-00014.txt\n",
      "Test_images/panoramic0_labels/cate2-00015.txt\n",
      "Test_images/panoramic0_labels/cate2-00016.txt\n",
      "Test_images/panoramic0_labels/cate2-00017.txt\n",
      "Test_images/panoramic0_labels/cate2-00021.txt\n",
      "Test_images/panoramic0_labels/cate2-00025.txt\n",
      "Test_images/panoramic0_labels/cate2-00033.txt\n",
      "Test_images/panoramic0_labels/cate2-00035.txt\n",
      "Test_images/panoramic0_labels/cate2-00036.txt\n",
      "Test_images/panoramic0_labels/cate2-00037.txt\n",
      "Test_images/panoramic0_labels/cate2-00039.txt\n",
      "Test_images/panoramic0_labels/cate2-00040.txt\n",
      "Test_images/panoramic0_labels/cate2-00101.txt\n",
      "Test_images/panoramic0_labels/cate2-00102.txt\n",
      "Test_images/panoramic0_labels/cate2-00103.txt\n",
      "Test_images/panoramic0_labels/cate2-00105.txt\n",
      "Test_images/panoramic0_labels/cate2-00108.txt\n",
      "Test_images/panoramic0_labels/cate2-00109.txt\n",
      "Test_images/panoramic0_labels/cate2-00115.txt\n",
      "Test_images/panoramic0_labels/cate2-00116.txt\n",
      "Test_images/panoramic0_labels/cate2-00117.txt\n",
      "Test_images/panoramic0_labels/cate2-00118.txt\n",
      "Test_images/panoramic0_labels/cate2-00119.txt\n",
      "Test_images/panoramic0_labels/cate2-00120.txt\n",
      "Test_images/panoramic0_labels/cate2-00121.txt\n",
      "Test_images/panoramic0_labels/cate2-00122.txt\n",
      "Test_images/panoramic0_labels/cate2-00123.txt\n",
      "Test_images/panoramic0_labels/cate2-00128.txt\n",
      "Test_images/panoramic0_labels/cate2-00129.txt\n",
      "Test_images/panoramic0_labels/cate2-00131.txt\n",
      "Test_images/panoramic0_labels/cate2-00132.txt\n",
      "Test_images/panoramic0_labels/cate2-00133.txt\n",
      "Test_images/panoramic0_labels/cate2-00135.txt\n",
      "Test_images/panoramic0_labels/cate2-00137.txt\n",
      "Test_images/panoramic0_labels/cate2-00138.txt\n",
      "Test_images/panoramic0_labels/cate2-00139.txt\n",
      "Test_images/panoramic0_labels/cate2-00140.txt\n",
      "Test_images/panoramic0_labels/cate2-00146.txt\n",
      "Test_images/panoramic0_labels/cate2-00149.txt\n",
      "Test_images/panoramic0_labels/cate2-00151.txt\n",
      "Test_images/panoramic0_labels/cate2-00154.txt\n",
      "Test_images/panoramic0_labels/cate2-00155.txt\n",
      "Test_images/panoramic0_labels/cate2-00156.txt\n",
      "Test_images/panoramic0_labels/cate2-00158.txt\n",
      "Test_images/panoramic0_labels/cate2-00159.txt\n",
      "Test_images/panoramic0_labels/cate2-00160.txt\n",
      "Test_images/panoramic0_labels/cate2-00161.txt\n",
      "Test_images/panoramic0_labels/cate2-00165.txt\n",
      "Test_images/panoramic0_labels/cate2-00170.txt\n",
      "Test_images/panoramic0_labels/cate2-00174.txt\n",
      "Test_images/panoramic0_labels/cate2-00177.txt\n",
      "Test_images/panoramic0_labels/cate2-00182.txt\n",
      "Test_images/panoramic0_labels/cate2-00185.txt\n",
      "Test_images/panoramic0_labels/cate2-00187.txt\n",
      "Test_images/panoramic0_labels/cate2-00188.txt\n",
      "Test_images/panoramic0_labels/cate2-00190.txt\n",
      "Test_images/panoramic0_labels/cate2-00191.txt\n",
      "Test_images/panoramic0_labels/cate2-00198.txt\n",
      "Test_images/panoramic0_labels/cate2-00202.txt\n",
      "Test_images/panoramic0_labels/cate2-00206.txt\n",
      "Test_images/panoramic0_labels/cate2-00211.txt\n",
      "Test_images/panoramic0_labels/cate2-00213.txt\n",
      "Test_images/panoramic0_labels/cate2-00218.txt\n",
      "Test_images/panoramic0_labels/cate2-00219.txt\n",
      "Test_images/panoramic0_labels/cate3-00013.txt\n",
      "Test_images/panoramic0_labels/cate3-00022.txt\n",
      "Test_images/panoramic0_labels/cate3-00032.txt\n",
      "Test_images/panoramic0_labels/cate3-00033.txt\n",
      "Test_images/panoramic0_labels/cate3-00044.txt\n",
      "Test_images/panoramic0_labels/cate4-00122.txt\n",
      "Test_images/panoramic0_labels/cate4-00128.txt\n",
      "Test_images/panoramic0_labels/cate4-00134.txt\n",
      "Test_images/panoramic0_labels/cate4-00135.txt\n",
      "Test_images/panoramic0_labels/cate4-00140.txt\n"
     ]
    }
   ],
   "source": [
    "xray_path = 'Test_images/panoramic0/'\n",
    "anomaly_path = 'Test_images/panoramic0_labels/'\n",
    "segmentation_path = 'Test_images/panoramic0_teeth_segmented/'\n",
    "\n",
    "dataset = TeethDataLoader_MultiLabel(xray_path, anomaly_path, segmentation_path)\n",
    "\n",
    "# generate shuffled sequence of numbers based on how many images, split train/test\n",
    "train_idx, valid_idx= train_test_split(np.arange(len(dataset.labels)), test_size=0.2, shuffle=True)\n",
    "\n",
    "# Samples elements randomly from a given list of indices, without replacement\n",
    "train_sampler = torch.utils.data.SubsetRandomSampler(train_idx)\n",
    "valid_sampler = torch.utils.data.SubsetRandomSampler(valid_idx)\n",
    "\n",
    "# loads images associated with ids/samples from above\n",
    "train_loader = torch.utils.data.DataLoader(dataset, batch_size=batch_size, sampler=train_sampler)\n",
    "valid_loader = torch.utils.data.DataLoader(dataset, batch_size=batch_size, sampler=valid_sampler)"
   ]
  },
  {
   "cell_type": "code",
   "execution_count": 10,
   "id": "1374f218",
   "metadata": {},
   "outputs": [
    {
     "name": "stdout",
     "output_type": "stream",
     "text": [
      "Epoch 1 of 5\n",
      "Training\n"
     ]
    },
    {
     "name": "stderr",
     "output_type": "stream",
     "text": [
      "100%|██████████████████████████████████████████████████████████████████████████████████| 68/68 [00:23<00:00,  2.86it/s]\n"
     ]
    },
    {
     "name": "stdout",
     "output_type": "stream",
     "text": [
      "Validating\n"
     ]
    },
    {
     "name": "stderr",
     "output_type": "stream",
     "text": [
      "100%|██████████████████████████████████████████████████████████████████████████████████| 68/68 [00:09<00:00,  7.21it/s]\n"
     ]
    },
    {
     "name": "stdout",
     "output_type": "stream",
     "text": [
      "Train Loss: 0.2500\n",
      "Val Loss: 0.1547\n",
      "Epoch 2 of 5\n",
      "Training\n"
     ]
    },
    {
     "name": "stderr",
     "output_type": "stream",
     "text": [
      "100%|██████████████████████████████████████████████████████████████████████████████████| 68/68 [00:10<00:00,  6.64it/s]\n"
     ]
    },
    {
     "name": "stdout",
     "output_type": "stream",
     "text": [
      "Validating\n"
     ]
    },
    {
     "name": "stderr",
     "output_type": "stream",
     "text": [
      "100%|██████████████████████████████████████████████████████████████████████████████████| 68/68 [00:09<00:00,  7.40it/s]\n"
     ]
    },
    {
     "name": "stdout",
     "output_type": "stream",
     "text": [
      "Train Loss: 0.1450\n",
      "Val Loss: 0.1393\n",
      "Epoch 3 of 5\n",
      "Training\n"
     ]
    },
    {
     "name": "stderr",
     "output_type": "stream",
     "text": [
      "100%|██████████████████████████████████████████████████████████████████████████████████| 68/68 [00:09<00:00,  7.10it/s]\n"
     ]
    },
    {
     "name": "stdout",
     "output_type": "stream",
     "text": [
      "Validating\n"
     ]
    },
    {
     "name": "stderr",
     "output_type": "stream",
     "text": [
      "100%|██████████████████████████████████████████████████████████████████████████████████| 68/68 [00:09<00:00,  7.27it/s]\n"
     ]
    },
    {
     "name": "stdout",
     "output_type": "stream",
     "text": [
      "Train Loss: 0.1358\n",
      "Val Loss: 0.1318\n",
      "Epoch 4 of 5\n",
      "Training\n"
     ]
    },
    {
     "name": "stderr",
     "output_type": "stream",
     "text": [
      "100%|██████████████████████████████████████████████████████████████████████████████████| 68/68 [00:10<00:00,  6.79it/s]\n"
     ]
    },
    {
     "name": "stdout",
     "output_type": "stream",
     "text": [
      "Validating\n"
     ]
    },
    {
     "name": "stderr",
     "output_type": "stream",
     "text": [
      "100%|██████████████████████████████████████████████████████████████████████████████████| 68/68 [00:10<00:00,  6.78it/s]\n"
     ]
    },
    {
     "name": "stdout",
     "output_type": "stream",
     "text": [
      "Train Loss: 0.1311\n",
      "Val Loss: 0.1279\n",
      "Epoch 5 of 5\n",
      "Training\n"
     ]
    },
    {
     "name": "stderr",
     "output_type": "stream",
     "text": [
      "100%|██████████████████████████████████████████████████████████████████████████████████| 68/68 [00:10<00:00,  6.59it/s]\n"
     ]
    },
    {
     "name": "stdout",
     "output_type": "stream",
     "text": [
      "Validating\n"
     ]
    },
    {
     "name": "stderr",
     "output_type": "stream",
     "text": [
      "100%|██████████████████████████████████████████████████████████████████████████████████| 68/68 [00:10<00:00,  6.52it/s]"
     ]
    },
    {
     "name": "stdout",
     "output_type": "stream",
     "text": [
      "Train Loss: 0.1277\n",
      "Val Loss: 0.1255\n"
     ]
    },
    {
     "name": "stderr",
     "output_type": "stream",
     "text": [
      "\n"
     ]
    }
   ],
   "source": [
    "# start the training and validation\n",
    "train_loss = []\n",
    "valid_loss = []\n",
    "for epoch in range(epochs):\n",
    "    print(f\"Epoch {epoch+1} of {epochs}\")\n",
    "    train_epoch_loss = train(\n",
    "        model, train_loader, optimizer, criterion, device\n",
    "    )\n",
    "    valid_epoch_loss = validate(\n",
    "        model, valid_loader, criterion, device\n",
    "    )\n",
    "    train_loss.append(train_epoch_loss)\n",
    "    valid_loss.append(valid_epoch_loss)\n",
    "    print(f\"Train Loss: {train_epoch_loss:.4f}\")\n",
    "    print(f'Val Loss: {valid_epoch_loss:.4f}')"
   ]
  },
  {
   "cell_type": "markdown",
   "id": "e857b6f9",
   "metadata": {},
   "source": [
    "## Visualizing Performance"
   ]
  },
  {
   "cell_type": "code",
   "execution_count": 11,
   "id": "ac8453a4",
   "metadata": {},
   "outputs": [
    {
     "data": {
      "image/png": "[encoded data removed]",
      "text/plain": [
       "<Figure size 720x504 with 1 Axes>"
      ]
     },
     "metadata": {
      "needs_background": "light"
     },
     "output_type": "display_data"
    }
   ],
   "source": [
    "import matplotlib.pyplot as plt \n",
    "\n",
    "torch.save({\n",
    "            'epoch': epochs,\n",
    "            'model_state_dict': model.state_dict(),\n",
    "            'optimizer_state_dict': optimizer.state_dict(),\n",
    "            'loss': criterion,\n",
    "            }, 'model.pth')\n",
    "# plot and save the train and validation line graphs\n",
    "plt.figure(figsize=(10, 7))\n",
    "plt.plot(train_loss, color='orange', label='train loss')\n",
    "plt.plot(valid_loss, color='red', label='validataion loss')\n",
    "plt.xlabel('Epochs')\n",
    "plt.ylabel('Loss')\n",
    "plt.legend()\n",
    "plt.savefig('loss.png')\n",
    "plt.show()"
   ]
  },
  {
   "cell_type": "code",
   "execution_count": null,
   "id": "bccb0e18",
   "metadata": {},
   "outputs": [],
   "source": []
  }
 ],
 "metadata": {
  "kernelspec": {
   "display_name": "Python 3 (ipykernel)",
   "language": "python",
   "name": "python3"
  },
  "language_info": {
   "codemirror_mode": {
    "name": "ipython",
    "version": 3
   },
   "file_extension": ".py",
   "mimetype": "text/x-python",
   "name": "python",
   "nbconvert_exporter": "python",
   "pygments_lexer": "ipython3",
   "version": "3.8.11"
  }
 },
 "nbformat": 4,
 "nbformat_minor": 5
}
