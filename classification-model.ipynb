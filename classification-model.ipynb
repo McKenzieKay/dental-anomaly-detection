{
 "cells": [
  {
   "cell_type": "markdown",
   "metadata": {},
   "source": [
    "## Loading Packages"
   ]
  },
  {
   "cell_type": "code",
   "execution_count": 3,
   "metadata": {},
   "outputs": [
    {
     "name": "stdout",
     "output_type": "stream",
     "text": [
      "Collecting opencv-python\n",
      "  Downloading opencv_python-4.5.4.58-cp38-cp38-win_amd64.whl (35.1 MB)\n",
      "Requirement already satisfied: numpy>=1.17.3 in c:\\users\\ajv13\\anaconda3\\lib\\site-packages (from opencv-python) (1.19.5)\n",
      "Installing collected packages: opencv-python\n",
      "Successfully installed opencv-python-4.5.4.58\n"
     ]
    },
    {
     "name": "stderr",
     "output_type": "stream",
     "text": [
      "WARNING: You are using pip version 21.1.2; however, version 21.3.1 is available.\n",
      "You should consider upgrading via the 'c:\\users\\ajv13\\anaconda3\\python.exe -m pip install --upgrade pip' command.\n"
     ]
    }
   ],
   "source": [
    "!pip3 install torch==1.9.1+cu102 torchvision==0.10.1+cu102 torchaudio===0.9.1 -f https://download.pytorch.org/whl/torch_stable.html"
   ]
  },
  {
   "cell_type": "code",
   "execution_count": 1,
   "metadata": {},
   "outputs": [],
   "source": [
    "import os\n",
    "import cv2\n",
    "import torch\n",
    "import torchvision\n",
    "import numpy as np\n",
    "import pandas as pd\n",
    "import torch.utils.data as data"
   ]
  },
  {
   "cell_type": "code",
   "execution_count": 2,
   "metadata": {},
   "outputs": [],
   "source": [
    "from processing_functions import *"
   ]
  },
  {
   "cell_type": "markdown",
   "metadata": {},
   "source": [
    "## Making Data and Data Loader"
   ]
  },
  {
   "cell_type": "markdown",
   "metadata": {},
   "source": [
    "### _Smote_"
   ]
  },
  {
   "cell_type": "code",
   "execution_count": null,
   "metadata": {},
   "outputs": [],
   "source": [
    "class TeethDataLoader_wSMOTE(data.Dataset): \n",
    "    \n",
    "    def __init__(self, train_dataloader):\n",
    "        self.images, self.labels = SMOTE_Balance(train_dataloader)\n",
    "           \n",
    "    def __len__(self):\n",
    "        return len(self.images)\n",
    "\n",
    "    def __getitem__(self, index):\n",
    "        img = self.images[index]\n",
    "        label = self.labels[index]               # class # \n",
    "        \n",
    "        return img.float(), torch.FloatTensor([label])# returns tensor of modified image and label"
   ]
  },
  {
   "cell_type": "markdown",
   "metadata": {},
   "source": [
    "### _Upsampling_"
   ]
  },
  {
   "cell_type": "code",
   "execution_count": null,
   "metadata": {},
   "outputs": [],
   "source": [
    "class TeethDataLoader_Simplified(data.Dataset):\n",
    "    \n",
    "    def __init__(self, path_to_df, included_anomalies):\n",
    "        df = pd.read_csv(path_to_df)\n",
    "        df = df[df['anomaly_code'].isin(include_anomalies)]\n",
    "        self.images, self.labels = df['file_paths'], df['anomaly_code']\n",
    "        \n",
    "    def __len__(self):\n",
    "        return len(self.images)\n",
    "\n",
    "    def __getitem__(self, index):\n",
    "        img = cv2.imread(self.images[index])     # loads image from file\n",
    "        img = cv2.resize(img, (224, 224))        # resize image to 224x224\n",
    "        img = np.array(img, dtype=np.float32)    # change data type to float\n",
    "        img = (img / 255.)                       # normalize colors to be 0-1\n",
    "        img = img[:, :, (2, 1, 0)]               # reorder RGB\n",
    "        img = torchvision.transforms.ToTensor()(img)  # convert to tensor\n",
    "        label = self.labels[index]               # 1 or 0\n",
    "        \n",
    "        return img.float(), torch.FloatTensor([label]) # returns tensor of modified image and label\n",
    "        \n",
    "   "
   ]
  },
  {
   "cell_type": "markdown",
   "metadata": {},
   "source": [
    "## Old Loader"
   ]
  },
  {
   "cell_type": "code",
   "execution_count": null,
   "metadata": {},
   "outputs": [],
   "source": [
    "class TeethDataLoader(data.Dataset): # input is folder name where folders of teeth are stored\n",
    "                                        # requires overwrite __getitem__(), supporting fetching a data sample for a given key\n",
    "                                        # can also overwrite __len__(), which is expected to return the size of the dataset\n",
    "\n",
    "    \n",
    "    def __init__(self, path_to_df): # path below = ./training_images/\n",
    "                \n",
    "        xray_filenames = os.listdir(xray_path)\n",
    "        anomaly_filenames = os.listdir(anomaly_path)\n",
    "        segmentation_filenames = os.listdir(segmentation_path)\n",
    "\n",
    "        output_path = 'SegmentedTeethImages/'\n",
    "\n",
    "        for i in range(len(anomaly_filenames)):\n",
    "            # Create dataframe with tooth number\n",
    "            anomalies_df = anomaly_matching(anomaly_path + anomaly_filenames[i], \n",
    "                                            segmentation_path + segmentation_filenames[i], \n",
    "                                            io.imread(xray_path + xray_filenames[i]).shape, \n",
    "                                            normalized=True)\n",
    "            anomalies_df = remove_duplicates(anomalies_df)\n",
    "            #anomalies_df = anomalies_df[(anomalies_df['anomaly_category'] == 0) | (anomalies_df['anomaly_category'] == 1)]\n",
    "            \n",
    "            for index, row in anomalies_df.iterrows():\n",
    "                yolo_coord = row[['x_center', 'y_center', 'width', 'height']].to_list()\n",
    "                tooth_file = extract_image(xray_path + xray_filenames[i],\n",
    "                                           yolo_coord, \n",
    "                                           int(row['tooth_number']), \n",
    "                                           output_folder=output_path, \n",
    "                                           print_names=False)\n",
    "                self.images.append(tooth_file)\n",
    "                self.labels.append(row['anomaly_category'])\n",
    "                \n",
    "                if add_rotation:\n",
    "                    rotated_images = image_rotation(xray_path + xray_filenames[i], deg=rotation_deg,\n",
    "                                                    output_folder=output_path, print_names=False)\n",
    "                    rotated_labels = row['anomaly_category'] * len(rotated_images)\n",
    "                    self.images.extend(rotated_images)\n",
    "                    self.labels.extend(rotated_labels)\n",
    "                \n",
    "                if add_flip:\n",
    "                    flipped_images = image_flip(xray_path + xray_filenames[i], output_folder=output_path, print_names=False)\n",
    "                    flipped_labels = row['anomaly_category'] * len(flipped_images)\n",
    "                    self.images.extend(flipped_images)\n",
    "                    self.labels.extend(flipped_labels)\n",
    "                \n",
    "                if add_noise:\n",
    "                    noise_image = image_noise(xray_path + xray_filenames[i], sigma=.1,\n",
    "                                              output_folder=output_path, print_names=False)\n",
    "                    noise_label = row['anomaly_category']\n",
    "                    self.images.extend(noise_image)\n",
    "                    self.labels.extend(noise_label)\n",
    "                    \n",
    "                if add_blur:\n",
    "                    blur_image = image_gauss_blur(xray_path + xray_filenames[i], sigma=1,\n",
    "                                                  output_folder=output_path, print_names=False)\n",
    "                    blur_label = row['anomaly_category']\n",
    "                    self.images.extend(noise_image)\n",
    "                    self.labels.extend(noise_label)\n",
    "\n",
    "    def __len__(self):\n",
    "        return len(self.images)\n",
    "\n",
    "    def __getitem__(self, index):\n",
    "        img = cv2.imread(self.images[index])     # loads image from file\n",
    "        img = cv2.resize(img, (224, 224))        # resize image to 224x224\n",
    "        img = np.array(img, dtype=np.float32)    # change data type to float\n",
    "        img = (img / 255.)                       # normalize colors to be 0-1\n",
    "        img = img[:, :, (2, 1, 0)]               # reorder RGB\n",
    "        img = torchvision.transforms.ToTensor()(img)  # convert to tensor\n",
    "        label = self.labels[index]               # 1 or 0\n",
    "        \n",
    "        return img.float(), torch.FloatTensor([label]) # returns tensor of modified image and label"
   ]
  },
  {
   "cell_type": "markdown",
   "metadata": {},
   "source": [
    "## Model"
   ]
  },
  {
   "cell_type": "code",
   "execution_count": 98,
   "metadata": {},
   "outputs": [],
   "source": [
    "import math\n",
    "import torch.nn as nn\n",
    "import torch.nn.functional as F"
   ]
  },
  {
   "cell_type": "code",
   "execution_count": 98,
   "metadata": {},
   "outputs": [],
   "source": [
    "class BasicConv(nn.Module):\n",
    "    # initialize class\n",
    "    def __init__(self, in_planes, out_planes, kernel_size, stride=1, \n",
    "                 padding=0, dilation=1, groups=1, relu=True, bn=True, bias=False):\n",
    "        super(BasicConv, self).__init__()\n",
    "        self.out_channels = out_planes\n",
    "        # def conv layer, in_planes/out_planes = size of features\n",
    "        self.conv = nn.Conv2d(in_planes, out_planes, \n",
    "                              kernel_size=kernel_size, stride=stride, \n",
    "                              padding=padding, dilation=dilation,\n",
    "                              groups=groups, bias=bias)\n",
    "        # batch normalization - normalization of the layers' inputs by re-centering and re-scaling\n",
    "        self.bn = nn.BatchNorm2d(out_planes,eps=1e-5, momentum=0.01, affine=True) if bn else None\n",
    "        # ReLu activation\n",
    "        self.relu = nn.ReLU() if relu else None\n",
    "\n",
    "    # create feed-forward network for conv layer\n",
    "    def forward(self, x):\n",
    "        x = self.conv(x)           # only 1 layer\n",
    "        if self.bn is not None:\n",
    "            x = self.bn(x)\n",
    "        if self.relu is not None:\n",
    "            x = self.relu(x)\n",
    "        return x\n",
    "\n",
    "    \n",
    "    \n",
    "class Flatten(nn.Module):\n",
    "    def forward(self, x):\n",
    "        return x.view(x.size(0), -1) # reshape to flatten tensor which is necessary in order to pass data into a linear layer\n",
    "                                     # add -1\n",
    "                                     # no flatten function in pytorch so need to create it\n",
    "\n",
    "    \n",
    "    \n",
    "class ChannelGate(nn.Module):\n",
    "    def __init__(self, gate_channels, reduction_ratio=16, pool_types=['avg', 'max']):\n",
    "        super(ChannelGate, self).__init__()\n",
    "        self.gate_channels = gate_channels\n",
    "        self.mlp = nn.Sequential(\n",
    "            Flatten(),\n",
    "            nn.Linear(gate_channels, gate_channels // reduction_ratio),\n",
    "            nn.ReLU(),\n",
    "            nn.Linear(gate_channels // reduction_ratio, gate_channels)\n",
    "            )\n",
    "        self.pool_types = pool_types\n",
    "    def forward(self, x):\n",
    "        channel_att_sum = None\n",
    "        for pool_type in self.pool_types:\n",
    "            if pool_type=='avg':\n",
    "                avg_pool = F.avg_pool2d( x, (x.size(2), x.size(3)), stride=(x.size(2), x.size(3)))\n",
    "                channel_att_raw = self.mlp( avg_pool )\n",
    "            elif pool_type=='max':\n",
    "                max_pool = F.max_pool2d( x, (x.size(2), x.size(3)), stride=(x.size(2), x.size(3)))\n",
    "                channel_att_raw = self.mlp( max_pool )\n",
    "            elif pool_type=='lp':\n",
    "                lp_pool = F.lp_pool2d( x, 2, (x.size(2), x.size(3)), stride=(x.size(2), x.size(3)))\n",
    "                channel_att_raw = self.mlp( lp_pool )\n",
    "            elif pool_type=='lse':\n",
    "                # LSE pool only\n",
    "                lse_pool = logsumexp_2d(x)\n",
    "                channel_att_raw = self.mlp( lse_pool )\n",
    "\n",
    "            if channel_att_sum is None:\n",
    "                channel_att_sum = channel_att_raw\n",
    "            else:\n",
    "                channel_att_sum = channel_att_sum + channel_att_raw\n",
    "\n",
    "        scale = F.sigmoid( channel_att_sum ).unsqueeze(2).unsqueeze(3).expand_as(x)\n",
    "        return x * scale\n",
    "\n",
    "    \n",
    "    \n",
    "def logsumexp_2d(tensor):\n",
    "    tensor_flatten = tensor.view(tensor.size(0), tensor.size(1), -1)\n",
    "    s, _ = torch.max(tensor_flatten, dim=2, keepdim=True)\n",
    "    outputs = s + (tensor_flatten - s).exp().sum(dim=2, keepdim=True).log()\n",
    "    return outputs\n",
    "\n",
    "\n",
    "\n",
    "class ChannelPool(nn.Module):\n",
    "    def forward(self, x):\n",
    "        return torch.cat( (torch.max(x,1)[0].unsqueeze(1), torch.mean(x,1).unsqueeze(1)), dim=1 )\n",
    "\n",
    "    \n",
    "    \n",
    "class SpatialGate(nn.Module):\n",
    "    def __init__(self):\n",
    "        super(SpatialGate, self).__init__()\n",
    "        kernel_size = 7\n",
    "        self.compress = ChannelPool()\n",
    "        self.spatial = BasicConv(2, 1, kernel_size, stride=1, padding=(kernel_size-1) // 2, relu=False)\n",
    "    def forward(self, x):\n",
    "        x_compress = self.compress(x)\n",
    "        x_out = self.spatial(x_compress)\n",
    "        scale = F.sigmoid(x_out) # broadcasting\n",
    "        return x * scale\n",
    "\n",
    "    \n",
    "    \n",
    "class CBAM(nn.Module):\n",
    "    def __init__(self, gate_channels, reduction_ratio=16, pool_types=['avg', 'max'], no_spatial=False):\n",
    "        super(CBAM, self).__init__()\n",
    "        self.ChannelGate = ChannelGate(gate_channels, reduction_ratio, pool_types)\n",
    "        self.no_spatial=no_spatial\n",
    "        if not no_spatial:\n",
    "            self.SpatialGate = SpatialGate()\n",
    "    def forward(self, x):\n",
    "        x_out = self.ChannelGate(x)\n",
    "        if not self.no_spatial:\n",
    "            x_out = self.SpatialGate(x_out)\n",
    "        return x_out"
   ]
  },
  {
   "cell_type": "code",
   "execution_count": 116,
   "metadata": {},
   "outputs": [],
   "source": [
    "import torch\n",
    "import torch.nn as nn\n",
    "import torch.nn.functional as F\n",
    "import math\n",
    "from torch.nn import init\n",
    "\n",
    "def conv3x3(in_planes, out_planes, stride=1):\n",
    "    \"3x3 convolution with padding\"\n",
    "    return nn.Conv2d(in_planes, out_planes, kernel_size=3, stride=stride,\n",
    "                     padding=1, bias=False)\n",
    "\n",
    "class BasicBlock(nn.Module):\n",
    "    expansion = 1\n",
    "\n",
    "    def __init__(self, inplanes, planes, stride=1, downsample=None, use_cbam=False):\n",
    "        super(BasicBlock, self).__init__()\n",
    "        self.conv1 = conv3x3(inplanes, planes, stride)\n",
    "        self.bn1 = nn.BatchNorm2d(planes)\n",
    "        self.relu = nn.ReLU(inplace=True)\n",
    "        self.conv2 = conv3x3(planes, planes)\n",
    "        self.bn2 = nn.BatchNorm2d(planes)\n",
    "        self.downsample = downsample\n",
    "        self.stride = stride\n",
    "\n",
    "        if use_cbam:\n",
    "            self.cbam = CBAM( planes, 16 )\n",
    "        else:\n",
    "            self.cbam = None\n",
    "\n",
    "    def forward(self, x):\n",
    "        residual = x\n",
    "\n",
    "        out = self.conv1(x)\n",
    "        out = self.bn1(out)\n",
    "        out = self.relu(out)\n",
    "\n",
    "        out = self.conv2(out)\n",
    "        out = self.bn2(out)\n",
    "\n",
    "        if self.downsample is not None:\n",
    "            residual = self.downsample(x)\n",
    "\n",
    "        if not self.cbam is None:\n",
    "            out = self.cbam(out)\n",
    "\n",
    "        out += residual\n",
    "        out = self.relu(out)\n",
    "\n",
    "        return out\n",
    "\n",
    "class Bottleneck(nn.Module):\n",
    "    expansion = 4\n",
    "\n",
    "    def __init__(self, inplanes, planes, stride=1, downsample=None, use_cbam=False):\n",
    "        super(Bottleneck, self).__init__()\n",
    "        self.conv1 = nn.Conv2d(inplanes, planes, kernel_size=1, bias=False)\n",
    "        self.bn1 = nn.BatchNorm2d(planes)\n",
    "        self.conv2 = nn.Conv2d(planes, planes, kernel_size=3, stride=stride,\n",
    "                               padding=1, bias=False)\n",
    "        self.bn2 = nn.BatchNorm2d(planes)\n",
    "        self.conv3 = nn.Conv2d(planes, planes * 4, kernel_size=1, bias=False)\n",
    "        self.bn3 = nn.BatchNorm2d(planes * 4)\n",
    "        self.relu = nn.ReLU(inplace=True)\n",
    "        self.downsample = downsample\n",
    "        self.stride = stride\n",
    "\n",
    "        if use_cbam:\n",
    "            self.cbam = CBAM( planes * 4, 16 )\n",
    "        else:\n",
    "            self.cbam = None\n",
    "\n",
    "    def forward(self, x):\n",
    "        residual = x\n",
    "\n",
    "        out = self.conv1(x)\n",
    "        out = self.bn1(out)\n",
    "        out = self.relu(out)\n",
    "\n",
    "        out = self.conv2(out)\n",
    "        out = self.bn2(out)\n",
    "        out = self.relu(out)\n",
    "\n",
    "        out = self.conv3(out)\n",
    "        out = self.bn3(out)\n",
    "\n",
    "        if self.downsample is not None:\n",
    "            residual = self.downsample(x)\n",
    "\n",
    "        if not self.cbam is None:\n",
    "            out = self.cbam(out)\n",
    "\n",
    "        out += residual\n",
    "        out = self.relu(out)\n",
    "\n",
    "        return out\n",
    "\n",
    "class ResNet(nn.Module):\n",
    "    def __init__(self, block, layers,  network_type, num_classes, att_type=None):\n",
    "        self.inplanes = 64\n",
    "        super(ResNet, self).__init__()\n",
    "\n",
    "        self.network_type = network_type\n",
    "        # different model config between ImageNet and CIFAR \n",
    "        if network_type == \"ImageNet\":\n",
    "            self.conv1 = nn.Conv2d(3, 64, kernel_size=7, stride=2, padding=3, bias=False)\n",
    "            self.maxpool = nn.MaxPool2d(kernel_size=3, stride=2, padding=1)\n",
    "            self.avgpool = nn.AvgPool2d(7)\n",
    "        else:\n",
    "            self.conv1 = nn.Conv2d(3, 64, kernel_size=3, stride=1, padding=1, bias=False)\n",
    "\n",
    "        self.bn1 = nn.BatchNorm2d(64)\n",
    "        self.relu = nn.ReLU(inplace=True)\n",
    "\n",
    "        if att_type=='BAM':\n",
    "            self.bam1 = BAM(64*block.expansion)\n",
    "            self.bam2 = BAM(128*block.expansion)\n",
    "            self.bam3 = BAM(256*block.expansion)\n",
    "        else:\n",
    "            self.bam1, self.bam2, self.bam3 = None, None, None\n",
    "\n",
    "        self.layer1 = self._make_layer(block, 64,  layers[0], att_type=att_type)\n",
    "        self.layer2 = self._make_layer(block, 128, layers[1], stride=2, att_type=att_type)\n",
    "        self.layer3 = self._make_layer(block, 256, layers[2], stride=2, att_type=att_type)\n",
    "        self.layer4 = self._make_layer(block, 512, layers[3], stride=2, att_type=att_type)\n",
    "\n",
    "        self.fc = nn.Linear(512 * block.expansion, num_classes)\n",
    "        #self.fc = nn.Linear(512 * block.expansion, 1) # linear is output of probability distributions\n",
    "        self.softmax = torch.nn.Sigmoid()\n",
    "        init.kaiming_normal(self.fc.weight)\n",
    "        for key in self.state_dict():\n",
    "            if key.split('.')[-1]==\"weight\":\n",
    "                if \"conv\" in key:\n",
    "                    init.kaiming_normal(self.state_dict()[key], mode='fan_out')\n",
    "                if \"bn\" in key:\n",
    "                    if \"SpatialGate\" in key:\n",
    "                        self.state_dict()[key][...] = 0\n",
    "                    else:\n",
    "                        self.state_dict()[key][...] = 1\n",
    "            elif key.split(\".\")[-1]=='bias':\n",
    "                self.state_dict()[key][...] = 0\n",
    "\n",
    "    def _make_layer(self, block, planes, blocks, stride=1, att_type=None):\n",
    "        downsample = None\n",
    "        if stride != 1 or self.inplanes != planes * block.expansion:\n",
    "            downsample = nn.Sequential(\n",
    "                nn.Conv2d(self.inplanes, planes * block.expansion,\n",
    "                          kernel_size=1, stride=stride, bias=False),\n",
    "                nn.BatchNorm2d(planes * block.expansion),\n",
    "            )\n",
    "\n",
    "        layers = []\n",
    "        layers.append(block(self.inplanes, planes, stride, downsample, use_cbam=att_type=='CBAM'))\n",
    "        self.inplanes = planes * block.expansion\n",
    "        for i in range(1, blocks):\n",
    "            layers.append(block(self.inplanes, planes, use_cbam=att_type=='CBAM'))\n",
    "\n",
    "        return nn.Sequential(*layers)\n",
    "\n",
    "    def forward(self, x):\n",
    "        x = self.conv1(x)\n",
    "        x = self.bn1(x)\n",
    "        x = self.relu(x)\n",
    "        if self.network_type == \"ImageNet\":\n",
    "            x = self.maxpool(x)\n",
    "\n",
    "        x = self.layer1(x)\n",
    "        if not self.bam1 is None:\n",
    "            x = self.bam1(x)\n",
    "\n",
    "        x = self.layer2(x)\n",
    "        if not self.bam2 is None:\n",
    "            x = self.bam2(x)\n",
    "\n",
    "        x = self.layer3(x)\n",
    "        if not self.bam3 is None:\n",
    "            x = self.bam3(x)\n",
    "\n",
    "        x = self.layer4(x)\n",
    "\n",
    "        if self.network_type == \"ImageNet\":\n",
    "            x = self.avgpool(x)\n",
    "        else:\n",
    "            x = F.avg_pool2d(x, 4)\n",
    "            \n",
    "        x = x.view(x.size(0), -1)\n",
    "        x = self.fc(x)\n",
    "\n",
    "        #return F.normalize(x, dim=-1)\n",
    "        return self.softmax(x)\n",
    "def ResidualNet(network_type, depth, num_classes, att_type):\n",
    "\n",
    "    assert network_type in [\"ImageNet\", \"CIFAR10\", \"CIFAR100\"], \"network type should be ImageNet or CIFAR10 / CIFAR100\"\n",
    "    assert depth in [5, 18, 34, 50, 101], 'network depth should be 18, 34, 50 or 101'\n",
    "\n",
    "    if depth == 18:\n",
    "        model = ResNet(BasicBlock, [2, 2, 2, 2], network_type, num_classes, att_type)\n",
    "        \n",
    "    elif depth == 5:\n",
    "        model = ResNet(BasicBlock, [1, 1, 2, 1], network_type, num_classes, att_type)\n",
    "\n",
    "    elif depth == 34:\n",
    "        model = ResNet(BasicBlock, [3, 4, 6, 3], network_type, num_classes, att_type)\n",
    "\n",
    "    elif depth == 50:\n",
    "        model = ResNet(Bottleneck, [3, 4, 6, 3], network_type, num_classes, att_type)\n",
    "\n",
    "    elif depth == 101:\n",
    "        model = ResNet(Bottleneck, [3, 4, 23, 3], network_type, num_classes, att_type)\n",
    "\n",
    "    return model"
   ]
  },
  {
   "cell_type": "markdown",
   "metadata": {},
   "source": [
    "# Training"
   ]
  },
  {
   "cell_type": "code",
   "execution_count": 100,
   "metadata": {},
   "outputs": [],
   "source": [
    "import torch\n",
    "import torch.nn as nn\n",
    "import torch.optim as optim\n",
    "from tqdm import tqdm\n",
    "from sklearn.model_selection import train_test_split\n",
    "from sklearn.metrics import classification_report"
   ]
  },
  {
   "cell_type": "markdown",
   "metadata": {},
   "source": [
    "Change confusion matrix for model 1"
   ]
  },
  {
   "cell_type": "code",
   "execution_count": 118,
   "metadata": {},
   "outputs": [],
   "source": [
    "best_accuracy = 0\n",
    "\n",
    "def train(train_loader, model, classes, optimizer, epoch):\n",
    "    model.train()\n",
    "    running_mse = 0\n",
    "    batch_idx = 0\n",
    "    correct, total = 0, 0\n",
    "    confusion_matrix = torch.zeros(classes, classes)\n",
    " \n",
    "    pd, gt = [], []\n",
    "    for (x, y) in tqdm(train_loader):\n",
    "        batch_idx += 1\n",
    "        x = x.to(device) # move data to GPU\n",
    "        y = y.to(device) # move data to GPU\n",
    "\n",
    "        out = model(x)\n",
    "        criterion = nn.CrossEntropyLoss()\n",
    "        #criterion = nn.BCELoss()                    # binary cross entropy loss\n",
    "        loss = criterion(out, y.squeeze(1).long())\n",
    "        #loss = criterion(out.squeeze(1), y.squeeze(1)) # calculate loss based on pred output vs actuals y, \n",
    "                                                       # .squeeze removes dimensions of 1\n",
    "        running_mse += loss.item() \n",
    "        optimizer.zero_grad()        # start gradient at 0\n",
    "        loss.backward()\n",
    "        optimizer.step()\n",
    "\n",
    "        _, predicted = torch.max(out.data, 1)\n",
    "        #predicted = (out.data > 0.5).int()\n",
    "\n",
    "        for p in predicted:\n",
    "            pd.append(p)\n",
    "        for g in y.squeeze(1):\n",
    "            gt.append(g)\n",
    "\n",
    "        total += y.squeeze(1).size(0)\n",
    "        correct += (predicted == y.squeeze(1)).sum().item()\n",
    "        for t, p in zip(y.squeeze(1).view(-1), predicted.view(-1)):\n",
    "            confusion_matrix[t.long(), p.long()] += 1\n",
    "    \n",
    "    pd = torch.as_tensor(pd).numpy()\n",
    "    gt = torch.as_tensor(gt).numpy()\n",
    "\n",
    "    running_mse = running_mse / batch_idx\n",
    "    print('Epoch %d, loss = %.4f, batch_idx= %d' % (epoch, running_mse, batch_idx))\n",
    "    print('Epoch: %d Accuracy of the Train Images: %f' %(epoch, 100 * correct / total))\n",
    "    print('Confusion Matrix', np.round(confusion_matrix.cpu().numpy(), 2))\n",
    "    print('Classification Report', classification_report(gt, pd))\n",
    "    \n",
    "\n",
    "def valid(valid_loader, model, classes, epoch):\n",
    "    global best_accuracy\n",
    "    model.eval()\n",
    "    correct, total = 0, 0\n",
    "    running_mse = 0\n",
    "    confusion_matrix = torch.zeros(classes, classes)\n",
    "    pd, gt = [], []\n",
    "    with torch.no_grad():\n",
    "        for x, y in tqdm(valid_loader):\n",
    "            x = x.to(device)\n",
    "            y = y.to(device)\n",
    "\n",
    "            out = model(x) # add .to(device) ???\n",
    "            criterion = nn.CrossEntropyLoss()\n",
    "            #criterion = nn.BCELoss()\n",
    "            loss = criterion(out, y.squeeze(1).long())\n",
    "            #loss = criterion(out.squeeze(1), y.squeeze(1))\n",
    "            running_mse += loss.item()\n",
    "            _, predicted = torch.max(out.data, 1)\n",
    "            #predicted = (out.data > 0.5).int()\n",
    "\n",
    "            for p in predicted:\n",
    "                pd.append(p)\n",
    "            for g in y.squeeze(1):\n",
    "                gt.append(g)\n",
    "\n",
    "            total += y.squeeze(1).size(0)\n",
    "            correct += (predicted == y.squeeze(1)).sum().item()\n",
    "            for t, p in zip(y.squeeze(1).view(-1), predicted.view(-1)):\n",
    "                confusion_matrix[t.long(), p.long()] += 1\n",
    "\n",
    "    if best_accuracy < 100 * (correct/total):\n",
    "        best_accuracy = 100 * (correct/total)\n",
    "        \n",
    "    pd = torch.as_tensor(pd).numpy()\n",
    "    gt = torch.as_tensor(gt).numpy()\n",
    "      \n",
    "    print('Epoch: %d Accuracy of the Valid Images: %f' %(epoch, 100 * correct / total))\n",
    "    print('Confusion Matrix', np.round(confusion_matrix.cpu().numpy(), 2))\n",
    "    print('Classification Report', classification_report(gt, pd))"
   ]
  },
  {
   "cell_type": "markdown",
   "metadata": {},
   "source": [
    "### GPU"
   ]
  },
  {
   "cell_type": "code",
   "execution_count": null,
   "metadata": {},
   "outputs": [],
   "source": [
    "# check if GPU available and assign it\n",
    "torch.cuda.is_available()\n",
    "device = torch.device('cuda',1)\n",
    "device"
   ]
  },
  {
   "cell_type": "markdown",
   "metadata": {},
   "source": [
    "#### _Model 1_"
   ]
  },
  {
   "cell_type": "code",
   "execution_count": null,
   "metadata": {},
   "outputs": [],
   "source": [
    "epochs = 50\n",
    "\n",
    "model = ResidualNet('ImageNet', 5, 8, 'CBAM')\n",
    "model.to(device) # sends model to GPU\n",
    "optimizer = optim.Adam(model.parameters(), lr=0.00003)\n",
    "\n",
    "path_to_df =\n",
    "\n",
    "batch_size = 64\n",
    "epochs = 100\n",
    "dataset = TeethDataLoader_simplified(path_to_df, [0,1, 2, 3, 4, 5, 6, 7])\n",
    "\n",
    "\n",
    "# generate shuffled sequence of numbers based on how many images, split train/test\n",
    "train_idx, valid_idx= train_test_split(np.arange(len(dataset.labels)), test_size=0.2, shuffle=True, stratify=dataset.labels)\n",
    "\n",
    "# Samples elements randomly from a given list of indices, without replacement\n",
    "train_sampler = torch.utils.data.SubsetRandomSampler(train_idx)\n",
    "valid_sampler = torch.utils.data.SubsetRandomSampler(valid_idx)\n",
    "\n",
    "# loads images associated with ids/samples from above\n",
    "train_loader = torch.utils.data.DataLoader(dataset, batch_size=batch_size, sampler=train_sampler)\n",
    "valid_loader = torch.utils.data.DataLoader(dataset, batch_size=batch_size, sampler=valid_sampler)"
   ]
  },
  {
   "cell_type": "markdown",
   "metadata": {},
   "source": [
    "#### _*smote_"
   ]
  },
  {
   "cell_type": "code",
   "execution_count": null,
   "metadata": {},
   "outputs": [],
   "source": [
    "dataset_smote = TeethDataLoader_wSMOTE(train_loader)\n",
    "train_loader_smote = torch.utils.data.DataLoader(dataset_smote, batch_size=batch_size)"
   ]
  },
  {
   "cell_type": "code",
   "execution_count": null,
   "metadata": {},
   "outputs": [],
   "source": [
    "for epoch in range(1, epoch+1):\n",
    "    train(train_loader_smote, model, optimizer, epoch)\n",
    "    valid(valid_loader, model, epoch)"
   ]
  },
  {
   "cell_type": "markdown",
   "metadata": {},
   "source": [
    "#### _Model 2_"
   ]
  },
  {
   "cell_type": "code",
   "execution_count": null,
   "metadata": {},
   "outputs": [],
   "source": [
    "epochs = 50\n",
    "\n",
    "model2 = ResidualNet('ImageNet', 5, 9, 'CBAM')\n",
    "model2.to(device) # sends model to GPU\n",
    "optimizer = optim.Adam(model2.parameters(), lr=0.00003)\n",
    "\n",
    "path_to_df =\n",
    "\n",
    "batch_size = 64\n",
    "epochs = 100\n",
    "dataset2 = TeethDataLoader_simplified(path_to_df, [0,1, 2, 3, 4, 5, 6, 7, 8])\n",
    "\n",
    "# generate shuffled sequence of numbers based on how many images, split train/test\n",
    "train_idx, valid_idx= train_test_split(np.arange(len(dataset2.labels)), test_size=0.2, shuffle=True, stratify=dataset.labels)\n",
    "\n",
    "# Samples elements randomly from a given list of indices, without replacement\n",
    "train_sampler = torch.utils.data.SubsetRandomSampler(train_idx)\n",
    "valid_sampler = torch.utils.data.SubsetRandomSampler(valid_idx)\n",
    "\n",
    "# loads images associated with ids/samples from above\n",
    "train_loader = torch.utils.data.DataLoader(dataset2, batch_size=batch_size, sampler=train_sampler)\n",
    "valid_loader = torch.utils.data.DataLoader(dataset2, batch_size=batch_size, sampler=valid_sampler)"
   ]
  },
  {
   "cell_type": "markdown",
   "metadata": {},
   "source": [
    "#### _*smote_"
   ]
  },
  {
   "cell_type": "code",
   "execution_count": null,
   "metadata": {},
   "outputs": [],
   "source": [
    "dataset_smote = TeethDataLoader_wSMOTE(train_loader)\n",
    "train_loader_smote = torch.utils.data.DataLoader(dataset_smote, batch_size=batch_size)"
   ]
  },
  {
   "cell_type": "code",
   "execution_count": null,
   "metadata": {},
   "outputs": [],
   "source": [
    "for epoch in range(1, epoch+1):\n",
    "    train(train_loader_smote, model, optimizer, epoch)\n",
    "    valid(valid_loader, model, epoch)"
   ]
  },
  {
   "cell_type": "markdown",
   "metadata": {},
   "source": [
    "# EDA"
   ]
  },
  {
   "cell_type": "markdown",
   "metadata": {},
   "source": [
    "#### _Model 1_"
   ]
  },
  {
   "cell_type": "code",
   "execution_count": null,
   "metadata": {},
   "outputs": [],
   "source": [
    "print(len(dataset.labels))\n",
    "print(len(dataset.images))\n",
    "#print(len(dataset2.tooth_numbers))"
   ]
  },
  {
   "cell_type": "code",
   "execution_count": null,
   "metadata": {},
   "outputs": [],
   "source": [
    "for i in range(0,8):\n",
    "    print(i, \":\", dataset.labels.count(i))"
   ]
  },
  {
   "cell_type": "code",
   "execution_count": null,
   "metadata": {},
   "outputs": [],
   "source": [
    "plt.hist(dataset.labels)\n",
    "plt.xlabel('class')\n",
    "plt.ylabel('count')"
   ]
  },
  {
   "cell_type": "markdown",
   "metadata": {},
   "source": [
    "#### _Model 2_"
   ]
  },
  {
   "cell_type": "code",
   "execution_count": null,
   "metadata": {},
   "outputs": [],
   "source": [
    "print(len(dataset2.labels))\n",
    "print(len(dataset2.images))\n",
    "#print(len(dataset.tooth_numbers))"
   ]
  },
  {
   "cell_type": "code",
   "execution_count": null,
   "metadata": {
    "scrolled": true
   },
   "outputs": [],
   "source": [
    "for i in range(0,9):\n",
    "    print(i, \":\", dataset2.labels.count(i))"
   ]
  },
  {
   "cell_type": "code",
   "execution_count": null,
   "metadata": {
    "scrolled": true
   },
   "outputs": [],
   "source": [
    "plt.hist(dataset2.labels)\n",
    "plt.xlabel('class')\n",
    "plt.ylabel('count')"
   ]
  },
  {
   "cell_type": "markdown",
   "metadata": {},
   "source": [
    "# Run Model"
   ]
  },
  {
   "cell_type": "markdown",
   "metadata": {},
   "source": [
    "#### _Model 1_"
   ]
  },
  {
   "cell_type": "code",
   "execution_count": null,
   "metadata": {},
   "outputs": [],
   "source": [
    "for epoch in range(1, epochs+1):\n",
    "    train(train_loader, model, 8, optimizer, epoch)\n",
    "    valid(valid_loader, model, 8, epoch)"
   ]
  },
  {
   "cell_type": "code",
   "execution_count": null,
   "metadata": {},
   "outputs": [],
   "source": [
    "PATH = 'model1.pth'\n",
    "torch.save(model.state_dict(), PATH)\n"
   ]
  },
  {
   "cell_type": "markdown",
   "metadata": {},
   "source": [
    "#### _Model 2_"
   ]
  },
  {
   "cell_type": "code",
   "execution_count": 120,
   "metadata": {
    "scrolled": true
   },
   "outputs": [
    {
     "name": "stderr",
     "output_type": "stream",
     "text": [
      "<ipython-input-116-12cc02487420>:129: UserWarning: nn.init.kaiming_normal is now deprecated in favor of nn.init.kaiming_normal_.\n",
      "  init.kaiming_normal(self.fc.weight)\n",
      "<ipython-input-116-12cc02487420>:133: UserWarning: nn.init.kaiming_normal is now deprecated in favor of nn.init.kaiming_normal_.\n",
      "  init.kaiming_normal(self.state_dict()[key], mode='fan_out')\n",
      "  0%|          | 0/366 [00:00<?, ?it/s]C:\\Users\\admin\\.conda\\envs\\dental1_yolo\\lib\\site-packages\\torch\\nn\\functional.py:1805: UserWarning: nn.functional.sigmoid is deprecated. Use torch.sigmoid instead.\n",
      "  warnings.warn(\"nn.functional.sigmoid is deprecated. Use torch.sigmoid instead.\")\n",
      "100%|██████████| 366/366 [00:54<00:00,  6.71it/s]\n"
     ]
    },
    {
     "name": "stdout",
     "output_type": "stream",
     "text": [
      "Epoch 1, loss = 0.4680, batch_idx= 366\n",
      "Epoch: 1 Accuracy of the Train Images: 5068.046174\n",
      "Confusion Matrix [[18556.   173.]\n",
      " [ 4510.   151.]]\n",
      "Classification Report               precision    recall  f1-score   support\n",
      "\n",
      "         0.0       0.80      0.99      0.89     18729\n",
      "         1.0       0.47      0.03      0.06      4661\n",
      "\n",
      "    accuracy                           0.80     23390\n",
      "   macro avg       0.64      0.51      0.47     23390\n",
      "weighted avg       0.74      0.80      0.72     23390\n",
      "\n"
     ]
    },
    {
     "name": "stderr",
     "output_type": "stream",
     "text": [
      "  0%|          | 0/92 [00:00<?, ?it/s]C:\\Users\\admin\\.conda\\envs\\dental1_yolo\\lib\\site-packages\\torch\\nn\\functional.py:1805: UserWarning: nn.functional.sigmoid is deprecated. Use torch.sigmoid instead.\n",
      "  warnings.warn(\"nn.functional.sigmoid is deprecated. Use torch.sigmoid instead.\")\n",
      "100%|██████████| 92/92 [00:09<00:00,  9.51it/s]\n"
     ]
    },
    {
     "name": "stdout",
     "output_type": "stream",
     "text": [
      "Epoch: 1 Accuracy of the Valid Images: 5081.019152\n",
      "Confusion Matrix [[4654.   29.]\n",
      " [1146.   19.]]\n",
      "Classification Report               precision    recall  f1-score   support\n",
      "\n",
      "         0.0       0.80      0.99      0.89      4683\n",
      "         1.0       0.40      0.02      0.03      1165\n",
      "\n",
      "    accuracy                           0.80      5848\n",
      "   macro avg       0.60      0.51      0.46      5848\n",
      "weighted avg       0.72      0.80      0.72      5848\n",
      "\n"
     ]
    },
    {
     "name": "stderr",
     "output_type": "stream",
     "text": [
      "  0%|          | 0/366 [00:00<?, ?it/s]C:\\Users\\admin\\.conda\\envs\\dental1_yolo\\lib\\site-packages\\torch\\nn\\functional.py:1805: UserWarning: nn.functional.sigmoid is deprecated. Use torch.sigmoid instead.\n",
      "  warnings.warn(\"nn.functional.sigmoid is deprecated. Use torch.sigmoid instead.\")\n",
      "100%|██████████| 366/366 [00:54<00:00,  6.70it/s]\n"
     ]
    },
    {
     "name": "stdout",
     "output_type": "stream",
     "text": [
      "Epoch 2, loss = 0.4482, batch_idx= 366\n",
      "Epoch: 2 Accuracy of the Train Images: 4994.202651\n",
      "Confusion Matrix [[18358.   371.]\n",
      " [ 4254.   407.]]\n",
      "Classification Report               precision    recall  f1-score   support\n",
      "\n",
      "         0.0       0.81      0.98      0.89     18729\n",
      "         1.0       0.52      0.09      0.15      4661\n",
      "\n",
      "    accuracy                           0.80     23390\n",
      "   macro avg       0.67      0.53      0.52     23390\n",
      "weighted avg       0.75      0.80      0.74     23390\n",
      "\n"
     ]
    },
    {
     "name": "stderr",
     "output_type": "stream",
     "text": [
      "  0%|          | 0/92 [00:00<?, ?it/s]C:\\Users\\admin\\.conda\\envs\\dental1_yolo\\lib\\site-packages\\torch\\nn\\functional.py:1805: UserWarning: nn.functional.sigmoid is deprecated. Use torch.sigmoid instead.\n",
      "  warnings.warn(\"nn.functional.sigmoid is deprecated. Use torch.sigmoid instead.\")\n",
      "100%|██████████| 92/92 [00:09<00:00,  9.54it/s]\n"
     ]
    },
    {
     "name": "stdout",
     "output_type": "stream",
     "text": [
      "Epoch: 2 Accuracy of the Valid Images: 3699.487004\n",
      "Confusion Matrix [[3145. 1538.]\n",
      " [ 552.  613.]]\n",
      "Classification Report               precision    recall  f1-score   support\n",
      "\n",
      "         0.0       0.85      0.67      0.75      4683\n",
      "         1.0       0.28      0.53      0.37      1165\n",
      "\n",
      "    accuracy                           0.64      5848\n",
      "   macro avg       0.57      0.60      0.56      5848\n",
      "weighted avg       0.74      0.64      0.67      5848\n",
      "\n"
     ]
    },
    {
     "name": "stderr",
     "output_type": "stream",
     "text": [
      "  0%|          | 0/366 [00:00<?, ?it/s]C:\\Users\\admin\\.conda\\envs\\dental1_yolo\\lib\\site-packages\\torch\\nn\\functional.py:1805: UserWarning: nn.functional.sigmoid is deprecated. Use torch.sigmoid instead.\n",
      "  warnings.warn(\"nn.functional.sigmoid is deprecated. Use torch.sigmoid instead.\")\n",
      "100%|██████████| 366/366 [00:54<00:00,  6.66it/s]\n"
     ]
    },
    {
     "name": "stdout",
     "output_type": "stream",
     "text": [
      "Epoch 3, loss = 0.4381, batch_idx= 366\n",
      "Epoch: 3 Accuracy of the Train Images: 4951.594699\n",
      "Confusion Matrix [[18260.   469.]\n",
      " [ 4096.   565.]]\n",
      "Classification Report               precision    recall  f1-score   support\n",
      "\n",
      "         0.0       0.82      0.97      0.89     18729\n",
      "         1.0       0.55      0.12      0.20      4661\n",
      "\n",
      "    accuracy                           0.80     23390\n",
      "   macro avg       0.68      0.55      0.54     23390\n",
      "weighted avg       0.76      0.80      0.75     23390\n",
      "\n"
     ]
    },
    {
     "name": "stderr",
     "output_type": "stream",
     "text": [
      "  0%|          | 0/92 [00:00<?, ?it/s]C:\\Users\\admin\\.conda\\envs\\dental1_yolo\\lib\\site-packages\\torch\\nn\\functional.py:1805: UserWarning: nn.functional.sigmoid is deprecated. Use torch.sigmoid instead.\n",
      "  warnings.warn(\"nn.functional.sigmoid is deprecated. Use torch.sigmoid instead.\")\n",
      "100%|██████████| 92/92 [00:09<00:00,  9.49it/s]\n"
     ]
    },
    {
     "name": "stdout",
     "output_type": "stream",
     "text": [
      "Epoch: 3 Accuracy of the Valid Images: 4745.348837\n",
      "Confusion Matrix [[4376.  307.]\n",
      " [ 907.  258.]]\n",
      "Classification Report               precision    recall  f1-score   support\n",
      "\n",
      "         0.0       0.83      0.93      0.88      4683\n",
      "         1.0       0.46      0.22      0.30      1165\n",
      "\n",
      "    accuracy                           0.79      5848\n",
      "   macro avg       0.64      0.58      0.59      5848\n",
      "weighted avg       0.75      0.79      0.76      5848\n",
      "\n"
     ]
    },
    {
     "name": "stderr",
     "output_type": "stream",
     "text": [
      "  0%|          | 0/366 [00:00<?, ?it/s]C:\\Users\\admin\\.conda\\envs\\dental1_yolo\\lib\\site-packages\\torch\\nn\\functional.py:1805: UserWarning: nn.functional.sigmoid is deprecated. Use torch.sigmoid instead.\n",
      "  warnings.warn(\"nn.functional.sigmoid is deprecated. Use torch.sigmoid instead.\")\n",
      "100%|██████████| 366/366 [00:54<00:00,  6.68it/s]\n"
     ]
    },
    {
     "name": "stdout",
     "output_type": "stream",
     "text": [
      "Epoch 4, loss = 0.4307, batch_idx= 366\n",
      "Epoch: 4 Accuracy of the Train Images: 4940.282172\n",
      "Confusion Matrix [[18252.   477.]\n",
      " [ 4028.   633.]]\n",
      "Classification Report               precision    recall  f1-score   support\n",
      "\n",
      "         0.0       0.82      0.97      0.89     18729\n",
      "         1.0       0.57      0.14      0.22      4661\n",
      "\n",
      "    accuracy                           0.81     23390\n",
      "   macro avg       0.69      0.56      0.55     23390\n",
      "weighted avg       0.77      0.81      0.76     23390\n",
      "\n"
     ]
    },
    {
     "name": "stderr",
     "output_type": "stream",
     "text": [
      "  0%|          | 0/92 [00:00<?, ?it/s]C:\\Users\\admin\\.conda\\envs\\dental1_yolo\\lib\\site-packages\\torch\\nn\\functional.py:1805: UserWarning: nn.functional.sigmoid is deprecated. Use torch.sigmoid instead.\n",
      "  warnings.warn(\"nn.functional.sigmoid is deprecated. Use torch.sigmoid instead.\")\n",
      "100%|██████████| 92/92 [00:09<00:00,  9.59it/s]\n"
     ]
    },
    {
     "name": "stdout",
     "output_type": "stream",
     "text": [
      "Epoch: 4 Accuracy of the Valid Images: 4845.656635\n",
      "Confusion Matrix [[4476.  207.]\n",
      " [ 959.  206.]]\n",
      "Classification Report               precision    recall  f1-score   support\n",
      "\n",
      "         0.0       0.82      0.96      0.88      4683\n",
      "         1.0       0.50      0.18      0.26      1165\n",
      "\n",
      "    accuracy                           0.80      5848\n",
      "   macro avg       0.66      0.57      0.57      5848\n",
      "weighted avg       0.76      0.80      0.76      5848\n",
      "\n"
     ]
    },
    {
     "name": "stderr",
     "output_type": "stream",
     "text": [
      "  0%|          | 0/366 [00:00<?, ?it/s]C:\\Users\\admin\\.conda\\envs\\dental1_yolo\\lib\\site-packages\\torch\\nn\\functional.py:1805: UserWarning: nn.functional.sigmoid is deprecated. Use torch.sigmoid instead.\n",
      "  warnings.warn(\"nn.functional.sigmoid is deprecated. Use torch.sigmoid instead.\")\n",
      "100%|██████████| 366/366 [00:54<00:00,  6.66it/s]\n"
     ]
    },
    {
     "name": "stdout",
     "output_type": "stream",
     "text": [
      "Epoch 5, loss = 0.4228, batch_idx= 366\n",
      "Epoch: 5 Accuracy of the Train Images: 4911.680205\n",
      "Confusion Matrix [[18174.   555.]\n",
      " [ 3935.   726.]]\n",
      "Classification Report               precision    recall  f1-score   support\n",
      "\n",
      "         0.0       0.82      0.97      0.89     18729\n",
      "         1.0       0.57      0.16      0.24      4661\n",
      "\n",
      "    accuracy                           0.81     23390\n",
      "   macro avg       0.69      0.56      0.57     23390\n",
      "weighted avg       0.77      0.81      0.76     23390\n",
      "\n"
     ]
    },
    {
     "name": "stderr",
     "output_type": "stream",
     "text": [
      "  0%|          | 0/92 [00:00<?, ?it/s]C:\\Users\\admin\\.conda\\envs\\dental1_yolo\\lib\\site-packages\\torch\\nn\\functional.py:1805: UserWarning: nn.functional.sigmoid is deprecated. Use torch.sigmoid instead.\n",
      "  warnings.warn(\"nn.functional.sigmoid is deprecated. Use torch.sigmoid instead.\")\n",
      "100%|██████████| 92/92 [00:09<00:00,  9.55it/s]\n"
     ]
    },
    {
     "name": "stdout",
     "output_type": "stream",
     "text": [
      "Epoch: 5 Accuracy of the Valid Images: 4056.258550\n",
      "Confusion Matrix [[3612. 1071.]\n",
      " [ 608.  557.]]\n",
      "Classification Report               precision    recall  f1-score   support\n",
      "\n",
      "         0.0       0.86      0.77      0.81      4683\n",
      "         1.0       0.34      0.48      0.40      1165\n",
      "\n",
      "    accuracy                           0.71      5848\n",
      "   macro avg       0.60      0.62      0.61      5848\n",
      "weighted avg       0.75      0.71      0.73      5848\n",
      "\n"
     ]
    },
    {
     "name": "stderr",
     "output_type": "stream",
     "text": [
      "  0%|          | 0/366 [00:00<?, ?it/s]C:\\Users\\admin\\.conda\\envs\\dental1_yolo\\lib\\site-packages\\torch\\nn\\functional.py:1805: UserWarning: nn.functional.sigmoid is deprecated. Use torch.sigmoid instead.\n",
      "  warnings.warn(\"nn.functional.sigmoid is deprecated. Use torch.sigmoid instead.\")\n",
      "100%|██████████| 366/366 [00:54<00:00,  6.67it/s]\n"
     ]
    },
    {
     "name": "stdout",
     "output_type": "stream",
     "text": [
      "Epoch 6, loss = 0.4172, batch_idx= 366\n",
      "Epoch: 6 Accuracy of the Train Images: 4885.275759\n",
      "Confusion Matrix [[18131.   598.]\n",
      " [ 3815.   846.]]\n",
      "Classification Report               precision    recall  f1-score   support\n",
      "\n",
      "         0.0       0.83      0.97      0.89     18729\n",
      "         1.0       0.59      0.18      0.28      4661\n",
      "\n",
      "    accuracy                           0.81     23390\n",
      "   macro avg       0.71      0.57      0.58     23390\n",
      "weighted avg       0.78      0.81      0.77     23390\n",
      "\n"
     ]
    },
    {
     "name": "stderr",
     "output_type": "stream",
     "text": [
      "  0%|          | 0/92 [00:00<?, ?it/s]C:\\Users\\admin\\.conda\\envs\\dental1_yolo\\lib\\site-packages\\torch\\nn\\functional.py:1805: UserWarning: nn.functional.sigmoid is deprecated. Use torch.sigmoid instead.\n",
      "  warnings.warn(\"nn.functional.sigmoid is deprecated. Use torch.sigmoid instead.\")\n",
      "100%|██████████| 92/92 [00:09<00:00,  9.44it/s]\n"
     ]
    },
    {
     "name": "stdout",
     "output_type": "stream",
     "text": [
      "Epoch: 6 Accuracy of the Valid Images: 4983.515732\n",
      "Confusion Matrix [[4562.  121.]\n",
      " [1086.   79.]]\n",
      "Classification Report               precision    recall  f1-score   support\n",
      "\n",
      "         0.0       0.81      0.97      0.88      4683\n",
      "         1.0       0.40      0.07      0.12      1165\n",
      "\n",
      "    accuracy                           0.79      5848\n",
      "   macro avg       0.60      0.52      0.50      5848\n",
      "weighted avg       0.73      0.79      0.73      5848\n",
      "\n"
     ]
    },
    {
     "name": "stderr",
     "output_type": "stream",
     "text": [
      "  0%|          | 0/366 [00:00<?, ?it/s]C:\\Users\\admin\\.conda\\envs\\dental1_yolo\\lib\\site-packages\\torch\\nn\\functional.py:1805: UserWarning: nn.functional.sigmoid is deprecated. Use torch.sigmoid instead.\n",
      "  warnings.warn(\"nn.functional.sigmoid is deprecated. Use torch.sigmoid instead.\")\n",
      "100%|██████████| 366/366 [00:54<00:00,  6.68it/s]\n"
     ]
    },
    {
     "name": "stdout",
     "output_type": "stream",
     "text": [
      "Epoch 7, loss = 0.4075, batch_idx= 366\n",
      "Epoch: 7 Accuracy of the Train Images: 4867.498931\n",
      "Confusion Matrix [[18137.   592.]\n",
      " [ 3701.   960.]]\n",
      "Classification Report               precision    recall  f1-score   support\n",
      "\n",
      "         0.0       0.83      0.97      0.89     18729\n",
      "         1.0       0.62      0.21      0.31      4661\n",
      "\n",
      "    accuracy                           0.82     23390\n",
      "   macro avg       0.72      0.59      0.60     23390\n",
      "weighted avg       0.79      0.82      0.78     23390\n",
      "\n"
     ]
    },
    {
     "name": "stderr",
     "output_type": "stream",
     "text": [
      "  0%|          | 0/92 [00:00<?, ?it/s]C:\\Users\\admin\\.conda\\envs\\dental1_yolo\\lib\\site-packages\\torch\\nn\\functional.py:1805: UserWarning: nn.functional.sigmoid is deprecated. Use torch.sigmoid instead.\n",
      "  warnings.warn(\"nn.functional.sigmoid is deprecated. Use torch.sigmoid instead.\")\n",
      "100%|██████████| 92/92 [00:09<00:00,  9.48it/s]\n"
     ]
    },
    {
     "name": "stdout",
     "output_type": "stream",
     "text": [
      "Epoch: 7 Accuracy of the Valid Images: 5068.160055\n",
      "Confusion Matrix [[4654.   29.]\n",
      " [1124.   41.]]\n",
      "Classification Report               precision    recall  f1-score   support\n",
      "\n",
      "         0.0       0.81      0.99      0.89      4683\n",
      "         1.0       0.59      0.04      0.07      1165\n",
      "\n",
      "    accuracy                           0.80      5848\n",
      "   macro avg       0.70      0.51      0.48      5848\n",
      "weighted avg       0.76      0.80      0.73      5848\n",
      "\n"
     ]
    },
    {
     "name": "stderr",
     "output_type": "stream",
     "text": [
      "  0%|          | 0/366 [00:00<?, ?it/s]C:\\Users\\admin\\.conda\\envs\\dental1_yolo\\lib\\site-packages\\torch\\nn\\functional.py:1805: UserWarning: nn.functional.sigmoid is deprecated. Use torch.sigmoid instead.\n",
      "  warnings.warn(\"nn.functional.sigmoid is deprecated. Use torch.sigmoid instead.\")\n",
      "100%|██████████| 366/366 [00:54<00:00,  6.68it/s]\n"
     ]
    },
    {
     "name": "stdout",
     "output_type": "stream",
     "text": [
      "Epoch 8, loss = 0.3933, batch_idx= 366\n",
      "Epoch: 8 Accuracy of the Train Images: 4814.570329\n",
      "Confusion Matrix [[18080.   649.]\n",
      " [ 3440.  1221.]]\n",
      "Classification Report               precision    recall  f1-score   support\n",
      "\n",
      "         0.0       0.84      0.97      0.90     18729\n",
      "         1.0       0.65      0.26      0.37      4661\n",
      "\n",
      "    accuracy                           0.83     23390\n",
      "   macro avg       0.75      0.61      0.64     23390\n",
      "weighted avg       0.80      0.83      0.79     23390\n",
      "\n"
     ]
    },
    {
     "name": "stderr",
     "output_type": "stream",
     "text": [
      "  0%|          | 0/92 [00:00<?, ?it/s]C:\\Users\\admin\\.conda\\envs\\dental1_yolo\\lib\\site-packages\\torch\\nn\\functional.py:1805: UserWarning: nn.functional.sigmoid is deprecated. Use torch.sigmoid instead.\n",
      "  warnings.warn(\"nn.functional.sigmoid is deprecated. Use torch.sigmoid instead.\")\n",
      "100%|██████████| 92/92 [00:09<00:00,  9.60it/s]\n"
     ]
    },
    {
     "name": "stdout",
     "output_type": "stream",
     "text": [
      "Epoch: 8 Accuracy of the Valid Images: 4924.452804\n",
      "Confusion Matrix [[4556.  127.]\n",
      " [1007.  158.]]\n",
      "Classification Report               precision    recall  f1-score   support\n",
      "\n",
      "         0.0       0.82      0.97      0.89      4683\n",
      "         1.0       0.55      0.14      0.22      1165\n",
      "\n",
      "    accuracy                           0.81      5848\n",
      "   macro avg       0.69      0.55      0.55      5848\n",
      "weighted avg       0.77      0.81      0.76      5848\n",
      "\n"
     ]
    },
    {
     "name": "stderr",
     "output_type": "stream",
     "text": [
      "  0%|          | 0/366 [00:00<?, ?it/s]C:\\Users\\admin\\.conda\\envs\\dental1_yolo\\lib\\site-packages\\torch\\nn\\functional.py:1805: UserWarning: nn.functional.sigmoid is deprecated. Use torch.sigmoid instead.\n",
      "  warnings.warn(\"nn.functional.sigmoid is deprecated. Use torch.sigmoid instead.\")\n",
      "100%|██████████| 366/366 [00:54<00:00,  6.67it/s]\n"
     ]
    },
    {
     "name": "stdout",
     "output_type": "stream",
     "text": [
      "Epoch 9, loss = 0.3729, batch_idx= 366\n",
      "Epoch: 9 Accuracy of the Train Images: 4742.710560\n",
      "Confusion Matrix [[17952.   777.]\n",
      " [ 3120.  1541.]]\n",
      "Classification Report               precision    recall  f1-score   support\n",
      "\n",
      "         0.0       0.85      0.96      0.90     18729\n",
      "         1.0       0.66      0.33      0.44      4661\n",
      "\n",
      "    accuracy                           0.83     23390\n",
      "   macro avg       0.76      0.64      0.67     23390\n",
      "weighted avg       0.81      0.83      0.81     23390\n",
      "\n"
     ]
    },
    {
     "name": "stderr",
     "output_type": "stream",
     "text": [
      "  0%|          | 0/92 [00:00<?, ?it/s]C:\\Users\\admin\\.conda\\envs\\dental1_yolo\\lib\\site-packages\\torch\\nn\\functional.py:1805: UserWarning: nn.functional.sigmoid is deprecated. Use torch.sigmoid instead.\n",
      "  warnings.warn(\"nn.functional.sigmoid is deprecated. Use torch.sigmoid instead.\")\n",
      "100%|██████████| 92/92 [00:09<00:00,  9.52it/s]\n"
     ]
    },
    {
     "name": "stdout",
     "output_type": "stream",
     "text": [
      "Epoch: 9 Accuracy of the Valid Images: 4934.883721\n",
      "Confusion Matrix [[4561.  122.]\n",
      " [1019.  146.]]\n",
      "Classification Report               precision    recall  f1-score   support\n",
      "\n",
      "         0.0       0.82      0.97      0.89      4683\n",
      "         1.0       0.54      0.13      0.20      1165\n",
      "\n",
      "    accuracy                           0.80      5848\n",
      "   macro avg       0.68      0.55      0.55      5848\n",
      "weighted avg       0.76      0.80      0.75      5848\n",
      "\n"
     ]
    },
    {
     "name": "stderr",
     "output_type": "stream",
     "text": [
      "  0%|          | 0/366 [00:00<?, ?it/s]C:\\Users\\admin\\.conda\\envs\\dental1_yolo\\lib\\site-packages\\torch\\nn\\functional.py:1805: UserWarning: nn.functional.sigmoid is deprecated. Use torch.sigmoid instead.\n",
      "  warnings.warn(\"nn.functional.sigmoid is deprecated. Use torch.sigmoid instead.\")\n",
      "100%|██████████| 366/366 [00:54<00:00,  6.68it/s]\n"
     ]
    },
    {
     "name": "stdout",
     "output_type": "stream",
     "text": [
      "Epoch 10, loss = 0.3414, batch_idx= 366\n",
      "Epoch: 10 Accuracy of the Train Images: 4680.376229\n",
      "Confusion Matrix [[17974.   755.]\n",
      " [ 2705.  1956.]]\n",
      "Classification Report               precision    recall  f1-score   support\n",
      "\n",
      "         0.0       0.87      0.96      0.91     18729\n",
      "         1.0       0.72      0.42      0.53      4661\n",
      "\n",
      "    accuracy                           0.85     23390\n",
      "   macro avg       0.80      0.69      0.72     23390\n",
      "weighted avg       0.84      0.85      0.84     23390\n",
      "\n"
     ]
    },
    {
     "name": "stderr",
     "output_type": "stream",
     "text": [
      "  0%|          | 0/92 [00:00<?, ?it/s]C:\\Users\\admin\\.conda\\envs\\dental1_yolo\\lib\\site-packages\\torch\\nn\\functional.py:1805: UserWarning: nn.functional.sigmoid is deprecated. Use torch.sigmoid instead.\n",
      "  warnings.warn(\"nn.functional.sigmoid is deprecated. Use torch.sigmoid instead.\")\n",
      "100%|██████████| 92/92 [00:09<00:00,  9.64it/s]\n"
     ]
    },
    {
     "name": "stdout",
     "output_type": "stream",
     "text": [
      "Epoch: 10 Accuracy of the Valid Images: 4494.015048\n",
      "Confusion Matrix [[4041.  642.]\n",
      " [ 857.  308.]]\n",
      "Classification Report               precision    recall  f1-score   support\n",
      "\n",
      "         0.0       0.83      0.86      0.84      4683\n",
      "         1.0       0.32      0.26      0.29      1165\n",
      "\n",
      "    accuracy                           0.74      5848\n",
      "   macro avg       0.57      0.56      0.57      5848\n",
      "weighted avg       0.73      0.74      0.73      5848\n",
      "\n"
     ]
    },
    {
     "name": "stderr",
     "output_type": "stream",
     "text": [
      "  0%|          | 0/366 [00:00<?, ?it/s]C:\\Users\\admin\\.conda\\envs\\dental1_yolo\\lib\\site-packages\\torch\\nn\\functional.py:1805: UserWarning: nn.functional.sigmoid is deprecated. Use torch.sigmoid instead.\n",
      "  warnings.warn(\"nn.functional.sigmoid is deprecated. Use torch.sigmoid instead.\")\n",
      "100%|██████████| 366/366 [00:54<00:00,  6.66it/s]\n"
     ]
    },
    {
     "name": "stdout",
     "output_type": "stream",
     "text": [
      "Epoch 11, loss = 0.3010, batch_idx= 366\n",
      "Epoch: 11 Accuracy of the Train Images: 4613.407439\n",
      "Confusion Matrix [[18006.   723.]\n",
      " [ 2259.  2402.]]\n",
      "Classification Report               precision    recall  f1-score   support\n",
      "\n",
      "         0.0       0.89      0.96      0.92     18729\n",
      "         1.0       0.77      0.52      0.62      4661\n",
      "\n",
      "    accuracy                           0.87     23390\n",
      "   macro avg       0.83      0.74      0.77     23390\n",
      "weighted avg       0.86      0.87      0.86     23390\n",
      "\n"
     ]
    },
    {
     "name": "stderr",
     "output_type": "stream",
     "text": [
      "  0%|          | 0/92 [00:00<?, ?it/s]C:\\Users\\admin\\.conda\\envs\\dental1_yolo\\lib\\site-packages\\torch\\nn\\functional.py:1805: UserWarning: nn.functional.sigmoid is deprecated. Use torch.sigmoid instead.\n",
      "  warnings.warn(\"nn.functional.sigmoid is deprecated. Use torch.sigmoid instead.\")\n",
      "100%|██████████| 92/92 [00:09<00:00,  9.53it/s]\n"
     ]
    },
    {
     "name": "stdout",
     "output_type": "stream",
     "text": [
      "Epoch: 11 Accuracy of the Valid Images: 4909.097127\n",
      "Confusion Matrix [[4490.  193.]\n",
      " [1050.  115.]]\n",
      "Classification Report               precision    recall  f1-score   support\n",
      "\n",
      "         0.0       0.81      0.96      0.88      4683\n",
      "         1.0       0.37      0.10      0.16      1165\n",
      "\n",
      "    accuracy                           0.79      5848\n",
      "   macro avg       0.59      0.53      0.52      5848\n",
      "weighted avg       0.72      0.79      0.73      5848\n",
      "\n"
     ]
    },
    {
     "name": "stderr",
     "output_type": "stream",
     "text": [
      "  0%|          | 0/366 [00:00<?, ?it/s]C:\\Users\\admin\\.conda\\envs\\dental1_yolo\\lib\\site-packages\\torch\\nn\\functional.py:1805: UserWarning: nn.functional.sigmoid is deprecated. Use torch.sigmoid instead.\n",
      "  warnings.warn(\"nn.functional.sigmoid is deprecated. Use torch.sigmoid instead.\")\n",
      "100%|██████████| 366/366 [00:54<00:00,  6.66it/s]\n"
     ]
    },
    {
     "name": "stdout",
     "output_type": "stream",
     "text": [
      "Epoch 12, loss = 0.2621, batch_idx= 366\n",
      "Epoch: 12 Accuracy of the Train Images: 4562.830269\n",
      "Confusion Matrix [[18075.   654.]\n",
      " [ 1862.  2799.]]\n",
      "Classification Report               precision    recall  f1-score   support\n",
      "\n",
      "         0.0       0.91      0.97      0.93     18729\n",
      "         1.0       0.81      0.60      0.69      4661\n",
      "\n",
      "    accuracy                           0.89     23390\n",
      "   macro avg       0.86      0.78      0.81     23390\n",
      "weighted avg       0.89      0.89      0.89     23390\n",
      "\n"
     ]
    },
    {
     "name": "stderr",
     "output_type": "stream",
     "text": [
      "  0%|          | 0/92 [00:00<?, ?it/s]C:\\Users\\admin\\.conda\\envs\\dental1_yolo\\lib\\site-packages\\torch\\nn\\functional.py:1805: UserWarning: nn.functional.sigmoid is deprecated. Use torch.sigmoid instead.\n",
      "  warnings.warn(\"nn.functional.sigmoid is deprecated. Use torch.sigmoid instead.\")\n",
      "100%|██████████| 92/92 [00:09<00:00,  9.50it/s]\n"
     ]
    },
    {
     "name": "stdout",
     "output_type": "stream",
     "text": [
      "Epoch: 12 Accuracy of the Valid Images: 4467.339261\n",
      "Confusion Matrix [[4095.  588.]\n",
      " [ 767.  398.]]\n",
      "Classification Report               precision    recall  f1-score   support\n",
      "\n",
      "         0.0       0.84      0.87      0.86      4683\n",
      "         1.0       0.40      0.34      0.37      1165\n",
      "\n",
      "    accuracy                           0.77      5848\n",
      "   macro avg       0.62      0.61      0.61      5848\n",
      "weighted avg       0.75      0.77      0.76      5848\n",
      "\n"
     ]
    },
    {
     "name": "stderr",
     "output_type": "stream",
     "text": [
      "  0%|          | 0/366 [00:00<?, ?it/s]C:\\Users\\admin\\.conda\\envs\\dental1_yolo\\lib\\site-packages\\torch\\nn\\functional.py:1805: UserWarning: nn.functional.sigmoid is deprecated. Use torch.sigmoid instead.\n",
      "  warnings.warn(\"nn.functional.sigmoid is deprecated. Use torch.sigmoid instead.\")\n",
      "100%|██████████| 366/366 [00:54<00:00,  6.69it/s]\n"
     ]
    },
    {
     "name": "stdout",
     "output_type": "stream",
     "text": [
      "Epoch 13, loss = 0.2179, batch_idx= 366\n",
      "Epoch: 13 Accuracy of the Train Images: 4517.050021\n",
      "Confusion Matrix [[18145.   584.]\n",
      " [ 1502.  3159.]]\n",
      "Classification Report               precision    recall  f1-score   support\n",
      "\n",
      "         0.0       0.92      0.97      0.95     18729\n",
      "         1.0       0.84      0.68      0.75      4661\n",
      "\n",
      "    accuracy                           0.91     23390\n",
      "   macro avg       0.88      0.82      0.85     23390\n",
      "weighted avg       0.91      0.91      0.91     23390\n",
      "\n"
     ]
    },
    {
     "name": "stderr",
     "output_type": "stream",
     "text": [
      "  0%|          | 0/92 [00:00<?, ?it/s]C:\\Users\\admin\\.conda\\envs\\dental1_yolo\\lib\\site-packages\\torch\\nn\\functional.py:1805: UserWarning: nn.functional.sigmoid is deprecated. Use torch.sigmoid instead.\n",
      "  warnings.warn(\"nn.functional.sigmoid is deprecated. Use torch.sigmoid instead.\")\n",
      "100%|██████████| 92/92 [00:09<00:00,  9.52it/s]\n"
     ]
    },
    {
     "name": "stdout",
     "output_type": "stream",
     "text": [
      "Epoch: 13 Accuracy of the Valid Images: 4781.326949\n",
      "Confusion Matrix [[4405.  278.]\n",
      " [ 935.  230.]]\n",
      "Classification Report               precision    recall  f1-score   support\n",
      "\n",
      "         0.0       0.82      0.94      0.88      4683\n",
      "         1.0       0.45      0.20      0.27      1165\n",
      "\n",
      "    accuracy                           0.79      5848\n",
      "   macro avg       0.64      0.57      0.58      5848\n",
      "weighted avg       0.75      0.79      0.76      5848\n",
      "\n"
     ]
    },
    {
     "name": "stderr",
     "output_type": "stream",
     "text": [
      "  0%|          | 0/366 [00:00<?, ?it/s]C:\\Users\\admin\\.conda\\envs\\dental1_yolo\\lib\\site-packages\\torch\\nn\\functional.py:1805: UserWarning: nn.functional.sigmoid is deprecated. Use torch.sigmoid instead.\n",
      "  warnings.warn(\"nn.functional.sigmoid is deprecated. Use torch.sigmoid instead.\")\n",
      "100%|██████████| 366/366 [00:54<00:00,  6.68it/s]\n"
     ]
    },
    {
     "name": "stdout",
     "output_type": "stream",
     "text": [
      "Epoch 14, loss = 0.1873, batch_idx= 366\n",
      "Epoch: 14 Accuracy of the Train Images: 4489.003848\n",
      "Confusion Matrix [[18210.   519.]\n",
      " [ 1250.  3411.]]\n",
      "Classification Report               precision    recall  f1-score   support\n",
      "\n",
      "         0.0       0.94      0.97      0.95     18729\n",
      "         1.0       0.87      0.73      0.79      4661\n",
      "\n",
      "    accuracy                           0.92     23390\n",
      "   macro avg       0.90      0.85      0.87     23390\n",
      "weighted avg       0.92      0.92      0.92     23390\n",
      "\n"
     ]
    },
    {
     "name": "stderr",
     "output_type": "stream",
     "text": [
      "  0%|          | 0/92 [00:00<?, ?it/s]C:\\Users\\admin\\.conda\\envs\\dental1_yolo\\lib\\site-packages\\torch\\nn\\functional.py:1805: UserWarning: nn.functional.sigmoid is deprecated. Use torch.sigmoid instead.\n",
      "  warnings.warn(\"nn.functional.sigmoid is deprecated. Use torch.sigmoid instead.\")\n",
      "100%|██████████| 92/92 [00:09<00:00,  9.44it/s]\n"
     ]
    },
    {
     "name": "stdout",
     "output_type": "stream",
     "text": [
      "Epoch: 14 Accuracy of the Valid Images: 4297.435021\n",
      "Confusion Matrix [[3922.  761.]\n",
      " [ 684.  481.]]\n",
      "Classification Report               precision    recall  f1-score   support\n",
      "\n",
      "         0.0       0.85      0.84      0.84      4683\n",
      "         1.0       0.39      0.41      0.40      1165\n",
      "\n",
      "    accuracy                           0.75      5848\n",
      "   macro avg       0.62      0.63      0.62      5848\n",
      "weighted avg       0.76      0.75      0.76      5848\n",
      "\n"
     ]
    },
    {
     "name": "stderr",
     "output_type": "stream",
     "text": [
      "  0%|          | 0/366 [00:00<?, ?it/s]C:\\Users\\admin\\.conda\\envs\\dental1_yolo\\lib\\site-packages\\torch\\nn\\functional.py:1805: UserWarning: nn.functional.sigmoid is deprecated. Use torch.sigmoid instead.\n",
      "  warnings.warn(\"nn.functional.sigmoid is deprecated. Use torch.sigmoid instead.\")\n",
      "100%|██████████| 366/366 [00:54<00:00,  6.69it/s]\n"
     ]
    },
    {
     "name": "stdout",
     "output_type": "stream",
     "text": [
      "Epoch 15, loss = 0.1610, batch_idx= 366\n",
      "Epoch: 15 Accuracy of the Train Images: 4468.884139\n",
      "Confusion Matrix [[18269.   460.]\n",
      " [ 1054.  3607.]]\n",
      "Classification Report               precision    recall  f1-score   support\n",
      "\n",
      "         0.0       0.95      0.98      0.96     18729\n",
      "         1.0       0.89      0.77      0.83      4661\n",
      "\n",
      "    accuracy                           0.94     23390\n",
      "   macro avg       0.92      0.87      0.89     23390\n",
      "weighted avg       0.93      0.94      0.93     23390\n",
      "\n"
     ]
    },
    {
     "name": "stderr",
     "output_type": "stream",
     "text": [
      "  0%|          | 0/92 [00:00<?, ?it/s]C:\\Users\\admin\\.conda\\envs\\dental1_yolo\\lib\\site-packages\\torch\\nn\\functional.py:1805: UserWarning: nn.functional.sigmoid is deprecated. Use torch.sigmoid instead.\n",
      "  warnings.warn(\"nn.functional.sigmoid is deprecated. Use torch.sigmoid instead.\")\n",
      "100%|██████████| 92/92 [00:09<00:00,  9.41it/s]\n"
     ]
    },
    {
     "name": "stdout",
     "output_type": "stream",
     "text": [
      "Epoch: 15 Accuracy of the Valid Images: 4234.404925\n",
      "Confusion Matrix [[3805.  878.]\n",
      " [ 696.  469.]]\n",
      "Classification Report               precision    recall  f1-score   support\n",
      "\n",
      "         0.0       0.85      0.81      0.83      4683\n",
      "         1.0       0.35      0.40      0.37      1165\n",
      "\n",
      "    accuracy                           0.73      5848\n",
      "   macro avg       0.60      0.61      0.60      5848\n",
      "weighted avg       0.75      0.73      0.74      5848\n",
      "\n"
     ]
    },
    {
     "name": "stderr",
     "output_type": "stream",
     "text": [
      "  0%|          | 0/366 [00:00<?, ?it/s]C:\\Users\\admin\\.conda\\envs\\dental1_yolo\\lib\\site-packages\\torch\\nn\\functional.py:1805: UserWarning: nn.functional.sigmoid is deprecated. Use torch.sigmoid instead.\n",
      "  warnings.warn(\"nn.functional.sigmoid is deprecated. Use torch.sigmoid instead.\")\n",
      "100%|██████████| 366/366 [00:55<00:00,  6.65it/s]\n"
     ]
    },
    {
     "name": "stdout",
     "output_type": "stream",
     "text": [
      "Epoch 16, loss = 0.1401, batch_idx= 366\n",
      "Epoch: 16 Accuracy of the Train Images: 4446.387345\n",
      "Confusion Matrix [[18297.   432.]\n",
      " [  891.  3770.]]\n",
      "Classification Report               precision    recall  f1-score   support\n",
      "\n",
      "         0.0       0.95      0.98      0.97     18729\n",
      "         1.0       0.90      0.81      0.85      4661\n",
      "\n",
      "    accuracy                           0.94     23390\n",
      "   macro avg       0.93      0.89      0.91     23390\n",
      "weighted avg       0.94      0.94      0.94     23390\n",
      "\n"
     ]
    },
    {
     "name": "stderr",
     "output_type": "stream",
     "text": [
      "  0%|          | 0/92 [00:00<?, ?it/s]C:\\Users\\admin\\.conda\\envs\\dental1_yolo\\lib\\site-packages\\torch\\nn\\functional.py:1805: UserWarning: nn.functional.sigmoid is deprecated. Use torch.sigmoid instead.\n",
      "  warnings.warn(\"nn.functional.sigmoid is deprecated. Use torch.sigmoid instead.\")\n",
      "100%|██████████| 92/92 [00:09<00:00,  9.59it/s]\n"
     ]
    },
    {
     "name": "stdout",
     "output_type": "stream",
     "text": [
      "Epoch: 16 Accuracy of the Valid Images: 4701.709986\n",
      "Confusion Matrix [[4329.  354.]\n",
      " [ 880.  285.]]\n",
      "Classification Report               precision    recall  f1-score   support\n",
      "\n",
      "         0.0       0.83      0.92      0.88      4683\n",
      "         1.0       0.45      0.24      0.32      1165\n",
      "\n",
      "    accuracy                           0.79      5848\n",
      "   macro avg       0.64      0.58      0.60      5848\n",
      "weighted avg       0.75      0.79      0.76      5848\n",
      "\n"
     ]
    },
    {
     "name": "stderr",
     "output_type": "stream",
     "text": [
      "  0%|          | 0/366 [00:00<?, ?it/s]C:\\Users\\admin\\.conda\\envs\\dental1_yolo\\lib\\site-packages\\torch\\nn\\functional.py:1805: UserWarning: nn.functional.sigmoid is deprecated. Use torch.sigmoid instead.\n",
      "  warnings.warn(\"nn.functional.sigmoid is deprecated. Use torch.sigmoid instead.\")\n",
      "100%|██████████| 366/366 [00:54<00:00,  6.67it/s]\n"
     ]
    },
    {
     "name": "stdout",
     "output_type": "stream",
     "text": [
      "Epoch 17, loss = 0.1240, batch_idx= 366\n",
      "Epoch: 17 Accuracy of the Train Images: 4436.023942\n",
      "Confusion Matrix [[18359.   370.]\n",
      " [  770.  3891.]]\n",
      "Classification Report               precision    recall  f1-score   support\n",
      "\n",
      "         0.0       0.96      0.98      0.97     18729\n",
      "         1.0       0.91      0.83      0.87      4661\n",
      "\n",
      "    accuracy                           0.95     23390\n",
      "   macro avg       0.94      0.91      0.92     23390\n",
      "weighted avg       0.95      0.95      0.95     23390\n",
      "\n"
     ]
    },
    {
     "name": "stderr",
     "output_type": "stream",
     "text": [
      "  0%|          | 0/92 [00:00<?, ?it/s]C:\\Users\\admin\\.conda\\envs\\dental1_yolo\\lib\\site-packages\\torch\\nn\\functional.py:1805: UserWarning: nn.functional.sigmoid is deprecated. Use torch.sigmoid instead.\n",
      "  warnings.warn(\"nn.functional.sigmoid is deprecated. Use torch.sigmoid instead.\")\n",
      "100%|██████████| 92/92 [00:09<00:00,  9.63it/s]\n"
     ]
    },
    {
     "name": "stdout",
     "output_type": "stream",
     "text": [
      "Epoch: 17 Accuracy of the Valid Images: 4367.920657\n",
      "Confusion Matrix [[3973.  710.]\n",
      " [ 728.  437.]]\n",
      "Classification Report               precision    recall  f1-score   support\n",
      "\n",
      "         0.0       0.85      0.85      0.85      4683\n",
      "         1.0       0.38      0.38      0.38      1165\n",
      "\n",
      "    accuracy                           0.75      5848\n",
      "   macro avg       0.61      0.61      0.61      5848\n",
      "weighted avg       0.75      0.75      0.75      5848\n",
      "\n"
     ]
    },
    {
     "name": "stderr",
     "output_type": "stream",
     "text": [
      "  0%|          | 0/366 [00:00<?, ?it/s]C:\\Users\\admin\\.conda\\envs\\dental1_yolo\\lib\\site-packages\\torch\\nn\\functional.py:1805: UserWarning: nn.functional.sigmoid is deprecated. Use torch.sigmoid instead.\n",
      "  warnings.warn(\"nn.functional.sigmoid is deprecated. Use torch.sigmoid instead.\")\n",
      "100%|██████████| 366/366 [00:55<00:00,  6.65it/s]\n"
     ]
    },
    {
     "name": "stdout",
     "output_type": "stream",
     "text": [
      "Epoch 18, loss = 0.1097, batch_idx= 366\n",
      "Epoch: 18 Accuracy of the Train Images: 4423.206499\n",
      "Confusion Matrix [[18395.   334.]\n",
      " [  643.  4018.]]\n",
      "Classification Report               precision    recall  f1-score   support\n",
      "\n",
      "         0.0       0.97      0.98      0.97     18729\n",
      "         1.0       0.92      0.86      0.89      4661\n",
      "\n",
      "    accuracy                           0.96     23390\n",
      "   macro avg       0.94      0.92      0.93     23390\n",
      "weighted avg       0.96      0.96      0.96     23390\n",
      "\n"
     ]
    },
    {
     "name": "stderr",
     "output_type": "stream",
     "text": [
      "  0%|          | 0/92 [00:00<?, ?it/s]C:\\Users\\admin\\.conda\\envs\\dental1_yolo\\lib\\site-packages\\torch\\nn\\functional.py:1805: UserWarning: nn.functional.sigmoid is deprecated. Use torch.sigmoid instead.\n",
      "  warnings.warn(\"nn.functional.sigmoid is deprecated. Use torch.sigmoid instead.\")\n",
      "100%|██████████| 92/92 [00:09<00:00,  9.57it/s]\n"
     ]
    },
    {
     "name": "stdout",
     "output_type": "stream",
     "text": [
      "Epoch: 18 Accuracy of the Valid Images: 4756.737346\n",
      "Confusion Matrix [[4347.  336.]\n",
      " [ 954.  211.]]\n",
      "Classification Report               precision    recall  f1-score   support\n",
      "\n",
      "         0.0       0.82      0.93      0.87      4683\n",
      "         1.0       0.39      0.18      0.25      1165\n",
      "\n",
      "    accuracy                           0.78      5848\n",
      "   macro avg       0.60      0.55      0.56      5848\n",
      "weighted avg       0.73      0.78      0.75      5848\n",
      "\n"
     ]
    },
    {
     "name": "stderr",
     "output_type": "stream",
     "text": [
      "  0%|          | 0/366 [00:00<?, ?it/s]C:\\Users\\admin\\.conda\\envs\\dental1_yolo\\lib\\site-packages\\torch\\nn\\functional.py:1805: UserWarning: nn.functional.sigmoid is deprecated. Use torch.sigmoid instead.\n",
      "  warnings.warn(\"nn.functional.sigmoid is deprecated. Use torch.sigmoid instead.\")\n",
      "100%|██████████| 366/366 [00:55<00:00,  6.64it/s]\n"
     ]
    },
    {
     "name": "stdout",
     "output_type": "stream",
     "text": [
      "Epoch 19, loss = 0.0966, batch_idx= 366\n",
      "Epoch: 19 Accuracy of the Train Images: 4419.649423\n",
      "Confusion Matrix [[18436.   293.]\n",
      " [  567.  4094.]]\n",
      "Classification Report               precision    recall  f1-score   support\n",
      "\n",
      "         0.0       0.97      0.98      0.98     18729\n",
      "         1.0       0.93      0.88      0.90      4661\n",
      "\n",
      "    accuracy                           0.96     23390\n",
      "   macro avg       0.95      0.93      0.94     23390\n",
      "weighted avg       0.96      0.96      0.96     23390\n",
      "\n"
     ]
    },
    {
     "name": "stderr",
     "output_type": "stream",
     "text": [
      "  0%|          | 0/92 [00:00<?, ?it/s]C:\\Users\\admin\\.conda\\envs\\dental1_yolo\\lib\\site-packages\\torch\\nn\\functional.py:1805: UserWarning: nn.functional.sigmoid is deprecated. Use torch.sigmoid instead.\n",
      "  warnings.warn(\"nn.functional.sigmoid is deprecated. Use torch.sigmoid instead.\")\n",
      "100%|██████████| 92/92 [00:09<00:00,  9.50it/s]\n"
     ]
    },
    {
     "name": "stdout",
     "output_type": "stream",
     "text": [
      "Epoch: 19 Accuracy of the Valid Images: 3713.645691\n",
      "Confusion Matrix [[3233. 1450.]\n",
      " [ 475.  690.]]\n",
      "Classification Report               precision    recall  f1-score   support\n",
      "\n",
      "         0.0       0.87      0.69      0.77      4683\n",
      "         1.0       0.32      0.59      0.42      1165\n",
      "\n",
      "    accuracy                           0.67      5848\n",
      "   macro avg       0.60      0.64      0.59      5848\n",
      "weighted avg       0.76      0.67      0.70      5848\n",
      "\n"
     ]
    },
    {
     "name": "stderr",
     "output_type": "stream",
     "text": [
      "  0%|          | 0/366 [00:00<?, ?it/s]C:\\Users\\admin\\.conda\\envs\\dental1_yolo\\lib\\site-packages\\torch\\nn\\functional.py:1805: UserWarning: nn.functional.sigmoid is deprecated. Use torch.sigmoid instead.\n",
      "  warnings.warn(\"nn.functional.sigmoid is deprecated. Use torch.sigmoid instead.\")\n",
      "100%|██████████| 366/366 [00:54<00:00,  6.69it/s]\n"
     ]
    },
    {
     "name": "stdout",
     "output_type": "stream",
     "text": [
      "Epoch 20, loss = 0.0931, batch_idx= 366\n",
      "Epoch: 20 Accuracy of the Train Images: 4414.040188\n",
      "Confusion Matrix [[18425.   304.]\n",
      " [  541.  4120.]]\n",
      "Classification Report               precision    recall  f1-score   support\n",
      "\n",
      "         0.0       0.97      0.98      0.98     18729\n",
      "         1.0       0.93      0.88      0.91      4661\n",
      "\n",
      "    accuracy                           0.96     23390\n",
      "   macro avg       0.95      0.93      0.94     23390\n",
      "weighted avg       0.96      0.96      0.96     23390\n",
      "\n"
     ]
    },
    {
     "name": "stderr",
     "output_type": "stream",
     "text": [
      "  0%|          | 0/92 [00:00<?, ?it/s]C:\\Users\\admin\\.conda\\envs\\dental1_yolo\\lib\\site-packages\\torch\\nn\\functional.py:1805: UserWarning: nn.functional.sigmoid is deprecated. Use torch.sigmoid instead.\n",
      "  warnings.warn(\"nn.functional.sigmoid is deprecated. Use torch.sigmoid instead.\")\n",
      "100%|██████████| 92/92 [00:09<00:00,  9.53it/s]\n"
     ]
    },
    {
     "name": "stdout",
     "output_type": "stream",
     "text": [
      "Epoch: 20 Accuracy of the Valid Images: 4178.659371\n",
      "Confusion Matrix [[3720.  963.]\n",
      " [ 687.  478.]]\n",
      "Classification Report               precision    recall  f1-score   support\n",
      "\n",
      "         0.0       0.84      0.79      0.82      4683\n",
      "         1.0       0.33      0.41      0.37      1165\n",
      "\n",
      "    accuracy                           0.72      5848\n",
      "   macro avg       0.59      0.60      0.59      5848\n",
      "weighted avg       0.74      0.72      0.73      5848\n",
      "\n"
     ]
    },
    {
     "name": "stderr",
     "output_type": "stream",
     "text": [
      "  0%|          | 0/366 [00:00<?, ?it/s]C:\\Users\\admin\\.conda\\envs\\dental1_yolo\\lib\\site-packages\\torch\\nn\\functional.py:1805: UserWarning: nn.functional.sigmoid is deprecated. Use torch.sigmoid instead.\n",
      "  warnings.warn(\"nn.functional.sigmoid is deprecated. Use torch.sigmoid instead.\")\n",
      "100%|██████████| 366/366 [00:54<00:00,  6.69it/s]\n"
     ]
    },
    {
     "name": "stdout",
     "output_type": "stream",
     "text": [
      "Epoch 21, loss = 0.0838, batch_idx= 366\n",
      "Epoch: 21 Accuracy of the Train Images: 4412.398461\n",
      "Confusion Matrix [[18459.   270.]\n",
      " [  491.  4170.]]\n",
      "Classification Report               precision    recall  f1-score   support\n",
      "\n",
      "         0.0       0.97      0.99      0.98     18729\n",
      "         1.0       0.94      0.89      0.92      4661\n",
      "\n",
      "    accuracy                           0.97     23390\n",
      "   macro avg       0.96      0.94      0.95     23390\n",
      "weighted avg       0.97      0.97      0.97     23390\n",
      "\n"
     ]
    },
    {
     "name": "stderr",
     "output_type": "stream",
     "text": [
      "  0%|          | 0/92 [00:00<?, ?it/s]C:\\Users\\admin\\.conda\\envs\\dental1_yolo\\lib\\site-packages\\torch\\nn\\functional.py:1805: UserWarning: nn.functional.sigmoid is deprecated. Use torch.sigmoid instead.\n",
      "  warnings.warn(\"nn.functional.sigmoid is deprecated. Use torch.sigmoid instead.\")\n",
      "100%|██████████| 92/92 [00:09<00:00,  9.63it/s]\n"
     ]
    },
    {
     "name": "stdout",
     "output_type": "stream",
     "text": [
      "Epoch: 21 Accuracy of the Valid Images: 4544.733242\n",
      "Confusion Matrix [[4176.  507.]\n",
      " [ 796.  369.]]\n",
      "Classification Report               precision    recall  f1-score   support\n",
      "\n",
      "         0.0       0.84      0.89      0.87      4683\n",
      "         1.0       0.42      0.32      0.36      1165\n",
      "\n",
      "    accuracy                           0.78      5848\n",
      "   macro avg       0.63      0.60      0.61      5848\n",
      "weighted avg       0.76      0.78      0.76      5848\n",
      "\n"
     ]
    },
    {
     "name": "stderr",
     "output_type": "stream",
     "text": [
      "  0%|          | 0/366 [00:00<?, ?it/s]C:\\Users\\admin\\.conda\\envs\\dental1_yolo\\lib\\site-packages\\torch\\nn\\functional.py:1805: UserWarning: nn.functional.sigmoid is deprecated. Use torch.sigmoid instead.\n",
      "  warnings.warn(\"nn.functional.sigmoid is deprecated. Use torch.sigmoid instead.\")\n",
      "100%|██████████| 366/366 [00:55<00:00,  6.65it/s]\n"
     ]
    },
    {
     "name": "stdout",
     "output_type": "stream",
     "text": [
      "Epoch 22, loss = 0.0754, batch_idx= 366\n",
      "Epoch: 22 Accuracy of the Train Images: 4404.711415\n",
      "Confusion Matrix [[18472.   257.]\n",
      " [  427.  4234.]]\n",
      "Classification Report               precision    recall  f1-score   support\n",
      "\n",
      "         0.0       0.98      0.99      0.98     18729\n",
      "         1.0       0.94      0.91      0.93      4661\n",
      "\n",
      "    accuracy                           0.97     23390\n",
      "   macro avg       0.96      0.95      0.95     23390\n",
      "weighted avg       0.97      0.97      0.97     23390\n",
      "\n"
     ]
    },
    {
     "name": "stderr",
     "output_type": "stream",
     "text": [
      "  0%|          | 0/92 [00:00<?, ?it/s]C:\\Users\\admin\\.conda\\envs\\dental1_yolo\\lib\\site-packages\\torch\\nn\\functional.py:1805: UserWarning: nn.functional.sigmoid is deprecated. Use torch.sigmoid instead.\n",
      "  warnings.warn(\"nn.functional.sigmoid is deprecated. Use torch.sigmoid instead.\")\n",
      "100%|██████████| 92/92 [00:09<00:00,  9.58it/s]\n"
     ]
    },
    {
     "name": "stdout",
     "output_type": "stream",
     "text": [
      "Epoch: 22 Accuracy of the Valid Images: 4835.533516\n",
      "Confusion Matrix [[4450.  233.]\n",
      " [ 976.  189.]]\n",
      "Classification Report               precision    recall  f1-score   support\n",
      "\n",
      "         0.0       0.82      0.95      0.88      4683\n",
      "         1.0       0.45      0.16      0.24      1165\n",
      "\n",
      "    accuracy                           0.79      5848\n",
      "   macro avg       0.63      0.56      0.56      5848\n",
      "weighted avg       0.75      0.79      0.75      5848\n",
      "\n"
     ]
    },
    {
     "name": "stderr",
     "output_type": "stream",
     "text": [
      "  0%|          | 0/366 [00:00<?, ?it/s]C:\\Users\\admin\\.conda\\envs\\dental1_yolo\\lib\\site-packages\\torch\\nn\\functional.py:1805: UserWarning: nn.functional.sigmoid is deprecated. Use torch.sigmoid instead.\n",
      "  warnings.warn(\"nn.functional.sigmoid is deprecated. Use torch.sigmoid instead.\")\n",
      "100%|██████████| 366/366 [00:54<00:00,  6.68it/s]\n"
     ]
    },
    {
     "name": "stdout",
     "output_type": "stream",
     "text": [
      "Epoch 23, loss = 0.0675, batch_idx= 366\n",
      "Epoch: 23 Accuracy of the Train Images: 4399.692176\n",
      "Confusion Matrix [[18511.   218.]\n",
      " [  367.  4294.]]\n",
      "Classification Report               precision    recall  f1-score   support\n",
      "\n",
      "         0.0       0.98      0.99      0.98     18729\n",
      "         1.0       0.95      0.92      0.94      4661\n",
      "\n",
      "    accuracy                           0.97     23390\n",
      "   macro avg       0.97      0.95      0.96     23390\n",
      "weighted avg       0.97      0.97      0.97     23390\n",
      "\n"
     ]
    },
    {
     "name": "stderr",
     "output_type": "stream",
     "text": [
      "  0%|          | 0/92 [00:00<?, ?it/s]C:\\Users\\admin\\.conda\\envs\\dental1_yolo\\lib\\site-packages\\torch\\nn\\functional.py:1805: UserWarning: nn.functional.sigmoid is deprecated. Use torch.sigmoid instead.\n",
      "  warnings.warn(\"nn.functional.sigmoid is deprecated. Use torch.sigmoid instead.\")\n",
      "100%|██████████| 92/92 [00:09<00:00,  9.55it/s]\n"
     ]
    },
    {
     "name": "stdout",
     "output_type": "stream",
     "text": [
      "Epoch: 23 Accuracy of the Valid Images: 3156.258550\n",
      "Confusion Matrix [[2481. 2202.]\n",
      " [ 378.  787.]]\n",
      "Classification Report               precision    recall  f1-score   support\n",
      "\n",
      "         0.0       0.87      0.53      0.66      4683\n",
      "         1.0       0.26      0.68      0.38      1165\n",
      "\n",
      "    accuracy                           0.56      5848\n",
      "   macro avg       0.57      0.60      0.52      5848\n",
      "weighted avg       0.75      0.56      0.60      5848\n",
      "\n"
     ]
    },
    {
     "name": "stderr",
     "output_type": "stream",
     "text": [
      "  0%|          | 0/366 [00:00<?, ?it/s]C:\\Users\\admin\\.conda\\envs\\dental1_yolo\\lib\\site-packages\\torch\\nn\\functional.py:1805: UserWarning: nn.functional.sigmoid is deprecated. Use torch.sigmoid instead.\n",
      "  warnings.warn(\"nn.functional.sigmoid is deprecated. Use torch.sigmoid instead.\")\n",
      "100%|██████████| 366/366 [00:55<00:00,  6.63it/s]\n"
     ]
    },
    {
     "name": "stdout",
     "output_type": "stream",
     "text": [
      "Epoch 24, loss = 0.0667, batch_idx= 366\n",
      "Epoch: 24 Accuracy of the Train Images: 4401.274049\n",
      "Confusion Matrix [[18531.   198.]\n",
      " [  348.  4313.]]\n",
      "Classification Report               precision    recall  f1-score   support\n",
      "\n",
      "         0.0       0.98      0.99      0.99     18729\n",
      "         1.0       0.96      0.93      0.94      4661\n",
      "\n",
      "    accuracy                           0.98     23390\n",
      "   macro avg       0.97      0.96      0.96     23390\n",
      "weighted avg       0.98      0.98      0.98     23390\n",
      "\n"
     ]
    },
    {
     "name": "stderr",
     "output_type": "stream",
     "text": [
      "  0%|          | 0/92 [00:00<?, ?it/s]C:\\Users\\admin\\.conda\\envs\\dental1_yolo\\lib\\site-packages\\torch\\nn\\functional.py:1805: UserWarning: nn.functional.sigmoid is deprecated. Use torch.sigmoid instead.\n",
      "  warnings.warn(\"nn.functional.sigmoid is deprecated. Use torch.sigmoid instead.\")\n",
      "100%|██████████| 92/92 [00:09<00:00,  9.56it/s]\n"
     ]
    },
    {
     "name": "stdout",
     "output_type": "stream",
     "text": [
      "Epoch: 24 Accuracy of the Valid Images: 4537.927497\n",
      "Confusion Matrix [[4126.  557.]\n",
      " [ 844.  321.]]\n",
      "Classification Report               precision    recall  f1-score   support\n",
      "\n",
      "         0.0       0.83      0.88      0.85      4683\n",
      "         1.0       0.37      0.28      0.31      1165\n",
      "\n",
      "    accuracy                           0.76      5848\n",
      "   macro avg       0.60      0.58      0.58      5848\n",
      "weighted avg       0.74      0.76      0.75      5848\n",
      "\n"
     ]
    },
    {
     "name": "stderr",
     "output_type": "stream",
     "text": [
      "  0%|          | 0/366 [00:00<?, ?it/s]C:\\Users\\admin\\.conda\\envs\\dental1_yolo\\lib\\site-packages\\torch\\nn\\functional.py:1805: UserWarning: nn.functional.sigmoid is deprecated. Use torch.sigmoid instead.\n",
      "  warnings.warn(\"nn.functional.sigmoid is deprecated. Use torch.sigmoid instead.\")\n",
      "100%|██████████| 366/366 [00:54<00:00,  6.67it/s]\n"
     ]
    },
    {
     "name": "stdout",
     "output_type": "stream",
     "text": [
      "Epoch 25, loss = 0.0605, batch_idx= 366\n",
      "Epoch: 25 Accuracy of the Train Images: 4400.735357\n",
      "Confusion Matrix [[18540.   189.]\n",
      " [  335.  4326.]]\n",
      "Classification Report               precision    recall  f1-score   support\n",
      "\n",
      "         0.0       0.98      0.99      0.99     18729\n",
      "         1.0       0.96      0.93      0.94      4661\n",
      "\n",
      "    accuracy                           0.98     23390\n",
      "   macro avg       0.97      0.96      0.96     23390\n",
      "weighted avg       0.98      0.98      0.98     23390\n",
      "\n"
     ]
    },
    {
     "name": "stderr",
     "output_type": "stream",
     "text": [
      "  0%|          | 0/92 [00:00<?, ?it/s]C:\\Users\\admin\\.conda\\envs\\dental1_yolo\\lib\\site-packages\\torch\\nn\\functional.py:1805: UserWarning: nn.functional.sigmoid is deprecated. Use torch.sigmoid instead.\n",
      "  warnings.warn(\"nn.functional.sigmoid is deprecated. Use torch.sigmoid instead.\")\n",
      "100%|██████████| 92/92 [00:09<00:00,  9.54it/s]\n"
     ]
    },
    {
     "name": "stdout",
     "output_type": "stream",
     "text": [
      "Epoch: 25 Accuracy of the Valid Images: 4579.240766\n",
      "Confusion Matrix [[4190.  493.]\n",
      " [ 836.  329.]]\n",
      "Classification Report               precision    recall  f1-score   support\n",
      "\n",
      "         0.0       0.83      0.89      0.86      4683\n",
      "         1.0       0.40      0.28      0.33      1165\n",
      "\n",
      "    accuracy                           0.77      5848\n",
      "   macro avg       0.62      0.59      0.60      5848\n",
      "weighted avg       0.75      0.77      0.76      5848\n",
      "\n"
     ]
    },
    {
     "name": "stderr",
     "output_type": "stream",
     "text": [
      "  0%|          | 0/366 [00:00<?, ?it/s]C:\\Users\\admin\\.conda\\envs\\dental1_yolo\\lib\\site-packages\\torch\\nn\\functional.py:1805: UserWarning: nn.functional.sigmoid is deprecated. Use torch.sigmoid instead.\n",
      "  warnings.warn(\"nn.functional.sigmoid is deprecated. Use torch.sigmoid instead.\")\n",
      "100%|██████████| 366/366 [00:55<00:00,  6.56it/s]\n"
     ]
    },
    {
     "name": "stdout",
     "output_type": "stream",
     "text": [
      "Epoch 26, loss = 0.0575, batch_idx= 366\n",
      "Epoch: 26 Accuracy of the Train Images: 4395.587858\n",
      "Confusion Matrix [[18532.   197.]\n",
      " [  320.  4341.]]\n",
      "Classification Report               precision    recall  f1-score   support\n",
      "\n",
      "         0.0       0.98      0.99      0.99     18729\n",
      "         1.0       0.96      0.93      0.94      4661\n",
      "\n",
      "    accuracy                           0.98     23390\n",
      "   macro avg       0.97      0.96      0.97     23390\n",
      "weighted avg       0.98      0.98      0.98     23390\n",
      "\n"
     ]
    },
    {
     "name": "stderr",
     "output_type": "stream",
     "text": [
      "  0%|          | 0/92 [00:00<?, ?it/s]C:\\Users\\admin\\.conda\\envs\\dental1_yolo\\lib\\site-packages\\torch\\nn\\functional.py:1805: UserWarning: nn.functional.sigmoid is deprecated. Use torch.sigmoid instead.\n",
      "  warnings.warn(\"nn.functional.sigmoid is deprecated. Use torch.sigmoid instead.\")\n",
      "100%|██████████| 92/92 [00:09<00:00,  9.62it/s]\n"
     ]
    },
    {
     "name": "stdout",
     "output_type": "stream",
     "text": [
      "Epoch: 26 Accuracy of the Valid Images: 4273.324213\n",
      "Confusion Matrix [[3861.  822.]\n",
      " [ 695.  470.]]\n",
      "Classification Report               precision    recall  f1-score   support\n",
      "\n",
      "         0.0       0.85      0.82      0.84      4683\n",
      "         1.0       0.36      0.40      0.38      1165\n",
      "\n",
      "    accuracy                           0.74      5848\n",
      "   macro avg       0.61      0.61      0.61      5848\n",
      "weighted avg       0.75      0.74      0.75      5848\n",
      "\n"
     ]
    },
    {
     "name": "stderr",
     "output_type": "stream",
     "text": [
      "  0%|          | 0/366 [00:00<?, ?it/s]C:\\Users\\admin\\.conda\\envs\\dental1_yolo\\lib\\site-packages\\torch\\nn\\functional.py:1805: UserWarning: nn.functional.sigmoid is deprecated. Use torch.sigmoid instead.\n",
      "  warnings.warn(\"nn.functional.sigmoid is deprecated. Use torch.sigmoid instead.\")\n",
      "100%|██████████| 366/366 [00:55<00:00,  6.61it/s]\n"
     ]
    },
    {
     "name": "stdout",
     "output_type": "stream",
     "text": [
      "Epoch 27, loss = 0.0569, batch_idx= 366\n",
      "Epoch: 27 Accuracy of the Train Images: 4397.340744\n",
      "Confusion Matrix [[18542.   187.]\n",
      " [  297.  4364.]]\n",
      "Classification Report               precision    recall  f1-score   support\n",
      "\n",
      "         0.0       0.98      0.99      0.99     18729\n",
      "         1.0       0.96      0.94      0.95      4661\n",
      "\n",
      "    accuracy                           0.98     23390\n",
      "   macro avg       0.97      0.96      0.97     23390\n",
      "weighted avg       0.98      0.98      0.98     23390\n",
      "\n"
     ]
    },
    {
     "name": "stderr",
     "output_type": "stream",
     "text": [
      "  0%|          | 0/92 [00:00<?, ?it/s]C:\\Users\\admin\\.conda\\envs\\dental1_yolo\\lib\\site-packages\\torch\\nn\\functional.py:1805: UserWarning: nn.functional.sigmoid is deprecated. Use torch.sigmoid instead.\n",
      "  warnings.warn(\"nn.functional.sigmoid is deprecated. Use torch.sigmoid instead.\")\n",
      "100%|██████████| 92/92 [00:09<00:00,  9.46it/s]\n"
     ]
    },
    {
     "name": "stdout",
     "output_type": "stream",
     "text": [
      "Epoch: 27 Accuracy of the Valid Images: 4610.020520\n",
      "Confusion Matrix [[4211.  472.]\n",
      " [ 852.  313.]]\n",
      "Classification Report               precision    recall  f1-score   support\n",
      "\n",
      "         0.0       0.83      0.90      0.86      4683\n",
      "         1.0       0.40      0.27      0.32      1165\n",
      "\n",
      "    accuracy                           0.77      5848\n",
      "   macro avg       0.62      0.58      0.59      5848\n",
      "weighted avg       0.75      0.77      0.76      5848\n",
      "\n"
     ]
    },
    {
     "name": "stderr",
     "output_type": "stream",
     "text": [
      "  0%|          | 0/366 [00:00<?, ?it/s]C:\\Users\\admin\\.conda\\envs\\dental1_yolo\\lib\\site-packages\\torch\\nn\\functional.py:1805: UserWarning: nn.functional.sigmoid is deprecated. Use torch.sigmoid instead.\n",
      "  warnings.warn(\"nn.functional.sigmoid is deprecated. Use torch.sigmoid instead.\")\n",
      "100%|██████████| 366/366 [00:55<00:00,  6.61it/s]\n"
     ]
    },
    {
     "name": "stdout",
     "output_type": "stream",
     "text": [
      "Epoch 28, loss = 0.0469, batch_idx= 366\n",
      "Epoch: 28 Accuracy of the Train Images: 4394.211201\n",
      "Confusion Matrix [[18573.   156.]\n",
      " [  232.  4429.]]\n",
      "Classification Report               precision    recall  f1-score   support\n",
      "\n",
      "         0.0       0.99      0.99      0.99     18729\n",
      "         1.0       0.97      0.95      0.96      4661\n",
      "\n",
      "    accuracy                           0.98     23390\n",
      "   macro avg       0.98      0.97      0.97     23390\n",
      "weighted avg       0.98      0.98      0.98     23390\n",
      "\n"
     ]
    },
    {
     "name": "stderr",
     "output_type": "stream",
     "text": [
      "  0%|          | 0/92 [00:00<?, ?it/s]C:\\Users\\admin\\.conda\\envs\\dental1_yolo\\lib\\site-packages\\torch\\nn\\functional.py:1805: UserWarning: nn.functional.sigmoid is deprecated. Use torch.sigmoid instead.\n",
      "  warnings.warn(\"nn.functional.sigmoid is deprecated. Use torch.sigmoid instead.\")\n",
      "100%|██████████| 92/92 [00:09<00:00,  9.54it/s]\n"
     ]
    },
    {
     "name": "stdout",
     "output_type": "stream",
     "text": [
      "Epoch: 28 Accuracy of the Valid Images: 4874.692202\n",
      "Confusion Matrix [[4470.  213.]\n",
      " [1012.  153.]]\n",
      "Classification Report               precision    recall  f1-score   support\n",
      "\n",
      "         0.0       0.82      0.95      0.88      4683\n",
      "         1.0       0.42      0.13      0.20      1165\n",
      "\n",
      "    accuracy                           0.79      5848\n",
      "   macro avg       0.62      0.54      0.54      5848\n",
      "weighted avg       0.74      0.79      0.74      5848\n",
      "\n"
     ]
    },
    {
     "name": "stderr",
     "output_type": "stream",
     "text": [
      "  0%|          | 0/366 [00:00<?, ?it/s]C:\\Users\\admin\\.conda\\envs\\dental1_yolo\\lib\\site-packages\\torch\\nn\\functional.py:1805: UserWarning: nn.functional.sigmoid is deprecated. Use torch.sigmoid instead.\n",
      "  warnings.warn(\"nn.functional.sigmoid is deprecated. Use torch.sigmoid instead.\")\n",
      "100%|██████████| 366/366 [00:54<00:00,  6.68it/s]\n"
     ]
    },
    {
     "name": "stdout",
     "output_type": "stream",
     "text": [
      "Epoch 29, loss = 0.0536, batch_idx= 366\n",
      "Epoch: 29 Accuracy of the Train Images: 4401.718683\n",
      "Confusion Matrix [[18566.   163.]\n",
      " [  291.  4370.]]\n",
      "Classification Report               precision    recall  f1-score   support\n",
      "\n",
      "         0.0       0.98      0.99      0.99     18729\n",
      "         1.0       0.96      0.94      0.95      4661\n",
      "\n",
      "    accuracy                           0.98     23390\n",
      "   macro avg       0.97      0.96      0.97     23390\n",
      "weighted avg       0.98      0.98      0.98     23390\n",
      "\n"
     ]
    },
    {
     "name": "stderr",
     "output_type": "stream",
     "text": [
      "  0%|          | 0/92 [00:00<?, ?it/s]C:\\Users\\admin\\.conda\\envs\\dental1_yolo\\lib\\site-packages\\torch\\nn\\functional.py:1805: UserWarning: nn.functional.sigmoid is deprecated. Use torch.sigmoid instead.\n",
      "  warnings.warn(\"nn.functional.sigmoid is deprecated. Use torch.sigmoid instead.\")\n",
      "100%|██████████| 92/92 [00:09<00:00,  9.50it/s]\n"
     ]
    },
    {
     "name": "stdout",
     "output_type": "stream",
     "text": [
      "Epoch: 29 Accuracy of the Valid Images: 4802.804378\n",
      "Confusion Matrix [[4404.  279.]\n",
      " [ 969.  196.]]\n",
      "Classification Report               precision    recall  f1-score   support\n",
      "\n",
      "         0.0       0.82      0.94      0.88      4683\n",
      "         1.0       0.41      0.17      0.24      1165\n",
      "\n",
      "    accuracy                           0.79      5848\n",
      "   macro avg       0.62      0.55      0.56      5848\n",
      "weighted avg       0.74      0.79      0.75      5848\n",
      "\n"
     ]
    },
    {
     "name": "stderr",
     "output_type": "stream",
     "text": [
      "  0%|          | 0/366 [00:00<?, ?it/s]C:\\Users\\admin\\.conda\\envs\\dental1_yolo\\lib\\site-packages\\torch\\nn\\functional.py:1805: UserWarning: nn.functional.sigmoid is deprecated. Use torch.sigmoid instead.\n",
      "  warnings.warn(\"nn.functional.sigmoid is deprecated. Use torch.sigmoid instead.\")\n",
      "100%|██████████| 366/366 [00:54<00:00,  6.68it/s]\n"
     ]
    },
    {
     "name": "stdout",
     "output_type": "stream",
     "text": [
      "Epoch 30, loss = 0.0471, batch_idx= 366\n",
      "Epoch: 30 Accuracy of the Train Images: 4395.416845\n",
      "Confusion Matrix [[18572.   157.]\n",
      " [  248.  4413.]]\n",
      "Classification Report               precision    recall  f1-score   support\n",
      "\n",
      "         0.0       0.99      0.99      0.99     18729\n",
      "         1.0       0.97      0.95      0.96      4661\n",
      "\n",
      "    accuracy                           0.98     23390\n",
      "   macro avg       0.98      0.97      0.97     23390\n",
      "weighted avg       0.98      0.98      0.98     23390\n",
      "\n"
     ]
    },
    {
     "name": "stderr",
     "output_type": "stream",
     "text": [
      "  0%|          | 0/92 [00:00<?, ?it/s]C:\\Users\\admin\\.conda\\envs\\dental1_yolo\\lib\\site-packages\\torch\\nn\\functional.py:1805: UserWarning: nn.functional.sigmoid is deprecated. Use torch.sigmoid instead.\n",
      "  warnings.warn(\"nn.functional.sigmoid is deprecated. Use torch.sigmoid instead.\")\n",
      "100%|██████████| 92/92 [00:09<00:00,  9.59it/s]\n"
     ]
    },
    {
     "name": "stdout",
     "output_type": "stream",
     "text": [
      "Epoch: 30 Accuracy of the Valid Images: 4679.343365\n",
      "Confusion Matrix [[4278.  405.]\n",
      " [ 910.  255.]]\n",
      "Classification Report               precision    recall  f1-score   support\n",
      "\n",
      "         0.0       0.82      0.91      0.87      4683\n",
      "         1.0       0.39      0.22      0.28      1165\n",
      "\n",
      "    accuracy                           0.78      5848\n",
      "   macro avg       0.61      0.57      0.57      5848\n",
      "weighted avg       0.74      0.78      0.75      5848\n",
      "\n"
     ]
    },
    {
     "name": "stderr",
     "output_type": "stream",
     "text": [
      "  0%|          | 0/366 [00:00<?, ?it/s]C:\\Users\\admin\\.conda\\envs\\dental1_yolo\\lib\\site-packages\\torch\\nn\\functional.py:1805: UserWarning: nn.functional.sigmoid is deprecated. Use torch.sigmoid instead.\n",
      "  warnings.warn(\"nn.functional.sigmoid is deprecated. Use torch.sigmoid instead.\")\n",
      "100%|██████████| 366/366 [00:54<00:00,  6.68it/s]\n"
     ]
    },
    {
     "name": "stdout",
     "output_type": "stream",
     "text": [
      "Epoch 31, loss = 0.0379, batch_idx= 366\n",
      "Epoch: 31 Accuracy of the Train Images: 4394.681488\n",
      "Confusion Matrix [[18619.   110.]\n",
      " [  189.  4472.]]\n",
      "Classification Report               precision    recall  f1-score   support\n",
      "\n",
      "         0.0       0.99      0.99      0.99     18729\n",
      "         1.0       0.98      0.96      0.97      4661\n",
      "\n",
      "    accuracy                           0.99     23390\n",
      "   macro avg       0.98      0.98      0.98     23390\n",
      "weighted avg       0.99      0.99      0.99     23390\n",
      "\n"
     ]
    },
    {
     "name": "stderr",
     "output_type": "stream",
     "text": [
      "  0%|          | 0/92 [00:00<?, ?it/s]C:\\Users\\admin\\.conda\\envs\\dental1_yolo\\lib\\site-packages\\torch\\nn\\functional.py:1805: UserWarning: nn.functional.sigmoid is deprecated. Use torch.sigmoid instead.\n",
      "  warnings.warn(\"nn.functional.sigmoid is deprecated. Use torch.sigmoid instead.\")\n",
      "100%|██████████| 92/92 [00:09<00:00,  9.59it/s]\n"
     ]
    },
    {
     "name": "stdout",
     "output_type": "stream",
     "text": [
      "Epoch: 31 Accuracy of the Valid Images: 4737.106703\n",
      "Confusion Matrix [[4355.  328.]\n",
      " [ 919.  246.]]\n",
      "Classification Report               precision    recall  f1-score   support\n",
      "\n",
      "         0.0       0.83      0.93      0.87      4683\n",
      "         1.0       0.43      0.21      0.28      1165\n",
      "\n",
      "    accuracy                           0.79      5848\n",
      "   macro avg       0.63      0.57      0.58      5848\n",
      "weighted avg       0.75      0.79      0.76      5848\n",
      "\n"
     ]
    },
    {
     "name": "stderr",
     "output_type": "stream",
     "text": [
      "  0%|          | 0/366 [00:00<?, ?it/s]C:\\Users\\admin\\.conda\\envs\\dental1_yolo\\lib\\site-packages\\torch\\nn\\functional.py:1805: UserWarning: nn.functional.sigmoid is deprecated. Use torch.sigmoid instead.\n",
      "  warnings.warn(\"nn.functional.sigmoid is deprecated. Use torch.sigmoid instead.\")\n",
      "100%|██████████| 366/366 [00:54<00:00,  6.68it/s]\n"
     ]
    },
    {
     "name": "stdout",
     "output_type": "stream",
     "text": [
      "Epoch 32, loss = 0.0378, batch_idx= 366\n",
      "Epoch: 32 Accuracy of the Train Images: 4392.723386\n",
      "Confusion Matrix [[18618.   111.]\n",
      " [  196.  4465.]]\n",
      "Classification Report               precision    recall  f1-score   support\n",
      "\n",
      "         0.0       0.99      0.99      0.99     18729\n",
      "         1.0       0.98      0.96      0.97      4661\n",
      "\n",
      "    accuracy                           0.99     23390\n",
      "   macro avg       0.98      0.98      0.98     23390\n",
      "weighted avg       0.99      0.99      0.99     23390\n",
      "\n"
     ]
    },
    {
     "name": "stderr",
     "output_type": "stream",
     "text": [
      "  0%|          | 0/92 [00:00<?, ?it/s]C:\\Users\\admin\\.conda\\envs\\dental1_yolo\\lib\\site-packages\\torch\\nn\\functional.py:1805: UserWarning: nn.functional.sigmoid is deprecated. Use torch.sigmoid instead.\n",
      "  warnings.warn(\"nn.functional.sigmoid is deprecated. Use torch.sigmoid instead.\")\n",
      "100%|██████████| 92/92 [00:09<00:00,  9.59it/s]\n"
     ]
    },
    {
     "name": "stdout",
     "output_type": "stream",
     "text": [
      "Epoch: 32 Accuracy of the Valid Images: 3725.136799\n",
      "Confusion Matrix [[3219. 1464.]\n",
      " [ 499.  666.]]\n",
      "Classification Report               precision    recall  f1-score   support\n",
      "\n",
      "         0.0       0.87      0.69      0.77      4683\n",
      "         1.0       0.31      0.57      0.40      1165\n",
      "\n",
      "    accuracy                           0.66      5848\n",
      "   macro avg       0.59      0.63      0.59      5848\n",
      "weighted avg       0.76      0.66      0.69      5848\n",
      "\n"
     ]
    },
    {
     "name": "stderr",
     "output_type": "stream",
     "text": [
      "  0%|          | 0/366 [00:00<?, ?it/s]C:\\Users\\admin\\.conda\\envs\\dental1_yolo\\lib\\site-packages\\torch\\nn\\functional.py:1805: UserWarning: nn.functional.sigmoid is deprecated. Use torch.sigmoid instead.\n",
      "  warnings.warn(\"nn.functional.sigmoid is deprecated. Use torch.sigmoid instead.\")\n",
      "100%|██████████| 366/366 [00:54<00:00,  6.68it/s]\n"
     ]
    },
    {
     "name": "stdout",
     "output_type": "stream",
     "text": [
      "Epoch 33, loss = 0.0447, batch_idx= 366\n",
      "Epoch: 33 Accuracy of the Train Images: 4391.551945\n",
      "Confusion Matrix [[18571.   158.]\n",
      " [  226.  4435.]]\n",
      "Classification Report               precision    recall  f1-score   support\n",
      "\n",
      "         0.0       0.99      0.99      0.99     18729\n",
      "         1.0       0.97      0.95      0.96      4661\n",
      "\n",
      "    accuracy                           0.98     23390\n",
      "   macro avg       0.98      0.97      0.97     23390\n",
      "weighted avg       0.98      0.98      0.98     23390\n",
      "\n"
     ]
    },
    {
     "name": "stderr",
     "output_type": "stream",
     "text": [
      "  0%|          | 0/92 [00:00<?, ?it/s]C:\\Users\\admin\\.conda\\envs\\dental1_yolo\\lib\\site-packages\\torch\\nn\\functional.py:1805: UserWarning: nn.functional.sigmoid is deprecated. Use torch.sigmoid instead.\n",
      "  warnings.warn(\"nn.functional.sigmoid is deprecated. Use torch.sigmoid instead.\")\n",
      "100%|██████████| 92/92 [00:09<00:00,  9.60it/s]\n"
     ]
    },
    {
     "name": "stdout",
     "output_type": "stream",
     "text": [
      "Epoch: 33 Accuracy of the Valid Images: 4497.435021\n",
      "Confusion Matrix [[4113.  570.]\n",
      " [ 788.  377.]]\n",
      "Classification Report               precision    recall  f1-score   support\n",
      "\n",
      "         0.0       0.84      0.88      0.86      4683\n",
      "         1.0       0.40      0.32      0.36      1165\n",
      "\n",
      "    accuracy                           0.77      5848\n",
      "   macro avg       0.62      0.60      0.61      5848\n",
      "weighted avg       0.75      0.77      0.76      5848\n",
      "\n"
     ]
    },
    {
     "name": "stderr",
     "output_type": "stream",
     "text": [
      "  0%|          | 0/366 [00:00<?, ?it/s]C:\\Users\\admin\\.conda\\envs\\dental1_yolo\\lib\\site-packages\\torch\\nn\\functional.py:1805: UserWarning: nn.functional.sigmoid is deprecated. Use torch.sigmoid instead.\n",
      "  warnings.warn(\"nn.functional.sigmoid is deprecated. Use torch.sigmoid instead.\")\n",
      "100%|██████████| 366/366 [00:54<00:00,  6.68it/s]\n"
     ]
    },
    {
     "name": "stdout",
     "output_type": "stream",
     "text": [
      "Epoch 34, loss = 0.0357, batch_idx= 366\n",
      "Epoch: 34 Accuracy of the Train Images: 4391.594699\n",
      "Confusion Matrix [[18619.   110.]\n",
      " [  175.  4486.]]\n",
      "Classification Report               precision    recall  f1-score   support\n",
      "\n",
      "         0.0       0.99      0.99      0.99     18729\n",
      "         1.0       0.98      0.96      0.97      4661\n",
      "\n",
      "    accuracy                           0.99     23390\n",
      "   macro avg       0.98      0.98      0.98     23390\n",
      "weighted avg       0.99      0.99      0.99     23390\n",
      "\n"
     ]
    },
    {
     "name": "stderr",
     "output_type": "stream",
     "text": [
      "  0%|          | 0/92 [00:00<?, ?it/s]C:\\Users\\admin\\.conda\\envs\\dental1_yolo\\lib\\site-packages\\torch\\nn\\functional.py:1805: UserWarning: nn.functional.sigmoid is deprecated. Use torch.sigmoid instead.\n",
      "  warnings.warn(\"nn.functional.sigmoid is deprecated. Use torch.sigmoid instead.\")\n",
      "100%|██████████| 92/92 [00:09<00:00,  9.57it/s]\n"
     ]
    },
    {
     "name": "stdout",
     "output_type": "stream",
     "text": [
      "Epoch: 34 Accuracy of the Valid Images: 3981.634747\n",
      "Confusion Matrix [[3561. 1122.]\n",
      " [ 561.  604.]]\n",
      "Classification Report               precision    recall  f1-score   support\n",
      "\n",
      "         0.0       0.86      0.76      0.81      4683\n",
      "         1.0       0.35      0.52      0.42      1165\n",
      "\n",
      "    accuracy                           0.71      5848\n",
      "   macro avg       0.61      0.64      0.61      5848\n",
      "weighted avg       0.76      0.71      0.73      5848\n",
      "\n"
     ]
    },
    {
     "name": "stderr",
     "output_type": "stream",
     "text": [
      "  0%|          | 0/366 [00:00<?, ?it/s]C:\\Users\\admin\\.conda\\envs\\dental1_yolo\\lib\\site-packages\\torch\\nn\\functional.py:1805: UserWarning: nn.functional.sigmoid is deprecated. Use torch.sigmoid instead.\n",
      "  warnings.warn(\"nn.functional.sigmoid is deprecated. Use torch.sigmoid instead.\")\n",
      "100%|██████████| 366/366 [00:54<00:00,  6.70it/s]\n"
     ]
    },
    {
     "name": "stdout",
     "output_type": "stream",
     "text": [
      "Epoch 35, loss = 0.0425, batch_idx= 366\n",
      "Epoch: 35 Accuracy of the Train Images: 4384.514750\n",
      "Confusion Matrix [[18569.   160.]\n",
      " [  200.  4461.]]\n",
      "Classification Report               precision    recall  f1-score   support\n",
      "\n",
      "         0.0       0.99      0.99      0.99     18729\n",
      "         1.0       0.97      0.96      0.96      4661\n",
      "\n",
      "    accuracy                           0.98     23390\n",
      "   macro avg       0.98      0.97      0.98     23390\n",
      "weighted avg       0.98      0.98      0.98     23390\n",
      "\n"
     ]
    },
    {
     "name": "stderr",
     "output_type": "stream",
     "text": [
      "  0%|          | 0/92 [00:00<?, ?it/s]C:\\Users\\admin\\.conda\\envs\\dental1_yolo\\lib\\site-packages\\torch\\nn\\functional.py:1805: UserWarning: nn.functional.sigmoid is deprecated. Use torch.sigmoid instead.\n",
      "  warnings.warn(\"nn.functional.sigmoid is deprecated. Use torch.sigmoid instead.\")\n",
      "100%|██████████| 92/92 [00:09<00:00,  9.55it/s]\n"
     ]
    },
    {
     "name": "stdout",
     "output_type": "stream",
     "text": [
      "Epoch: 35 Accuracy of the Valid Images: 4248.358413\n",
      "Confusion Matrix [[3877.  806.]\n",
      " [ 650.  515.]]\n",
      "Classification Report               precision    recall  f1-score   support\n",
      "\n",
      "         0.0       0.86      0.83      0.84      4683\n",
      "         1.0       0.39      0.44      0.41      1165\n",
      "\n",
      "    accuracy                           0.75      5848\n",
      "   macro avg       0.62      0.63      0.63      5848\n",
      "weighted avg       0.76      0.75      0.76      5848\n",
      "\n"
     ]
    },
    {
     "name": "stderr",
     "output_type": "stream",
     "text": [
      "  0%|          | 0/366 [00:00<?, ?it/s]C:\\Users\\admin\\.conda\\envs\\dental1_yolo\\lib\\site-packages\\torch\\nn\\functional.py:1805: UserWarning: nn.functional.sigmoid is deprecated. Use torch.sigmoid instead.\n",
      "  warnings.warn(\"nn.functional.sigmoid is deprecated. Use torch.sigmoid instead.\")\n",
      "100%|██████████| 366/366 [00:54<00:00,  6.69it/s]\n"
     ]
    },
    {
     "name": "stdout",
     "output_type": "stream",
     "text": [
      "Epoch 36, loss = 0.0330, batch_idx= 366\n",
      "Epoch: 36 Accuracy of the Train Images: 4386.755024\n",
      "Confusion Matrix [[18608.   121.]\n",
      " [  165.  4496.]]\n",
      "Classification Report               precision    recall  f1-score   support\n",
      "\n",
      "         0.0       0.99      0.99      0.99     18729\n",
      "         1.0       0.97      0.96      0.97      4661\n",
      "\n",
      "    accuracy                           0.99     23390\n",
      "   macro avg       0.98      0.98      0.98     23390\n",
      "weighted avg       0.99      0.99      0.99     23390\n",
      "\n"
     ]
    },
    {
     "name": "stderr",
     "output_type": "stream",
     "text": [
      "  0%|          | 0/92 [00:00<?, ?it/s]C:\\Users\\admin\\.conda\\envs\\dental1_yolo\\lib\\site-packages\\torch\\nn\\functional.py:1805: UserWarning: nn.functional.sigmoid is deprecated. Use torch.sigmoid instead.\n",
      "  warnings.warn(\"nn.functional.sigmoid is deprecated. Use torch.sigmoid instead.\")\n",
      "100%|██████████| 92/92 [00:09<00:00,  9.53it/s]\n"
     ]
    },
    {
     "name": "stdout",
     "output_type": "stream",
     "text": [
      "Epoch: 36 Accuracy of the Valid Images: 4754.411765\n",
      "Confusion Matrix [[4378.  305.]\n",
      " [ 921.  244.]]\n",
      "Classification Report               precision    recall  f1-score   support\n",
      "\n",
      "         0.0       0.83      0.93      0.88      4683\n",
      "         1.0       0.44      0.21      0.28      1165\n",
      "\n",
      "    accuracy                           0.79      5848\n",
      "   macro avg       0.64      0.57      0.58      5848\n",
      "weighted avg       0.75      0.79      0.76      5848\n",
      "\n"
     ]
    },
    {
     "name": "stderr",
     "output_type": "stream",
     "text": [
      "  0%|          | 0/366 [00:00<?, ?it/s]C:\\Users\\admin\\.conda\\envs\\dental1_yolo\\lib\\site-packages\\torch\\nn\\functional.py:1805: UserWarning: nn.functional.sigmoid is deprecated. Use torch.sigmoid instead.\n",
      "  warnings.warn(\"nn.functional.sigmoid is deprecated. Use torch.sigmoid instead.\")\n",
      "100%|██████████| 366/366 [00:54<00:00,  6.69it/s]\n"
     ]
    },
    {
     "name": "stdout",
     "output_type": "stream",
     "text": [
      "Epoch 37, loss = 0.0374, batch_idx= 366\n",
      "Epoch: 37 Accuracy of the Train Images: 4384.856776\n",
      "Confusion Matrix [[18603.   126.]\n",
      " [  170.  4491.]]\n",
      "Classification Report               precision    recall  f1-score   support\n",
      "\n",
      "         0.0       0.99      0.99      0.99     18729\n",
      "         1.0       0.97      0.96      0.97      4661\n",
      "\n",
      "    accuracy                           0.99     23390\n",
      "   macro avg       0.98      0.98      0.98     23390\n",
      "weighted avg       0.99      0.99      0.99     23390\n",
      "\n"
     ]
    },
    {
     "name": "stderr",
     "output_type": "stream",
     "text": [
      "  0%|          | 0/92 [00:00<?, ?it/s]C:\\Users\\admin\\.conda\\envs\\dental1_yolo\\lib\\site-packages\\torch\\nn\\functional.py:1805: UserWarning: nn.functional.sigmoid is deprecated. Use torch.sigmoid instead.\n",
      "  warnings.warn(\"nn.functional.sigmoid is deprecated. Use torch.sigmoid instead.\")\n",
      "100%|██████████| 92/92 [00:09<00:00,  9.57it/s]\n"
     ]
    },
    {
     "name": "stdout",
     "output_type": "stream",
     "text": [
      "Epoch: 37 Accuracy of the Valid Images: 4440.902873\n",
      "Confusion Matrix [[4056.  627.]\n",
      " [ 756.  409.]]\n",
      "Classification Report               precision    recall  f1-score   support\n",
      "\n",
      "         0.0       0.84      0.87      0.85      4683\n",
      "         1.0       0.39      0.35      0.37      1165\n",
      "\n",
      "    accuracy                           0.76      5848\n",
      "   macro avg       0.62      0.61      0.61      5848\n",
      "weighted avg       0.75      0.76      0.76      5848\n",
      "\n"
     ]
    },
    {
     "name": "stderr",
     "output_type": "stream",
     "text": [
      "  0%|          | 0/366 [00:00<?, ?it/s]C:\\Users\\admin\\.conda\\envs\\dental1_yolo\\lib\\site-packages\\torch\\nn\\functional.py:1805: UserWarning: nn.functional.sigmoid is deprecated. Use torch.sigmoid instead.\n",
      "  warnings.warn(\"nn.functional.sigmoid is deprecated. Use torch.sigmoid instead.\")\n",
      "100%|██████████| 366/366 [00:54<00:00,  6.67it/s]\n"
     ]
    },
    {
     "name": "stdout",
     "output_type": "stream",
     "text": [
      "Epoch 38, loss = 0.0282, batch_idx= 366\n",
      "Epoch: 38 Accuracy of the Train Images: 4392.330056\n",
      "Confusion Matrix [[18645.    84.]\n",
      " [  139.  4522.]]\n",
      "Classification Report               precision    recall  f1-score   support\n",
      "\n",
      "         0.0       0.99      1.00      0.99     18729\n",
      "         1.0       0.98      0.97      0.98      4661\n",
      "\n",
      "    accuracy                           0.99     23390\n",
      "   macro avg       0.99      0.98      0.98     23390\n",
      "weighted avg       0.99      0.99      0.99     23390\n",
      "\n"
     ]
    },
    {
     "name": "stderr",
     "output_type": "stream",
     "text": [
      "  0%|          | 0/92 [00:00<?, ?it/s]C:\\Users\\admin\\.conda\\envs\\dental1_yolo\\lib\\site-packages\\torch\\nn\\functional.py:1805: UserWarning: nn.functional.sigmoid is deprecated. Use torch.sigmoid instead.\n",
      "  warnings.warn(\"nn.functional.sigmoid is deprecated. Use torch.sigmoid instead.\")\n",
      "100%|██████████| 92/92 [00:09<00:00,  9.60it/s]\n"
     ]
    },
    {
     "name": "stdout",
     "output_type": "stream",
     "text": [
      "Epoch: 38 Accuracy of the Valid Images: 4550.854993\n",
      "Confusion Matrix [[4177.  506.]\n",
      " [ 807.  358.]]\n",
      "Classification Report               precision    recall  f1-score   support\n",
      "\n",
      "         0.0       0.84      0.89      0.86      4683\n",
      "         1.0       0.41      0.31      0.35      1165\n",
      "\n",
      "    accuracy                           0.78      5848\n",
      "   macro avg       0.63      0.60      0.61      5848\n",
      "weighted avg       0.75      0.78      0.76      5848\n",
      "\n"
     ]
    },
    {
     "name": "stderr",
     "output_type": "stream",
     "text": [
      "  0%|          | 0/366 [00:00<?, ?it/s]C:\\Users\\admin\\.conda\\envs\\dental1_yolo\\lib\\site-packages\\torch\\nn\\functional.py:1805: UserWarning: nn.functional.sigmoid is deprecated. Use torch.sigmoid instead.\n",
      "  warnings.warn(\"nn.functional.sigmoid is deprecated. Use torch.sigmoid instead.\")\n",
      "100%|██████████| 366/366 [00:54<00:00,  6.67it/s]\n"
     ]
    },
    {
     "name": "stdout",
     "output_type": "stream",
     "text": [
      "Epoch 39, loss = 0.0308, batch_idx= 366\n",
      "Epoch: 39 Accuracy of the Train Images: 4391.355280\n",
      "Confusion Matrix [[18630.    99.]\n",
      " [  142.  4519.]]\n",
      "Classification Report               precision    recall  f1-score   support\n",
      "\n",
      "         0.0       0.99      0.99      0.99     18729\n",
      "         1.0       0.98      0.97      0.97      4661\n",
      "\n",
      "    accuracy                           0.99     23390\n",
      "   macro avg       0.99      0.98      0.98     23390\n",
      "weighted avg       0.99      0.99      0.99     23390\n",
      "\n"
     ]
    },
    {
     "name": "stderr",
     "output_type": "stream",
     "text": [
      "  0%|          | 0/92 [00:00<?, ?it/s]C:\\Users\\admin\\.conda\\envs\\dental1_yolo\\lib\\site-packages\\torch\\nn\\functional.py:1805: UserWarning: nn.functional.sigmoid is deprecated. Use torch.sigmoid instead.\n",
      "  warnings.warn(\"nn.functional.sigmoid is deprecated. Use torch.sigmoid instead.\")\n",
      "100%|██████████| 92/92 [00:09<00:00,  9.58it/s]\n"
     ]
    },
    {
     "name": "stdout",
     "output_type": "stream",
     "text": [
      "Epoch: 39 Accuracy of the Valid Images: 4669.015048\n",
      "Confusion Matrix [[4302.  381.]\n",
      " [ 854.  311.]]\n",
      "Classification Report               precision    recall  f1-score   support\n",
      "\n",
      "         0.0       0.83      0.92      0.87      4683\n",
      "         1.0       0.45      0.27      0.33      1165\n",
      "\n",
      "    accuracy                           0.79      5848\n",
      "   macro avg       0.64      0.59      0.60      5848\n",
      "weighted avg       0.76      0.79      0.77      5848\n",
      "\n"
     ]
    },
    {
     "name": "stderr",
     "output_type": "stream",
     "text": [
      "  0%|          | 0/366 [00:00<?, ?it/s]C:\\Users\\admin\\.conda\\envs\\dental1_yolo\\lib\\site-packages\\torch\\nn\\functional.py:1805: UserWarning: nn.functional.sigmoid is deprecated. Use torch.sigmoid instead.\n",
      "  warnings.warn(\"nn.functional.sigmoid is deprecated. Use torch.sigmoid instead.\")\n",
      "100%|██████████| 366/366 [00:54<00:00,  6.70it/s]\n"
     ]
    },
    {
     "name": "stdout",
     "output_type": "stream",
     "text": [
      "Epoch 40, loss = 0.0303, batch_idx= 366\n",
      "Epoch: 40 Accuracy of the Train Images: 4386.763574\n",
      "Confusion Matrix [[18612.   117.]\n",
      " [  155.  4506.]]\n",
      "Classification Report               precision    recall  f1-score   support\n",
      "\n",
      "         0.0       0.99      0.99      0.99     18729\n",
      "         1.0       0.97      0.97      0.97      4661\n",
      "\n",
      "    accuracy                           0.99     23390\n",
      "   macro avg       0.98      0.98      0.98     23390\n",
      "weighted avg       0.99      0.99      0.99     23390\n",
      "\n"
     ]
    },
    {
     "name": "stderr",
     "output_type": "stream",
     "text": [
      "  0%|          | 0/92 [00:00<?, ?it/s]C:\\Users\\admin\\.conda\\envs\\dental1_yolo\\lib\\site-packages\\torch\\nn\\functional.py:1805: UserWarning: nn.functional.sigmoid is deprecated. Use torch.sigmoid instead.\n",
      "  warnings.warn(\"nn.functional.sigmoid is deprecated. Use torch.sigmoid instead.\")\n",
      "100%|██████████| 92/92 [00:09<00:00,  9.55it/s]\n"
     ]
    },
    {
     "name": "stdout",
     "output_type": "stream",
     "text": [
      "Epoch: 40 Accuracy of the Valid Images: 4812.311902\n",
      "Confusion Matrix [[4410.  273.]\n",
      " [ 981.  184.]]\n",
      "Classification Report               precision    recall  f1-score   support\n",
      "\n",
      "         0.0       0.82      0.94      0.88      4683\n",
      "         1.0       0.40      0.16      0.23      1165\n",
      "\n",
      "    accuracy                           0.79      5848\n",
      "   macro avg       0.61      0.55      0.55      5848\n",
      "weighted avg       0.74      0.79      0.75      5848\n",
      "\n"
     ]
    },
    {
     "name": "stderr",
     "output_type": "stream",
     "text": [
      "  0%|          | 0/366 [00:00<?, ?it/s]C:\\Users\\admin\\.conda\\envs\\dental1_yolo\\lib\\site-packages\\torch\\nn\\functional.py:1805: UserWarning: nn.functional.sigmoid is deprecated. Use torch.sigmoid instead.\n",
      "  warnings.warn(\"nn.functional.sigmoid is deprecated. Use torch.sigmoid instead.\")\n",
      "100%|██████████| 366/366 [00:54<00:00,  6.67it/s]\n"
     ]
    },
    {
     "name": "stdout",
     "output_type": "stream",
     "text": [
      "Epoch 41, loss = 0.0333, batch_idx= 366\n",
      "Epoch: 41 Accuracy of the Train Images: 4394.348012\n",
      "Confusion Matrix [[18621.   108.]\n",
      " [  170.  4491.]]\n",
      "Classification Report               precision    recall  f1-score   support\n",
      "\n",
      "         0.0       0.99      0.99      0.99     18729\n",
      "         1.0       0.98      0.96      0.97      4661\n",
      "\n",
      "    accuracy                           0.99     23390\n",
      "   macro avg       0.98      0.98      0.98     23390\n",
      "weighted avg       0.99      0.99      0.99     23390\n",
      "\n"
     ]
    },
    {
     "name": "stderr",
     "output_type": "stream",
     "text": [
      "  0%|          | 0/92 [00:00<?, ?it/s]C:\\Users\\admin\\.conda\\envs\\dental1_yolo\\lib\\site-packages\\torch\\nn\\functional.py:1805: UserWarning: nn.functional.sigmoid is deprecated. Use torch.sigmoid instead.\n",
      "  warnings.warn(\"nn.functional.sigmoid is deprecated. Use torch.sigmoid instead.\")\n",
      "100%|██████████| 92/92 [00:09<00:00,  9.43it/s]\n"
     ]
    },
    {
     "name": "stdout",
     "output_type": "stream",
     "text": [
      "Epoch: 41 Accuracy of the Valid Images: 4910.362517\n",
      "Confusion Matrix [[4526.  157.]\n",
      " [1002.  163.]]\n",
      "Classification Report               precision    recall  f1-score   support\n",
      "\n",
      "         0.0       0.82      0.97      0.89      4683\n",
      "         1.0       0.51      0.14      0.22      1165\n",
      "\n",
      "    accuracy                           0.80      5848\n",
      "   macro avg       0.66      0.55      0.55      5848\n",
      "weighted avg       0.76      0.80      0.75      5848\n",
      "\n"
     ]
    },
    {
     "name": "stderr",
     "output_type": "stream",
     "text": [
      "  0%|          | 0/366 [00:00<?, ?it/s]C:\\Users\\admin\\.conda\\envs\\dental1_yolo\\lib\\site-packages\\torch\\nn\\functional.py:1805: UserWarning: nn.functional.sigmoid is deprecated. Use torch.sigmoid instead.\n",
      "  warnings.warn(\"nn.functional.sigmoid is deprecated. Use torch.sigmoid instead.\")\n",
      "100%|██████████| 366/366 [00:54<00:00,  6.67it/s]\n"
     ]
    },
    {
     "name": "stdout",
     "output_type": "stream",
     "text": [
      "Epoch 42, loss = 0.0296, batch_idx= 366\n",
      "Epoch: 42 Accuracy of the Train Images: 4390.337751\n",
      "Confusion Matrix [[18626.   103.]\n",
      " [  150.  4511.]]\n",
      "Classification Report               precision    recall  f1-score   support\n",
      "\n",
      "         0.0       0.99      0.99      0.99     18729\n",
      "         1.0       0.98      0.97      0.97      4661\n",
      "\n",
      "    accuracy                           0.99     23390\n",
      "   macro avg       0.98      0.98      0.98     23390\n",
      "weighted avg       0.99      0.99      0.99     23390\n",
      "\n"
     ]
    },
    {
     "name": "stderr",
     "output_type": "stream",
     "text": [
      "  0%|          | 0/92 [00:00<?, ?it/s]C:\\Users\\admin\\.conda\\envs\\dental1_yolo\\lib\\site-packages\\torch\\nn\\functional.py:1805: UserWarning: nn.functional.sigmoid is deprecated. Use torch.sigmoid instead.\n",
      "  warnings.warn(\"nn.functional.sigmoid is deprecated. Use torch.sigmoid instead.\")\n",
      "100%|██████████| 92/92 [00:09<00:00,  9.40it/s]\n"
     ]
    },
    {
     "name": "stdout",
     "output_type": "stream",
     "text": [
      "Epoch: 42 Accuracy of the Valid Images: 4821.751026\n",
      "Confusion Matrix [[4406.  277.]\n",
      " [ 989.  176.]]\n",
      "Classification Report               precision    recall  f1-score   support\n",
      "\n",
      "         0.0       0.82      0.94      0.87      4683\n",
      "         1.0       0.39      0.15      0.22      1165\n",
      "\n",
      "    accuracy                           0.78      5848\n",
      "   macro avg       0.60      0.55      0.55      5848\n",
      "weighted avg       0.73      0.78      0.74      5848\n",
      "\n"
     ]
    },
    {
     "name": "stderr",
     "output_type": "stream",
     "text": [
      "  0%|          | 0/366 [00:00<?, ?it/s]C:\\Users\\admin\\.conda\\envs\\dental1_yolo\\lib\\site-packages\\torch\\nn\\functional.py:1805: UserWarning: nn.functional.sigmoid is deprecated. Use torch.sigmoid instead.\n",
      "  warnings.warn(\"nn.functional.sigmoid is deprecated. Use torch.sigmoid instead.\")\n",
      "100%|██████████| 366/366 [00:54<00:00,  6.66it/s]\n"
     ]
    },
    {
     "name": "stdout",
     "output_type": "stream",
     "text": [
      "Epoch 43, loss = 0.0314, batch_idx= 366\n",
      "Epoch: 43 Accuracy of the Train Images: 4392.287302\n",
      "Confusion Matrix [[18629.   100.]\n",
      " [  166.  4495.]]\n",
      "Classification Report               precision    recall  f1-score   support\n",
      "\n",
      "         0.0       0.99      0.99      0.99     18729\n",
      "         1.0       0.98      0.96      0.97      4661\n",
      "\n",
      "    accuracy                           0.99     23390\n",
      "   macro avg       0.98      0.98      0.98     23390\n",
      "weighted avg       0.99      0.99      0.99     23390\n",
      "\n"
     ]
    },
    {
     "name": "stderr",
     "output_type": "stream",
     "text": [
      "  0%|          | 0/92 [00:00<?, ?it/s]C:\\Users\\admin\\.conda\\envs\\dental1_yolo\\lib\\site-packages\\torch\\nn\\functional.py:1805: UserWarning: nn.functional.sigmoid is deprecated. Use torch.sigmoid instead.\n",
      "  warnings.warn(\"nn.functional.sigmoid is deprecated. Use torch.sigmoid instead.\")\n",
      "100%|██████████| 92/92 [00:09<00:00,  9.57it/s]\n"
     ]
    },
    {
     "name": "stdout",
     "output_type": "stream",
     "text": [
      "Epoch: 43 Accuracy of the Valid Images: 4731.976744\n",
      "Confusion Matrix [[4360.  323.]\n",
      " [ 904.  261.]]\n",
      "Classification Report               precision    recall  f1-score   support\n",
      "\n",
      "         0.0       0.83      0.93      0.88      4683\n",
      "         1.0       0.45      0.22      0.30      1165\n",
      "\n",
      "    accuracy                           0.79      5848\n",
      "   macro avg       0.64      0.58      0.59      5848\n",
      "weighted avg       0.75      0.79      0.76      5848\n",
      "\n"
     ]
    },
    {
     "name": "stderr",
     "output_type": "stream",
     "text": [
      "  0%|          | 0/366 [00:00<?, ?it/s]C:\\Users\\admin\\.conda\\envs\\dental1_yolo\\lib\\site-packages\\torch\\nn\\functional.py:1805: UserWarning: nn.functional.sigmoid is deprecated. Use torch.sigmoid instead.\n",
      "  warnings.warn(\"nn.functional.sigmoid is deprecated. Use torch.sigmoid instead.\")\n",
      "100%|██████████| 366/366 [00:54<00:00,  6.67it/s]\n"
     ]
    },
    {
     "name": "stdout",
     "output_type": "stream",
     "text": [
      "Epoch 44, loss = 0.0317, batch_idx= 366\n",
      "Epoch: 44 Accuracy of the Train Images: 4386.293288\n",
      "Confusion Matrix [[18601.   128.]\n",
      " [  149.  4512.]]\n",
      "Classification Report               precision    recall  f1-score   support\n",
      "\n",
      "         0.0       0.99      0.99      0.99     18729\n",
      "         1.0       0.97      0.97      0.97      4661\n",
      "\n",
      "    accuracy                           0.99     23390\n",
      "   macro avg       0.98      0.98      0.98     23390\n",
      "weighted avg       0.99      0.99      0.99     23390\n",
      "\n"
     ]
    },
    {
     "name": "stderr",
     "output_type": "stream",
     "text": [
      "  0%|          | 0/92 [00:00<?, ?it/s]C:\\Users\\admin\\.conda\\envs\\dental1_yolo\\lib\\site-packages\\torch\\nn\\functional.py:1805: UserWarning: nn.functional.sigmoid is deprecated. Use torch.sigmoid instead.\n",
      "  warnings.warn(\"nn.functional.sigmoid is deprecated. Use torch.sigmoid instead.\")\n",
      "100%|██████████| 92/92 [00:09<00:00,  9.51it/s]\n"
     ]
    },
    {
     "name": "stdout",
     "output_type": "stream",
     "text": [
      "Epoch: 44 Accuracy of the Valid Images: 4838.987688\n",
      "Confusion Matrix [[4461.  222.]\n",
      " [ 963.  202.]]\n",
      "Classification Report               precision    recall  f1-score   support\n",
      "\n",
      "         0.0       0.82      0.95      0.88      4683\n",
      "         1.0       0.48      0.17      0.25      1165\n",
      "\n",
      "    accuracy                           0.80      5848\n",
      "   macro avg       0.65      0.56      0.57      5848\n",
      "weighted avg       0.75      0.80      0.76      5848\n",
      "\n"
     ]
    },
    {
     "name": "stderr",
     "output_type": "stream",
     "text": [
      "  0%|          | 0/366 [00:00<?, ?it/s]C:\\Users\\admin\\.conda\\envs\\dental1_yolo\\lib\\site-packages\\torch\\nn\\functional.py:1805: UserWarning: nn.functional.sigmoid is deprecated. Use torch.sigmoid instead.\n",
      "  warnings.warn(\"nn.functional.sigmoid is deprecated. Use torch.sigmoid instead.\")\n",
      "100%|██████████| 366/366 [00:54<00:00,  6.67it/s]\n"
     ]
    },
    {
     "name": "stdout",
     "output_type": "stream",
     "text": [
      "Epoch 45, loss = 0.0269, batch_idx= 366\n",
      "Epoch: 45 Accuracy of the Train Images: 4391.107311\n",
      "Confusion Matrix [[18645.    84.]\n",
      " [  115.  4546.]]\n",
      "Classification Report               precision    recall  f1-score   support\n",
      "\n",
      "         0.0       0.99      1.00      0.99     18729\n",
      "         1.0       0.98      0.98      0.98      4661\n",
      "\n",
      "    accuracy                           0.99     23390\n",
      "   macro avg       0.99      0.99      0.99     23390\n",
      "weighted avg       0.99      0.99      0.99     23390\n",
      "\n"
     ]
    },
    {
     "name": "stderr",
     "output_type": "stream",
     "text": [
      "  0%|          | 0/92 [00:00<?, ?it/s]C:\\Users\\admin\\.conda\\envs\\dental1_yolo\\lib\\site-packages\\torch\\nn\\functional.py:1805: UserWarning: nn.functional.sigmoid is deprecated. Use torch.sigmoid instead.\n",
      "  warnings.warn(\"nn.functional.sigmoid is deprecated. Use torch.sigmoid instead.\")\n",
      "100%|██████████| 92/92 [00:09<00:00,  9.54it/s]\n"
     ]
    },
    {
     "name": "stdout",
     "output_type": "stream",
     "text": [
      "Epoch: 45 Accuracy of the Valid Images: 4215.389877\n",
      "Confusion Matrix [[3802.  881.]\n",
      " [ 671.  494.]]\n",
      "Classification Report               precision    recall  f1-score   support\n",
      "\n",
      "         0.0       0.85      0.81      0.83      4683\n",
      "         1.0       0.36      0.42      0.39      1165\n",
      "\n",
      "    accuracy                           0.73      5848\n",
      "   macro avg       0.60      0.62      0.61      5848\n",
      "weighted avg       0.75      0.73      0.74      5848\n",
      "\n"
     ]
    },
    {
     "name": "stderr",
     "output_type": "stream",
     "text": [
      "  0%|          | 0/366 [00:00<?, ?it/s]C:\\Users\\admin\\.conda\\envs\\dental1_yolo\\lib\\site-packages\\torch\\nn\\functional.py:1805: UserWarning: nn.functional.sigmoid is deprecated. Use torch.sigmoid instead.\n",
      "  warnings.warn(\"nn.functional.sigmoid is deprecated. Use torch.sigmoid instead.\")\n",
      "100%|██████████| 366/366 [00:54<00:00,  6.67it/s]\n"
     ]
    },
    {
     "name": "stdout",
     "output_type": "stream",
     "text": [
      "Epoch 46, loss = 0.0261, batch_idx= 366\n",
      "Epoch: 46 Accuracy of the Train Images: 4388.439504\n",
      "Confusion Matrix [[18647.    82.]\n",
      " [  124.  4537.]]\n",
      "Classification Report               precision    recall  f1-score   support\n",
      "\n",
      "         0.0       0.99      1.00      0.99     18729\n",
      "         1.0       0.98      0.97      0.98      4661\n",
      "\n",
      "    accuracy                           0.99     23390\n",
      "   macro avg       0.99      0.98      0.99     23390\n",
      "weighted avg       0.99      0.99      0.99     23390\n",
      "\n"
     ]
    },
    {
     "name": "stderr",
     "output_type": "stream",
     "text": [
      "  0%|          | 0/92 [00:00<?, ?it/s]C:\\Users\\admin\\.conda\\envs\\dental1_yolo\\lib\\site-packages\\torch\\nn\\functional.py:1805: UserWarning: nn.functional.sigmoid is deprecated. Use torch.sigmoid instead.\n",
      "  warnings.warn(\"nn.functional.sigmoid is deprecated. Use torch.sigmoid instead.\")\n",
      "100%|██████████| 92/92 [00:09<00:00,  9.54it/s]\n"
     ]
    },
    {
     "name": "stdout",
     "output_type": "stream",
     "text": [
      "Epoch: 46 Accuracy of the Valid Images: 4439.124487\n",
      "Confusion Matrix [[4048.  635.]\n",
      " [ 773.  392.]]\n",
      "Classification Report               precision    recall  f1-score   support\n",
      "\n",
      "         0.0       0.84      0.86      0.85      4683\n",
      "         1.0       0.38      0.34      0.36      1165\n",
      "\n",
      "    accuracy                           0.76      5848\n",
      "   macro avg       0.61      0.60      0.60      5848\n",
      "weighted avg       0.75      0.76      0.75      5848\n",
      "\n"
     ]
    },
    {
     "name": "stderr",
     "output_type": "stream",
     "text": [
      "  0%|          | 0/366 [00:00<?, ?it/s]C:\\Users\\admin\\.conda\\envs\\dental1_yolo\\lib\\site-packages\\torch\\nn\\functional.py:1805: UserWarning: nn.functional.sigmoid is deprecated. Use torch.sigmoid instead.\n",
      "  warnings.warn(\"nn.functional.sigmoid is deprecated. Use torch.sigmoid instead.\")\n",
      "100%|██████████| 366/366 [00:54<00:00,  6.69it/s]\n"
     ]
    },
    {
     "name": "stdout",
     "output_type": "stream",
     "text": [
      "Epoch 47, loss = 0.0232, batch_idx= 366\n",
      "Epoch: 47 Accuracy of the Train Images: 4388.687473\n",
      "Confusion Matrix [[18655.    74.]\n",
      " [  108.  4553.]]\n",
      "Classification Report               precision    recall  f1-score   support\n",
      "\n",
      "         0.0       0.99      1.00      1.00     18729\n",
      "         1.0       0.98      0.98      0.98      4661\n",
      "\n",
      "    accuracy                           0.99     23390\n",
      "   macro avg       0.99      0.99      0.99     23390\n",
      "weighted avg       0.99      0.99      0.99     23390\n",
      "\n"
     ]
    },
    {
     "name": "stderr",
     "output_type": "stream",
     "text": [
      "  0%|          | 0/92 [00:00<?, ?it/s]C:\\Users\\admin\\.conda\\envs\\dental1_yolo\\lib\\site-packages\\torch\\nn\\functional.py:1805: UserWarning: nn.functional.sigmoid is deprecated. Use torch.sigmoid instead.\n",
      "  warnings.warn(\"nn.functional.sigmoid is deprecated. Use torch.sigmoid instead.\")\n",
      "100%|██████████| 92/92 [00:09<00:00,  9.61it/s]\n"
     ]
    },
    {
     "name": "stdout",
     "output_type": "stream",
     "text": [
      "Epoch: 47 Accuracy of the Valid Images: 5039.603283\n",
      "Confusion Matrix [[4622.   61.]\n",
      " [1112.   53.]]\n",
      "Classification Report               precision    recall  f1-score   support\n",
      "\n",
      "         0.0       0.81      0.99      0.89      4683\n",
      "         1.0       0.46      0.05      0.08      1165\n",
      "\n",
      "    accuracy                           0.80      5848\n",
      "   macro avg       0.64      0.52      0.49      5848\n",
      "weighted avg       0.74      0.80      0.73      5848\n",
      "\n"
     ]
    },
    {
     "name": "stderr",
     "output_type": "stream",
     "text": [
      "  0%|          | 0/366 [00:00<?, ?it/s]C:\\Users\\admin\\.conda\\envs\\dental1_yolo\\lib\\site-packages\\torch\\nn\\functional.py:1805: UserWarning: nn.functional.sigmoid is deprecated. Use torch.sigmoid instead.\n",
      "  warnings.warn(\"nn.functional.sigmoid is deprecated. Use torch.sigmoid instead.\")\n",
      "100%|██████████| 366/366 [00:54<00:00,  6.67it/s]\n"
     ]
    },
    {
     "name": "stdout",
     "output_type": "stream",
     "text": [
      "Epoch 48, loss = 0.0212, batch_idx= 366\n",
      "Epoch: 48 Accuracy of the Train Images: 4386.028217\n",
      "Confusion Matrix [[18649.    80.]\n",
      " [   99.  4562.]]\n",
      "Classification Report               precision    recall  f1-score   support\n",
      "\n",
      "         0.0       0.99      1.00      1.00     18729\n",
      "         1.0       0.98      0.98      0.98      4661\n",
      "\n",
      "    accuracy                           0.99     23390\n",
      "   macro avg       0.99      0.99      0.99     23390\n",
      "weighted avg       0.99      0.99      0.99     23390\n",
      "\n"
     ]
    },
    {
     "name": "stderr",
     "output_type": "stream",
     "text": [
      "  0%|          | 0/92 [00:00<?, ?it/s]C:\\Users\\admin\\.conda\\envs\\dental1_yolo\\lib\\site-packages\\torch\\nn\\functional.py:1805: UserWarning: nn.functional.sigmoid is deprecated. Use torch.sigmoid instead.\n",
      "  warnings.warn(\"nn.functional.sigmoid is deprecated. Use torch.sigmoid instead.\")\n",
      "100%|██████████| 92/92 [00:09<00:00,  9.58it/s]\n"
     ]
    },
    {
     "name": "stdout",
     "output_type": "stream",
     "text": [
      "Epoch: 48 Accuracy of the Valid Images: 4401.675787\n",
      "Confusion Matrix [[4039.  644.]\n",
      " [ 727.  438.]]\n",
      "Classification Report               precision    recall  f1-score   support\n",
      "\n",
      "         0.0       0.85      0.86      0.85      4683\n",
      "         1.0       0.40      0.38      0.39      1165\n",
      "\n",
      "    accuracy                           0.77      5848\n",
      "   macro avg       0.63      0.62      0.62      5848\n",
      "weighted avg       0.76      0.77      0.76      5848\n",
      "\n"
     ]
    },
    {
     "name": "stderr",
     "output_type": "stream",
     "text": [
      "  0%|          | 0/366 [00:00<?, ?it/s]C:\\Users\\admin\\.conda\\envs\\dental1_yolo\\lib\\site-packages\\torch\\nn\\functional.py:1805: UserWarning: nn.functional.sigmoid is deprecated. Use torch.sigmoid instead.\n",
      "  warnings.warn(\"nn.functional.sigmoid is deprecated. Use torch.sigmoid instead.\")\n",
      "100%|██████████| 366/366 [00:54<00:00,  6.67it/s]\n"
     ]
    },
    {
     "name": "stdout",
     "output_type": "stream",
     "text": [
      "Epoch 49, loss = 0.0299, batch_idx= 366\n",
      "Epoch: 49 Accuracy of the Train Images: 4392.022232\n",
      "Confusion Matrix [[18628.   101.]\n",
      " [  145.  4516.]]\n",
      "Classification Report               precision    recall  f1-score   support\n",
      "\n",
      "         0.0       0.99      0.99      0.99     18729\n",
      "         1.0       0.98      0.97      0.97      4661\n",
      "\n",
      "    accuracy                           0.99     23390\n",
      "   macro avg       0.99      0.98      0.98     23390\n",
      "weighted avg       0.99      0.99      0.99     23390\n",
      "\n"
     ]
    },
    {
     "name": "stderr",
     "output_type": "stream",
     "text": [
      "  0%|          | 0/92 [00:00<?, ?it/s]C:\\Users\\admin\\.conda\\envs\\dental1_yolo\\lib\\site-packages\\torch\\nn\\functional.py:1805: UserWarning: nn.functional.sigmoid is deprecated. Use torch.sigmoid instead.\n",
      "  warnings.warn(\"nn.functional.sigmoid is deprecated. Use torch.sigmoid instead.\")\n",
      "100%|██████████| 92/92 [00:09<00:00,  9.55it/s]\n"
     ]
    },
    {
     "name": "stdout",
     "output_type": "stream",
     "text": [
      "Epoch: 49 Accuracy of the Valid Images: 4475.547196\n",
      "Confusion Matrix [[4122.  561.]\n",
      " [ 741.  424.]]\n",
      "Classification Report               precision    recall  f1-score   support\n",
      "\n",
      "         0.0       0.85      0.88      0.86      4683\n",
      "         1.0       0.43      0.36      0.39      1165\n",
      "\n",
      "    accuracy                           0.78      5848\n",
      "   macro avg       0.64      0.62      0.63      5848\n",
      "weighted avg       0.76      0.78      0.77      5848\n",
      "\n"
     ]
    },
    {
     "name": "stderr",
     "output_type": "stream",
     "text": [
      "  0%|          | 0/366 [00:00<?, ?it/s]C:\\Users\\admin\\.conda\\envs\\dental1_yolo\\lib\\site-packages\\torch\\nn\\functional.py:1805: UserWarning: nn.functional.sigmoid is deprecated. Use torch.sigmoid instead.\n",
      "  warnings.warn(\"nn.functional.sigmoid is deprecated. Use torch.sigmoid instead.\")\n",
      "100%|██████████| 366/366 [00:54<00:00,  6.69it/s]\n"
     ]
    },
    {
     "name": "stdout",
     "output_type": "stream",
     "text": [
      "Epoch 50, loss = 0.0233, batch_idx= 366\n",
      "Epoch: 50 Accuracy of the Train Images: 4385.190252\n",
      "Confusion Matrix [[18643.    86.]\n",
      " [  110.  4551.]]\n",
      "Classification Report               precision    recall  f1-score   support\n",
      "\n",
      "         0.0       0.99      1.00      0.99     18729\n",
      "         1.0       0.98      0.98      0.98      4661\n",
      "\n",
      "    accuracy                           0.99     23390\n",
      "   macro avg       0.99      0.99      0.99     23390\n",
      "weighted avg       0.99      0.99      0.99     23390\n",
      "\n"
     ]
    },
    {
     "name": "stderr",
     "output_type": "stream",
     "text": [
      "  0%|          | 0/92 [00:00<?, ?it/s]C:\\Users\\admin\\.conda\\envs\\dental1_yolo\\lib\\site-packages\\torch\\nn\\functional.py:1805: UserWarning: nn.functional.sigmoid is deprecated. Use torch.sigmoid instead.\n",
      "  warnings.warn(\"nn.functional.sigmoid is deprecated. Use torch.sigmoid instead.\")\n",
      "100%|██████████| 92/92 [00:09<00:00,  9.59it/s]\n"
     ]
    },
    {
     "name": "stdout",
     "output_type": "stream",
     "text": [
      "Epoch: 50 Accuracy of the Valid Images: 3917.749658\n",
      "Confusion Matrix [[3418. 1265.]\n",
      " [ 595.  570.]]\n",
      "Classification Report               precision    recall  f1-score   support\n",
      "\n",
      "         0.0       0.85      0.73      0.79      4683\n",
      "         1.0       0.31      0.49      0.38      1165\n",
      "\n",
      "    accuracy                           0.68      5848\n",
      "   macro avg       0.58      0.61      0.58      5848\n",
      "weighted avg       0.74      0.68      0.71      5848\n",
      "\n"
     ]
    },
    {
     "name": "stderr",
     "output_type": "stream",
     "text": [
      "  0%|          | 0/366 [00:00<?, ?it/s]C:\\Users\\admin\\.conda\\envs\\dental1_yolo\\lib\\site-packages\\torch\\nn\\functional.py:1805: UserWarning: nn.functional.sigmoid is deprecated. Use torch.sigmoid instead.\n",
      "  warnings.warn(\"nn.functional.sigmoid is deprecated. Use torch.sigmoid instead.\")\n",
      "100%|██████████| 366/366 [00:54<00:00,  6.68it/s]\n"
     ]
    },
    {
     "name": "stdout",
     "output_type": "stream",
     "text": [
      "Epoch 51, loss = 0.0223, batch_idx= 366\n",
      "Epoch: 51 Accuracy of the Train Images: 4385.292860\n",
      "Confusion Matrix [[18657.    72.]\n",
      " [  101.  4560.]]\n",
      "Classification Report               precision    recall  f1-score   support\n",
      "\n",
      "         0.0       0.99      1.00      1.00     18729\n",
      "         1.0       0.98      0.98      0.98      4661\n",
      "\n",
      "    accuracy                           0.99     23390\n",
      "   macro avg       0.99      0.99      0.99     23390\n",
      "weighted avg       0.99      0.99      0.99     23390\n",
      "\n"
     ]
    },
    {
     "name": "stderr",
     "output_type": "stream",
     "text": [
      "  0%|          | 0/92 [00:00<?, ?it/s]C:\\Users\\admin\\.conda\\envs\\dental1_yolo\\lib\\site-packages\\torch\\nn\\functional.py:1805: UserWarning: nn.functional.sigmoid is deprecated. Use torch.sigmoid instead.\n",
      "  warnings.warn(\"nn.functional.sigmoid is deprecated. Use torch.sigmoid instead.\")\n",
      "100%|██████████| 92/92 [00:09<00:00,  9.53it/s]\n"
     ]
    },
    {
     "name": "stdout",
     "output_type": "stream",
     "text": [
      "Epoch: 51 Accuracy of the Valid Images: 4242.886457\n",
      "Confusion Matrix [[3814.  869.]\n",
      " [ 709.  456.]]\n",
      "Classification Report               precision    recall  f1-score   support\n",
      "\n",
      "         0.0       0.84      0.81      0.83      4683\n",
      "         1.0       0.34      0.39      0.37      1165\n",
      "\n",
      "    accuracy                           0.73      5848\n",
      "   macro avg       0.59      0.60      0.60      5848\n",
      "weighted avg       0.74      0.73      0.74      5848\n",
      "\n"
     ]
    },
    {
     "name": "stderr",
     "output_type": "stream",
     "text": [
      "  0%|          | 0/366 [00:00<?, ?it/s]C:\\Users\\admin\\.conda\\envs\\dental1_yolo\\lib\\site-packages\\torch\\nn\\functional.py:1805: UserWarning: nn.functional.sigmoid is deprecated. Use torch.sigmoid instead.\n",
      "  warnings.warn(\"nn.functional.sigmoid is deprecated. Use torch.sigmoid instead.\")\n",
      "100%|██████████| 366/366 [00:54<00:00,  6.69it/s]\n"
     ]
    },
    {
     "name": "stdout",
     "output_type": "stream",
     "text": [
      "Epoch 52, loss = 0.0252, batch_idx= 366\n",
      "Epoch: 52 Accuracy of the Train Images: 4389.191962\n",
      "Confusion Matrix [[18642.    87.]\n",
      " [  117.  4544.]]\n",
      "Classification Report               precision    recall  f1-score   support\n",
      "\n",
      "         0.0       0.99      1.00      0.99     18729\n",
      "         1.0       0.98      0.97      0.98      4661\n",
      "\n",
      "    accuracy                           0.99     23390\n",
      "   macro avg       0.99      0.99      0.99     23390\n",
      "weighted avg       0.99      0.99      0.99     23390\n",
      "\n"
     ]
    },
    {
     "name": "stderr",
     "output_type": "stream",
     "text": [
      "  0%|          | 0/92 [00:00<?, ?it/s]C:\\Users\\admin\\.conda\\envs\\dental1_yolo\\lib\\site-packages\\torch\\nn\\functional.py:1805: UserWarning: nn.functional.sigmoid is deprecated. Use torch.sigmoid instead.\n",
      "  warnings.warn(\"nn.functional.sigmoid is deprecated. Use torch.sigmoid instead.\")\n",
      "100%|██████████| 92/92 [00:09<00:00,  9.58it/s]\n"
     ]
    },
    {
     "name": "stdout",
     "output_type": "stream",
     "text": [
      "Epoch: 52 Accuracy of the Valid Images: 4729.787962\n",
      "Confusion Matrix [[4363.  320.]\n",
      " [ 897.  268.]]\n",
      "Classification Report               precision    recall  f1-score   support\n",
      "\n",
      "         0.0       0.83      0.93      0.88      4683\n",
      "         1.0       0.46      0.23      0.31      1165\n",
      "\n",
      "    accuracy                           0.79      5848\n",
      "   macro avg       0.64      0.58      0.59      5848\n",
      "weighted avg       0.76      0.79      0.76      5848\n",
      "\n"
     ]
    },
    {
     "name": "stderr",
     "output_type": "stream",
     "text": [
      "  0%|          | 0/366 [00:00<?, ?it/s]C:\\Users\\admin\\.conda\\envs\\dental1_yolo\\lib\\site-packages\\torch\\nn\\functional.py:1805: UserWarning: nn.functional.sigmoid is deprecated. Use torch.sigmoid instead.\n",
      "  warnings.warn(\"nn.functional.sigmoid is deprecated. Use torch.sigmoid instead.\")\n",
      "100%|██████████| 366/366 [00:54<00:00,  6.69it/s]\n"
     ]
    },
    {
     "name": "stdout",
     "output_type": "stream",
     "text": [
      "Epoch 53, loss = 0.0196, batch_idx= 366\n",
      "Epoch: 53 Accuracy of the Train Images: 4386.224882\n",
      "Confusion Matrix [[18657.    72.]\n",
      " [   90.  4571.]]\n",
      "Classification Report               precision    recall  f1-score   support\n",
      "\n",
      "         0.0       1.00      1.00      1.00     18729\n",
      "         1.0       0.98      0.98      0.98      4661\n",
      "\n",
      "    accuracy                           0.99     23390\n",
      "   macro avg       0.99      0.99      0.99     23390\n",
      "weighted avg       0.99      0.99      0.99     23390\n",
      "\n"
     ]
    },
    {
     "name": "stderr",
     "output_type": "stream",
     "text": [
      "  0%|          | 0/92 [00:00<?, ?it/s]C:\\Users\\admin\\.conda\\envs\\dental1_yolo\\lib\\site-packages\\torch\\nn\\functional.py:1805: UserWarning: nn.functional.sigmoid is deprecated. Use torch.sigmoid instead.\n",
      "  warnings.warn(\"nn.functional.sigmoid is deprecated. Use torch.sigmoid instead.\")\n",
      "100%|██████████| 92/92 [00:09<00:00,  9.54it/s]\n"
     ]
    },
    {
     "name": "stdout",
     "output_type": "stream",
     "text": [
      "Epoch: 53 Accuracy of the Valid Images: 4524.418605\n",
      "Confusion Matrix [[4150.  533.]\n",
      " [ 791.  374.]]\n",
      "Classification Report               precision    recall  f1-score   support\n",
      "\n",
      "         0.0       0.84      0.89      0.86      4683\n",
      "         1.0       0.41      0.32      0.36      1165\n",
      "\n",
      "    accuracy                           0.77      5848\n",
      "   macro avg       0.63      0.60      0.61      5848\n",
      "weighted avg       0.75      0.77      0.76      5848\n",
      "\n"
     ]
    },
    {
     "name": "stderr",
     "output_type": "stream",
     "text": [
      "  0%|          | 0/366 [00:00<?, ?it/s]C:\\Users\\admin\\.conda\\envs\\dental1_yolo\\lib\\site-packages\\torch\\nn\\functional.py:1805: UserWarning: nn.functional.sigmoid is deprecated. Use torch.sigmoid instead.\n",
      "  warnings.warn(\"nn.functional.sigmoid is deprecated. Use torch.sigmoid instead.\")\n",
      "100%|██████████| 366/366 [00:54<00:00,  6.69it/s]\n"
     ]
    },
    {
     "name": "stdout",
     "output_type": "stream",
     "text": [
      "Epoch 54, loss = 0.0198, batch_idx= 366\n",
      "Epoch: 54 Accuracy of the Train Images: 4384.463446\n",
      "Confusion Matrix [[18650.    79.]\n",
      " [   89.  4572.]]\n",
      "Classification Report               precision    recall  f1-score   support\n",
      "\n",
      "         0.0       1.00      1.00      1.00     18729\n",
      "         1.0       0.98      0.98      0.98      4661\n",
      "\n",
      "    accuracy                           0.99     23390\n",
      "   macro avg       0.99      0.99      0.99     23390\n",
      "weighted avg       0.99      0.99      0.99     23390\n",
      "\n"
     ]
    },
    {
     "name": "stderr",
     "output_type": "stream",
     "text": [
      "  0%|          | 0/92 [00:00<?, ?it/s]C:\\Users\\admin\\.conda\\envs\\dental1_yolo\\lib\\site-packages\\torch\\nn\\functional.py:1805: UserWarning: nn.functional.sigmoid is deprecated. Use torch.sigmoid instead.\n",
      "  warnings.warn(\"nn.functional.sigmoid is deprecated. Use torch.sigmoid instead.\")\n",
      "100%|██████████| 92/92 [00:09<00:00,  9.60it/s]\n"
     ]
    },
    {
     "name": "stdout",
     "output_type": "stream",
     "text": [
      "Epoch: 54 Accuracy of the Valid Images: 4866.518468\n",
      "Confusion Matrix [[4455.  228.]\n",
      " [1009.  156.]]\n",
      "Classification Report               precision    recall  f1-score   support\n",
      "\n",
      "         0.0       0.82      0.95      0.88      4683\n",
      "         1.0       0.41      0.13      0.20      1165\n",
      "\n",
      "    accuracy                           0.79      5848\n",
      "   macro avg       0.61      0.54      0.54      5848\n",
      "weighted avg       0.73      0.79      0.74      5848\n",
      "\n"
     ]
    },
    {
     "name": "stderr",
     "output_type": "stream",
     "text": [
      "  0%|          | 0/366 [00:00<?, ?it/s]C:\\Users\\admin\\.conda\\envs\\dental1_yolo\\lib\\site-packages\\torch\\nn\\functional.py:1805: UserWarning: nn.functional.sigmoid is deprecated. Use torch.sigmoid instead.\n",
      "  warnings.warn(\"nn.functional.sigmoid is deprecated. Use torch.sigmoid instead.\")\n",
      "100%|██████████| 366/366 [00:54<00:00,  6.70it/s]\n"
     ]
    },
    {
     "name": "stdout",
     "output_type": "stream",
     "text": [
      "Epoch 55, loss = 0.0180, batch_idx= 366\n",
      "Epoch: 55 Accuracy of the Train Images: 4393.963232\n",
      "Confusion Matrix [[18675.    54.]\n",
      " [   83.  4578.]]\n",
      "Classification Report               precision    recall  f1-score   support\n",
      "\n",
      "         0.0       1.00      1.00      1.00     18729\n",
      "         1.0       0.99      0.98      0.99      4661\n",
      "\n",
      "    accuracy                           0.99     23390\n",
      "   macro avg       0.99      0.99      0.99     23390\n",
      "weighted avg       0.99      0.99      0.99     23390\n",
      "\n"
     ]
    },
    {
     "name": "stderr",
     "output_type": "stream",
     "text": [
      "  0%|          | 0/92 [00:00<?, ?it/s]C:\\Users\\admin\\.conda\\envs\\dental1_yolo\\lib\\site-packages\\torch\\nn\\functional.py:1805: UserWarning: nn.functional.sigmoid is deprecated. Use torch.sigmoid instead.\n",
      "  warnings.warn(\"nn.functional.sigmoid is deprecated. Use torch.sigmoid instead.\")\n",
      "100%|██████████| 92/92 [00:09<00:00,  9.59it/s]\n"
     ]
    },
    {
     "name": "stdout",
     "output_type": "stream",
     "text": [
      "Epoch: 55 Accuracy of the Valid Images: 3926.949384\n",
      "Confusion Matrix [[3476. 1207.]\n",
      " [ 543.  622.]]\n",
      "Classification Report               precision    recall  f1-score   support\n",
      "\n",
      "         0.0       0.86      0.74      0.80      4683\n",
      "         1.0       0.34      0.53      0.42      1165\n",
      "\n",
      "    accuracy                           0.70      5848\n",
      "   macro avg       0.60      0.64      0.61      5848\n",
      "weighted avg       0.76      0.70      0.72      5848\n",
      "\n"
     ]
    },
    {
     "name": "stderr",
     "output_type": "stream",
     "text": [
      "  0%|          | 0/366 [00:00<?, ?it/s]C:\\Users\\admin\\.conda\\envs\\dental1_yolo\\lib\\site-packages\\torch\\nn\\functional.py:1805: UserWarning: nn.functional.sigmoid is deprecated. Use torch.sigmoid instead.\n",
      "  warnings.warn(\"nn.functional.sigmoid is deprecated. Use torch.sigmoid instead.\")\n",
      "100%|██████████| 366/366 [00:54<00:00,  6.68it/s]\n"
     ]
    },
    {
     "name": "stdout",
     "output_type": "stream",
     "text": [
      "Epoch 56, loss = 0.0170, batch_idx= 366\n",
      "Epoch: 56 Accuracy of the Train Images: 4386.797777\n",
      "Confusion Matrix [[18672.    57.]\n",
      " [   78.  4583.]]\n",
      "Classification Report               precision    recall  f1-score   support\n",
      "\n",
      "         0.0       1.00      1.00      1.00     18729\n",
      "         1.0       0.99      0.98      0.99      4661\n",
      "\n",
      "    accuracy                           0.99     23390\n",
      "   macro avg       0.99      0.99      0.99     23390\n",
      "weighted avg       0.99      0.99      0.99     23390\n",
      "\n"
     ]
    },
    {
     "name": "stderr",
     "output_type": "stream",
     "text": [
      "  0%|          | 0/92 [00:00<?, ?it/s]C:\\Users\\admin\\.conda\\envs\\dental1_yolo\\lib\\site-packages\\torch\\nn\\functional.py:1805: UserWarning: nn.functional.sigmoid is deprecated. Use torch.sigmoid instead.\n",
      "  warnings.warn(\"nn.functional.sigmoid is deprecated. Use torch.sigmoid instead.\")\n",
      "100%|██████████| 92/92 [00:09<00:00,  9.56it/s]\n"
     ]
    },
    {
     "name": "stdout",
     "output_type": "stream",
     "text": [
      "Epoch: 56 Accuracy of the Valid Images: 3470.143639\n",
      "Confusion Matrix [[2902. 1781.]\n",
      " [ 435.  730.]]\n",
      "Classification Report               precision    recall  f1-score   support\n",
      "\n",
      "         0.0       0.87      0.62      0.72      4683\n",
      "         1.0       0.29      0.63      0.40      1165\n",
      "\n",
      "    accuracy                           0.62      5848\n",
      "   macro avg       0.58      0.62      0.56      5848\n",
      "weighted avg       0.75      0.62      0.66      5848\n",
      "\n"
     ]
    },
    {
     "name": "stderr",
     "output_type": "stream",
     "text": [
      "  0%|          | 0/366 [00:00<?, ?it/s]C:\\Users\\admin\\.conda\\envs\\dental1_yolo\\lib\\site-packages\\torch\\nn\\functional.py:1805: UserWarning: nn.functional.sigmoid is deprecated. Use torch.sigmoid instead.\n",
      "  warnings.warn(\"nn.functional.sigmoid is deprecated. Use torch.sigmoid instead.\")\n",
      "100%|██████████| 366/366 [00:54<00:00,  6.70it/s]\n"
     ]
    },
    {
     "name": "stdout",
     "output_type": "stream",
     "text": [
      "Epoch 57, loss = 0.0236, batch_idx= 366\n",
      "Epoch: 57 Accuracy of the Train Images: 4390.337751\n",
      "Confusion Matrix [[18640.    89.]\n",
      " [  114.  4547.]]\n",
      "Classification Report               precision    recall  f1-score   support\n",
      "\n",
      "         0.0       0.99      1.00      0.99     18729\n",
      "         1.0       0.98      0.98      0.98      4661\n",
      "\n",
      "    accuracy                           0.99     23390\n",
      "   macro avg       0.99      0.99      0.99     23390\n",
      "weighted avg       0.99      0.99      0.99     23390\n",
      "\n"
     ]
    },
    {
     "name": "stderr",
     "output_type": "stream",
     "text": [
      "  0%|          | 0/92 [00:00<?, ?it/s]C:\\Users\\admin\\.conda\\envs\\dental1_yolo\\lib\\site-packages\\torch\\nn\\functional.py:1805: UserWarning: nn.functional.sigmoid is deprecated. Use torch.sigmoid instead.\n",
      "  warnings.warn(\"nn.functional.sigmoid is deprecated. Use torch.sigmoid instead.\")\n",
      "100%|██████████| 92/92 [00:09<00:00,  9.63it/s]\n"
     ]
    },
    {
     "name": "stdout",
     "output_type": "stream",
     "text": [
      "Epoch: 57 Accuracy of the Valid Images: 4782.250342\n",
      "Confusion Matrix [[4393.  290.]\n",
      " [ 940.  225.]]\n",
      "Classification Report               precision    recall  f1-score   support\n",
      "\n",
      "         0.0       0.82      0.94      0.88      4683\n",
      "         1.0       0.44      0.19      0.27      1165\n",
      "\n",
      "    accuracy                           0.79      5848\n",
      "   macro avg       0.63      0.57      0.57      5848\n",
      "weighted avg       0.75      0.79      0.76      5848\n",
      "\n"
     ]
    },
    {
     "name": "stderr",
     "output_type": "stream",
     "text": [
      "  0%|          | 0/366 [00:00<?, ?it/s]C:\\Users\\admin\\.conda\\envs\\dental1_yolo\\lib\\site-packages\\torch\\nn\\functional.py:1805: UserWarning: nn.functional.sigmoid is deprecated. Use torch.sigmoid instead.\n",
      "  warnings.warn(\"nn.functional.sigmoid is deprecated. Use torch.sigmoid instead.\")\n",
      "100%|██████████| 366/366 [00:54<00:00,  6.69it/s]\n"
     ]
    },
    {
     "name": "stdout",
     "output_type": "stream",
     "text": [
      "Epoch 58, loss = 0.0180, batch_idx= 366\n",
      "Epoch: 58 Accuracy of the Train Images: 4384.010261\n",
      "Confusion Matrix [[18669.    60.]\n",
      " [   78.  4583.]]\n",
      "Classification Report               precision    recall  f1-score   support\n",
      "\n",
      "         0.0       1.00      1.00      1.00     18729\n",
      "         1.0       0.99      0.98      0.99      4661\n",
      "\n",
      "    accuracy                           0.99     23390\n",
      "   macro avg       0.99      0.99      0.99     23390\n",
      "weighted avg       0.99      0.99      0.99     23390\n",
      "\n"
     ]
    },
    {
     "name": "stderr",
     "output_type": "stream",
     "text": [
      "  0%|          | 0/92 [00:00<?, ?it/s]C:\\Users\\admin\\.conda\\envs\\dental1_yolo\\lib\\site-packages\\torch\\nn\\functional.py:1805: UserWarning: nn.functional.sigmoid is deprecated. Use torch.sigmoid instead.\n",
      "  warnings.warn(\"nn.functional.sigmoid is deprecated. Use torch.sigmoid instead.\")\n",
      "100%|██████████| 92/92 [00:09<00:00,  9.56it/s]\n"
     ]
    },
    {
     "name": "stdout",
     "output_type": "stream",
     "text": [
      "Epoch: 58 Accuracy of the Valid Images: 4621.101231\n",
      "Confusion Matrix [[4238.  445.]\n",
      " [ 859.  306.]]\n",
      "Classification Report               precision    recall  f1-score   support\n",
      "\n",
      "         0.0       0.83      0.90      0.87      4683\n",
      "         1.0       0.41      0.26      0.32      1165\n",
      "\n",
      "    accuracy                           0.78      5848\n",
      "   macro avg       0.62      0.58      0.59      5848\n",
      "weighted avg       0.75      0.78      0.76      5848\n",
      "\n"
     ]
    },
    {
     "name": "stderr",
     "output_type": "stream",
     "text": [
      "  0%|          | 0/366 [00:00<?, ?it/s]C:\\Users\\admin\\.conda\\envs\\dental1_yolo\\lib\\site-packages\\torch\\nn\\functional.py:1805: UserWarning: nn.functional.sigmoid is deprecated. Use torch.sigmoid instead.\n",
      "  warnings.warn(\"nn.functional.sigmoid is deprecated. Use torch.sigmoid instead.\")\n",
      "100%|██████████| 366/366 [00:54<00:00,  6.68it/s]\n"
     ]
    },
    {
     "name": "stdout",
     "output_type": "stream",
     "text": [
      "Epoch 59, loss = 0.0149, batch_idx= 366\n",
      "Epoch: 59 Accuracy of the Train Images: 4384.583155\n",
      "Confusion Matrix [[18679.    50.]\n",
      " [   70.  4591.]]\n",
      "Classification Report               precision    recall  f1-score   support\n",
      "\n",
      "         0.0       1.00      1.00      1.00     18729\n",
      "         1.0       0.99      0.98      0.99      4661\n",
      "\n",
      "    accuracy                           0.99     23390\n",
      "   macro avg       0.99      0.99      0.99     23390\n",
      "weighted avg       0.99      0.99      0.99     23390\n",
      "\n"
     ]
    },
    {
     "name": "stderr",
     "output_type": "stream",
     "text": [
      "  0%|          | 0/92 [00:00<?, ?it/s]C:\\Users\\admin\\.conda\\envs\\dental1_yolo\\lib\\site-packages\\torch\\nn\\functional.py:1805: UserWarning: nn.functional.sigmoid is deprecated. Use torch.sigmoid instead.\n",
      "  warnings.warn(\"nn.functional.sigmoid is deprecated. Use torch.sigmoid instead.\")\n",
      "100%|██████████| 92/92 [00:09<00:00,  9.50it/s]\n"
     ]
    },
    {
     "name": "stdout",
     "output_type": "stream",
     "text": [
      "Epoch: 59 Accuracy of the Valid Images: 4402.051984\n",
      "Confusion Matrix [[4008.  675.]\n",
      " [ 746.  419.]]\n",
      "Classification Report               precision    recall  f1-score   support\n",
      "\n",
      "         0.0       0.84      0.86      0.85      4683\n",
      "         1.0       0.38      0.36      0.37      1165\n",
      "\n",
      "    accuracy                           0.76      5848\n",
      "   macro avg       0.61      0.61      0.61      5848\n",
      "weighted avg       0.75      0.76      0.75      5848\n",
      "\n"
     ]
    },
    {
     "name": "stderr",
     "output_type": "stream",
     "text": [
      "  0%|          | 0/366 [00:00<?, ?it/s]C:\\Users\\admin\\.conda\\envs\\dental1_yolo\\lib\\site-packages\\torch\\nn\\functional.py:1805: UserWarning: nn.functional.sigmoid is deprecated. Use torch.sigmoid instead.\n",
      "  warnings.warn(\"nn.functional.sigmoid is deprecated. Use torch.sigmoid instead.\")\n",
      "100%|██████████| 366/366 [00:54<00:00,  6.66it/s]\n"
     ]
    },
    {
     "name": "stdout",
     "output_type": "stream",
     "text": [
      "Epoch 60, loss = 0.0238, batch_idx= 366\n",
      "Epoch: 60 Accuracy of the Train Images: 4382.744763\n",
      "Confusion Matrix [[18642.    87.]\n",
      " [  108.  4553.]]\n",
      "Classification Report               precision    recall  f1-score   support\n",
      "\n",
      "         0.0       0.99      1.00      0.99     18729\n",
      "         1.0       0.98      0.98      0.98      4661\n",
      "\n",
      "    accuracy                           0.99     23390\n",
      "   macro avg       0.99      0.99      0.99     23390\n",
      "weighted avg       0.99      0.99      0.99     23390\n",
      "\n"
     ]
    },
    {
     "name": "stderr",
     "output_type": "stream",
     "text": [
      "  0%|          | 0/92 [00:00<?, ?it/s]C:\\Users\\admin\\.conda\\envs\\dental1_yolo\\lib\\site-packages\\torch\\nn\\functional.py:1805: UserWarning: nn.functional.sigmoid is deprecated. Use torch.sigmoid instead.\n",
      "  warnings.warn(\"nn.functional.sigmoid is deprecated. Use torch.sigmoid instead.\")\n",
      "100%|██████████| 92/92 [00:09<00:00,  9.57it/s]\n"
     ]
    },
    {
     "name": "stdout",
     "output_type": "stream",
     "text": [
      "Epoch: 60 Accuracy of the Valid Images: 4622.127223\n",
      "Confusion Matrix [[4241.  442.]\n",
      " [ 856.  309.]]\n",
      "Classification Report               precision    recall  f1-score   support\n",
      "\n",
      "         0.0       0.83      0.91      0.87      4683\n",
      "         1.0       0.41      0.27      0.32      1165\n",
      "\n",
      "    accuracy                           0.78      5848\n",
      "   macro avg       0.62      0.59      0.59      5848\n",
      "weighted avg       0.75      0.78      0.76      5848\n",
      "\n"
     ]
    },
    {
     "name": "stderr",
     "output_type": "stream",
     "text": [
      "  0%|          | 0/366 [00:00<?, ?it/s]C:\\Users\\admin\\.conda\\envs\\dental1_yolo\\lib\\site-packages\\torch\\nn\\functional.py:1805: UserWarning: nn.functional.sigmoid is deprecated. Use torch.sigmoid instead.\n",
      "  warnings.warn(\"nn.functional.sigmoid is deprecated. Use torch.sigmoid instead.\")\n",
      "100%|██████████| 366/366 [00:55<00:00,  6.62it/s]\n"
     ]
    },
    {
     "name": "stdout",
     "output_type": "stream",
     "text": [
      "Epoch 61, loss = 0.0225, batch_idx= 366\n",
      "Epoch: 61 Accuracy of the Train Images: 4386.336041\n",
      "Confusion Matrix [[18655.    74.]\n",
      " [   98.  4563.]]\n",
      "Classification Report               precision    recall  f1-score   support\n",
      "\n",
      "         0.0       0.99      1.00      1.00     18729\n",
      "         1.0       0.98      0.98      0.98      4661\n",
      "\n",
      "    accuracy                           0.99     23390\n",
      "   macro avg       0.99      0.99      0.99     23390\n",
      "weighted avg       0.99      0.99      0.99     23390\n",
      "\n"
     ]
    },
    {
     "name": "stderr",
     "output_type": "stream",
     "text": [
      "  0%|          | 0/92 [00:00<?, ?it/s]C:\\Users\\admin\\.conda\\envs\\dental1_yolo\\lib\\site-packages\\torch\\nn\\functional.py:1805: UserWarning: nn.functional.sigmoid is deprecated. Use torch.sigmoid instead.\n",
      "  warnings.warn(\"nn.functional.sigmoid is deprecated. Use torch.sigmoid instead.\")\n",
      "100%|██████████| 92/92 [00:09<00:00,  9.44it/s]\n"
     ]
    },
    {
     "name": "stdout",
     "output_type": "stream",
     "text": [
      "Epoch: 61 Accuracy of the Valid Images: 4458.276334\n",
      "Confusion Matrix [[4039.  644.]\n",
      " [ 805.  360.]]\n",
      "Classification Report               precision    recall  f1-score   support\n",
      "\n",
      "         0.0       0.83      0.86      0.85      4683\n",
      "         1.0       0.36      0.31      0.33      1165\n",
      "\n",
      "    accuracy                           0.75      5848\n",
      "   macro avg       0.60      0.59      0.59      5848\n",
      "weighted avg       0.74      0.75      0.75      5848\n",
      "\n"
     ]
    },
    {
     "name": "stderr",
     "output_type": "stream",
     "text": [
      "  0%|          | 0/366 [00:00<?, ?it/s]C:\\Users\\admin\\.conda\\envs\\dental1_yolo\\lib\\site-packages\\torch\\nn\\functional.py:1805: UserWarning: nn.functional.sigmoid is deprecated. Use torch.sigmoid instead.\n",
      "  warnings.warn(\"nn.functional.sigmoid is deprecated. Use torch.sigmoid instead.\")\n",
      "100%|██████████| 366/366 [00:55<00:00,  6.60it/s]\n"
     ]
    },
    {
     "name": "stdout",
     "output_type": "stream",
     "text": [
      "Epoch 62, loss = 0.0136, batch_idx= 366\n",
      "Epoch: 62 Accuracy of the Train Images: 4387.430526\n",
      "Confusion Matrix [[18687.    42.]\n",
      " [   68.  4593.]]\n",
      "Classification Report               precision    recall  f1-score   support\n",
      "\n",
      "         0.0       1.00      1.00      1.00     18729\n",
      "         1.0       0.99      0.99      0.99      4661\n",
      "\n",
      "    accuracy                           1.00     23390\n",
      "   macro avg       0.99      0.99      0.99     23390\n",
      "weighted avg       1.00      1.00      1.00     23390\n",
      "\n"
     ]
    },
    {
     "name": "stderr",
     "output_type": "stream",
     "text": [
      "  0%|          | 0/92 [00:00<?, ?it/s]C:\\Users\\admin\\.conda\\envs\\dental1_yolo\\lib\\site-packages\\torch\\nn\\functional.py:1805: UserWarning: nn.functional.sigmoid is deprecated. Use torch.sigmoid instead.\n",
      "  warnings.warn(\"nn.functional.sigmoid is deprecated. Use torch.sigmoid instead.\")\n",
      "100%|██████████| 92/92 [00:09<00:00,  9.52it/s]\n"
     ]
    },
    {
     "name": "stdout",
     "output_type": "stream",
     "text": [
      "Epoch: 62 Accuracy of the Valid Images: 4259.404925\n",
      "Confusion Matrix [[3882.  801.]\n",
      " [ 656.  509.]]\n",
      "Classification Report               precision    recall  f1-score   support\n",
      "\n",
      "         0.0       0.86      0.83      0.84      4683\n",
      "         1.0       0.39      0.44      0.41      1165\n",
      "\n",
      "    accuracy                           0.75      5848\n",
      "   macro avg       0.62      0.63      0.63      5848\n",
      "weighted avg       0.76      0.75      0.76      5848\n",
      "\n"
     ]
    },
    {
     "name": "stderr",
     "output_type": "stream",
     "text": [
      "  0%|          | 0/366 [00:00<?, ?it/s]C:\\Users\\admin\\.conda\\envs\\dental1_yolo\\lib\\site-packages\\torch\\nn\\functional.py:1805: UserWarning: nn.functional.sigmoid is deprecated. Use torch.sigmoid instead.\n",
      "  warnings.warn(\"nn.functional.sigmoid is deprecated. Use torch.sigmoid instead.\")\n",
      "100%|██████████| 366/366 [00:55<00:00,  6.60it/s]\n"
     ]
    },
    {
     "name": "stdout",
     "output_type": "stream",
     "text": [
      "Epoch 63, loss = 0.0113, batch_idx= 366\n",
      "Epoch: 63 Accuracy of the Train Images: 4386.036768\n",
      "Confusion Matrix [[18695.    34.]\n",
      " [   51.  4610.]]\n",
      "Classification Report               precision    recall  f1-score   support\n",
      "\n",
      "         0.0       1.00      1.00      1.00     18729\n",
      "         1.0       0.99      0.99      0.99      4661\n",
      "\n",
      "    accuracy                           1.00     23390\n",
      "   macro avg       0.99      0.99      0.99     23390\n",
      "weighted avg       1.00      1.00      1.00     23390\n",
      "\n"
     ]
    },
    {
     "name": "stderr",
     "output_type": "stream",
     "text": [
      "  0%|          | 0/92 [00:00<?, ?it/s]C:\\Users\\admin\\.conda\\envs\\dental1_yolo\\lib\\site-packages\\torch\\nn\\functional.py:1805: UserWarning: nn.functional.sigmoid is deprecated. Use torch.sigmoid instead.\n",
      "  warnings.warn(\"nn.functional.sigmoid is deprecated. Use torch.sigmoid instead.\")\n",
      "100%|██████████| 92/92 [00:09<00:00,  9.59it/s]\n"
     ]
    },
    {
     "name": "stdout",
     "output_type": "stream",
     "text": [
      "Epoch: 63 Accuracy of the Valid Images: 4739.261286\n",
      "Confusion Matrix [[4366.  317.]\n",
      " [ 907.  258.]]\n",
      "Classification Report               precision    recall  f1-score   support\n",
      "\n",
      "         0.0       0.83      0.93      0.88      4683\n",
      "         1.0       0.45      0.22      0.30      1165\n",
      "\n",
      "    accuracy                           0.79      5848\n",
      "   macro avg       0.64      0.58      0.59      5848\n",
      "weighted avg       0.75      0.79      0.76      5848\n",
      "\n"
     ]
    },
    {
     "name": "stderr",
     "output_type": "stream",
     "text": [
      "  0%|          | 0/366 [00:00<?, ?it/s]C:\\Users\\admin\\.conda\\envs\\dental1_yolo\\lib\\site-packages\\torch\\nn\\functional.py:1805: UserWarning: nn.functional.sigmoid is deprecated. Use torch.sigmoid instead.\n",
      "  warnings.warn(\"nn.functional.sigmoid is deprecated. Use torch.sigmoid instead.\")\n",
      "100%|██████████| 366/366 [00:54<00:00,  6.69it/s]\n"
     ]
    },
    {
     "name": "stdout",
     "output_type": "stream",
     "text": [
      "Epoch 64, loss = 0.0176, batch_idx= 366\n",
      "Epoch: 64 Accuracy of the Train Images: 4390.560068\n",
      "Confusion Matrix [[18680.    49.]\n",
      " [   80.  4581.]]\n",
      "Classification Report               precision    recall  f1-score   support\n",
      "\n",
      "         0.0       1.00      1.00      1.00     18729\n",
      "         1.0       0.99      0.98      0.99      4661\n",
      "\n",
      "    accuracy                           0.99     23390\n",
      "   macro avg       0.99      0.99      0.99     23390\n",
      "weighted avg       0.99      0.99      0.99     23390\n",
      "\n"
     ]
    },
    {
     "name": "stderr",
     "output_type": "stream",
     "text": [
      "  0%|          | 0/92 [00:00<?, ?it/s]C:\\Users\\admin\\.conda\\envs\\dental1_yolo\\lib\\site-packages\\torch\\nn\\functional.py:1805: UserWarning: nn.functional.sigmoid is deprecated. Use torch.sigmoid instead.\n",
      "  warnings.warn(\"nn.functional.sigmoid is deprecated. Use torch.sigmoid instead.\")\n",
      "100%|██████████| 92/92 [00:09<00:00,  9.65it/s]\n"
     ]
    },
    {
     "name": "stdout",
     "output_type": "stream",
     "text": [
      "Epoch: 64 Accuracy of the Valid Images: 5040.560876\n",
      "Confusion Matrix [[4629.   54.]\n",
      " [1111.   54.]]\n",
      "Classification Report               precision    recall  f1-score   support\n",
      "\n",
      "         0.0       0.81      0.99      0.89      4683\n",
      "         1.0       0.50      0.05      0.08      1165\n",
      "\n",
      "    accuracy                           0.80      5848\n",
      "   macro avg       0.65      0.52      0.49      5848\n",
      "weighted avg       0.75      0.80      0.73      5848\n",
      "\n"
     ]
    },
    {
     "name": "stderr",
     "output_type": "stream",
     "text": [
      "  0%|          | 0/366 [00:00<?, ?it/s]C:\\Users\\admin\\.conda\\envs\\dental1_yolo\\lib\\site-packages\\torch\\nn\\functional.py:1805: UserWarning: nn.functional.sigmoid is deprecated. Use torch.sigmoid instead.\n",
      "  warnings.warn(\"nn.functional.sigmoid is deprecated. Use torch.sigmoid instead.\")\n",
      "100%|██████████| 366/366 [00:54<00:00,  6.72it/s]\n"
     ]
    },
    {
     "name": "stdout",
     "output_type": "stream",
     "text": [
      "Epoch 65, loss = 0.0212, batch_idx= 366\n",
      "Epoch: 65 Accuracy of the Train Images: 4387.182557\n",
      "Confusion Matrix [[18665.    64.]\n",
      " [  105.  4556.]]\n",
      "Classification Report               precision    recall  f1-score   support\n",
      "\n",
      "         0.0       0.99      1.00      1.00     18729\n",
      "         1.0       0.99      0.98      0.98      4661\n",
      "\n",
      "    accuracy                           0.99     23390\n",
      "   macro avg       0.99      0.99      0.99     23390\n",
      "weighted avg       0.99      0.99      0.99     23390\n",
      "\n"
     ]
    },
    {
     "name": "stderr",
     "output_type": "stream",
     "text": [
      "  0%|          | 0/92 [00:00<?, ?it/s]C:\\Users\\admin\\.conda\\envs\\dental1_yolo\\lib\\site-packages\\torch\\nn\\functional.py:1805: UserWarning: nn.functional.sigmoid is deprecated. Use torch.sigmoid instead.\n",
      "  warnings.warn(\"nn.functional.sigmoid is deprecated. Use torch.sigmoid instead.\")\n",
      "100%|██████████| 92/92 [00:09<00:00,  9.62it/s]\n"
     ]
    },
    {
     "name": "stdout",
     "output_type": "stream",
     "text": [
      "Epoch: 65 Accuracy of the Valid Images: 4582.729138\n",
      "Confusion Matrix [[4215.  468.]\n",
      " [ 813.  352.]]\n",
      "Classification Report               precision    recall  f1-score   support\n",
      "\n",
      "         0.0       0.84      0.90      0.87      4683\n",
      "         1.0       0.43      0.30      0.35      1165\n",
      "\n",
      "    accuracy                           0.78      5848\n",
      "   macro avg       0.63      0.60      0.61      5848\n",
      "weighted avg       0.76      0.78      0.77      5848\n",
      "\n"
     ]
    },
    {
     "name": "stderr",
     "output_type": "stream",
     "text": [
      "  0%|          | 0/366 [00:00<?, ?it/s]C:\\Users\\admin\\.conda\\envs\\dental1_yolo\\lib\\site-packages\\torch\\nn\\functional.py:1805: UserWarning: nn.functional.sigmoid is deprecated. Use torch.sigmoid instead.\n",
      "  warnings.warn(\"nn.functional.sigmoid is deprecated. Use torch.sigmoid instead.\")\n",
      "100%|██████████| 366/366 [00:54<00:00,  6.74it/s]\n"
     ]
    },
    {
     "name": "stdout",
     "output_type": "stream",
     "text": [
      "Epoch 66, loss = 0.0196, batch_idx= 366\n",
      "Epoch: 66 Accuracy of the Train Images: 4390.166738\n",
      "Confusion Matrix [[18656.    73.]\n",
      " [  103.  4558.]]\n",
      "Classification Report               precision    recall  f1-score   support\n",
      "\n",
      "         0.0       0.99      1.00      1.00     18729\n",
      "         1.0       0.98      0.98      0.98      4661\n",
      "\n",
      "    accuracy                           0.99     23390\n",
      "   macro avg       0.99      0.99      0.99     23390\n",
      "weighted avg       0.99      0.99      0.99     23390\n",
      "\n"
     ]
    },
    {
     "name": "stderr",
     "output_type": "stream",
     "text": [
      "  0%|          | 0/92 [00:00<?, ?it/s]C:\\Users\\admin\\.conda\\envs\\dental1_yolo\\lib\\site-packages\\torch\\nn\\functional.py:1805: UserWarning: nn.functional.sigmoid is deprecated. Use torch.sigmoid instead.\n",
      "  warnings.warn(\"nn.functional.sigmoid is deprecated. Use torch.sigmoid instead.\")\n",
      "100%|██████████| 92/92 [00:09<00:00,  9.59it/s]\n"
     ]
    },
    {
     "name": "stdout",
     "output_type": "stream",
     "text": [
      "Epoch: 66 Accuracy of the Valid Images: 4165.458276\n",
      "Confusion Matrix [[3702.  981.]\n",
      " [ 701.  464.]]\n",
      "Classification Report               precision    recall  f1-score   support\n",
      "\n",
      "         0.0       0.84      0.79      0.81      4683\n",
      "         1.0       0.32      0.40      0.36      1165\n",
      "\n",
      "    accuracy                           0.71      5848\n",
      "   macro avg       0.58      0.59      0.59      5848\n",
      "weighted avg       0.74      0.71      0.72      5848\n",
      "\n"
     ]
    },
    {
     "name": "stderr",
     "output_type": "stream",
     "text": [
      "  0%|          | 0/366 [00:00<?, ?it/s]C:\\Users\\admin\\.conda\\envs\\dental1_yolo\\lib\\site-packages\\torch\\nn\\functional.py:1805: UserWarning: nn.functional.sigmoid is deprecated. Use torch.sigmoid instead.\n",
      "  warnings.warn(\"nn.functional.sigmoid is deprecated. Use torch.sigmoid instead.\")\n",
      "100%|██████████| 366/366 [00:54<00:00,  6.73it/s]\n"
     ]
    },
    {
     "name": "stdout",
     "output_type": "stream",
     "text": [
      "Epoch 67, loss = 0.0184, batch_idx= 366\n",
      "Epoch: 67 Accuracy of the Train Images: 4387.507482\n",
      "Confusion Matrix [[18663.    66.]\n",
      " [   78.  4583.]]\n",
      "Classification Report               precision    recall  f1-score   support\n",
      "\n",
      "         0.0       1.00      1.00      1.00     18729\n",
      "         1.0       0.99      0.98      0.98      4661\n",
      "\n",
      "    accuracy                           0.99     23390\n",
      "   macro avg       0.99      0.99      0.99     23390\n",
      "weighted avg       0.99      0.99      0.99     23390\n",
      "\n"
     ]
    },
    {
     "name": "stderr",
     "output_type": "stream",
     "text": [
      "  0%|          | 0/92 [00:00<?, ?it/s]C:\\Users\\admin\\.conda\\envs\\dental1_yolo\\lib\\site-packages\\torch\\nn\\functional.py:1805: UserWarning: nn.functional.sigmoid is deprecated. Use torch.sigmoid instead.\n",
      "  warnings.warn(\"nn.functional.sigmoid is deprecated. Use torch.sigmoid instead.\")\n",
      "100%|██████████| 92/92 [00:09<00:00,  9.61it/s]\n"
     ]
    },
    {
     "name": "stdout",
     "output_type": "stream",
     "text": [
      "Epoch: 67 Accuracy of the Valid Images: 4343.125855\n",
      "Confusion Matrix [[3951.  732.]\n",
      " [ 706.  459.]]\n",
      "Classification Report               precision    recall  f1-score   support\n",
      "\n",
      "         0.0       0.85      0.84      0.85      4683\n",
      "         1.0       0.39      0.39      0.39      1165\n",
      "\n",
      "    accuracy                           0.75      5848\n",
      "   macro avg       0.62      0.62      0.62      5848\n",
      "weighted avg       0.76      0.75      0.76      5848\n",
      "\n"
     ]
    },
    {
     "name": "stderr",
     "output_type": "stream",
     "text": [
      "  0%|          | 0/366 [00:00<?, ?it/s]C:\\Users\\admin\\.conda\\envs\\dental1_yolo\\lib\\site-packages\\torch\\nn\\functional.py:1805: UserWarning: nn.functional.sigmoid is deprecated. Use torch.sigmoid instead.\n",
      "  warnings.warn(\"nn.functional.sigmoid is deprecated. Use torch.sigmoid instead.\")\n",
      "100%|██████████| 366/366 [00:54<00:00,  6.72it/s]\n"
     ]
    },
    {
     "name": "stdout",
     "output_type": "stream",
     "text": [
      "Epoch 68, loss = 0.0142, batch_idx= 366\n",
      "Epoch: 68 Accuracy of the Train Images: 4388.439504\n",
      "Confusion Matrix [[18679.    50.]\n",
      " [   67.  4594.]]\n",
      "Classification Report               precision    recall  f1-score   support\n",
      "\n",
      "         0.0       1.00      1.00      1.00     18729\n",
      "         1.0       0.99      0.99      0.99      4661\n",
      "\n",
      "    accuracy                           0.99     23390\n",
      "   macro avg       0.99      0.99      0.99     23390\n",
      "weighted avg       0.99      0.99      0.99     23390\n",
      "\n"
     ]
    },
    {
     "name": "stderr",
     "output_type": "stream",
     "text": [
      "  0%|          | 0/92 [00:00<?, ?it/s]C:\\Users\\admin\\.conda\\envs\\dental1_yolo\\lib\\site-packages\\torch\\nn\\functional.py:1805: UserWarning: nn.functional.sigmoid is deprecated. Use torch.sigmoid instead.\n",
      "  warnings.warn(\"nn.functional.sigmoid is deprecated. Use torch.sigmoid instead.\")\n",
      "100%|██████████| 92/92 [00:09<00:00,  9.64it/s]\n"
     ]
    },
    {
     "name": "stdout",
     "output_type": "stream",
     "text": [
      "Epoch: 68 Accuracy of the Valid Images: 4870.212038\n",
      "Confusion Matrix [[4452.  231.]\n",
      " [1018.  147.]]\n",
      "Classification Report               precision    recall  f1-score   support\n",
      "\n",
      "         0.0       0.81      0.95      0.88      4683\n",
      "         1.0       0.39      0.13      0.19      1165\n",
      "\n",
      "    accuracy                           0.79      5848\n",
      "   macro avg       0.60      0.54      0.53      5848\n",
      "weighted avg       0.73      0.79      0.74      5848\n",
      "\n"
     ]
    },
    {
     "name": "stderr",
     "output_type": "stream",
     "text": [
      "  0%|          | 0/366 [00:00<?, ?it/s]C:\\Users\\admin\\.conda\\envs\\dental1_yolo\\lib\\site-packages\\torch\\nn\\functional.py:1805: UserWarning: nn.functional.sigmoid is deprecated. Use torch.sigmoid instead.\n",
      "  warnings.warn(\"nn.functional.sigmoid is deprecated. Use torch.sigmoid instead.\")\n",
      "100%|██████████| 366/366 [00:54<00:00,  6.73it/s]\n"
     ]
    },
    {
     "name": "stdout",
     "output_type": "stream",
     "text": [
      "Epoch 69, loss = 0.0146, batch_idx= 366\n",
      "Epoch: 69 Accuracy of the Train Images: 4389.816161\n",
      "Confusion Matrix [[18679.    50.]\n",
      " [   72.  4589.]]\n",
      "Classification Report               precision    recall  f1-score   support\n",
      "\n",
      "         0.0       1.00      1.00      1.00     18729\n",
      "         1.0       0.99      0.98      0.99      4661\n",
      "\n",
      "    accuracy                           0.99     23390\n",
      "   macro avg       0.99      0.99      0.99     23390\n",
      "weighted avg       0.99      0.99      0.99     23390\n",
      "\n"
     ]
    },
    {
     "name": "stderr",
     "output_type": "stream",
     "text": [
      "  0%|          | 0/92 [00:00<?, ?it/s]C:\\Users\\admin\\.conda\\envs\\dental1_yolo\\lib\\site-packages\\torch\\nn\\functional.py:1805: UserWarning: nn.functional.sigmoid is deprecated. Use torch.sigmoid instead.\n",
      "  warnings.warn(\"nn.functional.sigmoid is deprecated. Use torch.sigmoid instead.\")\n",
      "100%|██████████| 92/92 [00:09<00:00,  9.62it/s]\n"
     ]
    },
    {
     "name": "stdout",
     "output_type": "stream",
     "text": [
      "Epoch: 69 Accuracy of the Valid Images: 4569.733242\n",
      "Confusion Matrix [[4195.  488.]\n",
      " [ 808.  357.]]\n",
      "Classification Report               precision    recall  f1-score   support\n",
      "\n",
      "         0.0       0.84      0.90      0.87      4683\n",
      "         1.0       0.42      0.31      0.36      1165\n",
      "\n",
      "    accuracy                           0.78      5848\n",
      "   macro avg       0.63      0.60      0.61      5848\n",
      "weighted avg       0.76      0.78      0.76      5848\n",
      "\n"
     ]
    },
    {
     "name": "stderr",
     "output_type": "stream",
     "text": [
      "  0%|          | 0/366 [00:00<?, ?it/s]C:\\Users\\admin\\.conda\\envs\\dental1_yolo\\lib\\site-packages\\torch\\nn\\functional.py:1805: UserWarning: nn.functional.sigmoid is deprecated. Use torch.sigmoid instead.\n",
      "  warnings.warn(\"nn.functional.sigmoid is deprecated. Use torch.sigmoid instead.\")\n",
      "100%|██████████| 366/366 [00:54<00:00,  6.75it/s]\n"
     ]
    },
    {
     "name": "stdout",
     "output_type": "stream",
     "text": [
      "Epoch 70, loss = 0.0134, batch_idx= 366\n",
      "Epoch: 70 Accuracy of the Train Images: 4385.121847\n",
      "Confusion Matrix [[18682.    47.]\n",
      " [   48.  4613.]]\n",
      "Classification Report               precision    recall  f1-score   support\n",
      "\n",
      "         0.0       1.00      1.00      1.00     18729\n",
      "         1.0       0.99      0.99      0.99      4661\n",
      "\n",
      "    accuracy                           1.00     23390\n",
      "   macro avg       0.99      0.99      0.99     23390\n",
      "weighted avg       1.00      1.00      1.00     23390\n",
      "\n"
     ]
    },
    {
     "name": "stderr",
     "output_type": "stream",
     "text": [
      "  0%|          | 0/92 [00:00<?, ?it/s]C:\\Users\\admin\\.conda\\envs\\dental1_yolo\\lib\\site-packages\\torch\\nn\\functional.py:1805: UserWarning: nn.functional.sigmoid is deprecated. Use torch.sigmoid instead.\n",
      "  warnings.warn(\"nn.functional.sigmoid is deprecated. Use torch.sigmoid instead.\")\n",
      "100%|██████████| 92/92 [00:09<00:00,  9.63it/s]\n"
     ]
    },
    {
     "name": "stdout",
     "output_type": "stream",
     "text": [
      "Epoch: 70 Accuracy of the Valid Images: 4676.436389\n",
      "Confusion Matrix [[4292.  391.]\n",
      " [ 893.  272.]]\n",
      "Classification Report               precision    recall  f1-score   support\n",
      "\n",
      "         0.0       0.83      0.92      0.87      4683\n",
      "         1.0       0.41      0.23      0.30      1165\n",
      "\n",
      "    accuracy                           0.78      5848\n",
      "   macro avg       0.62      0.57      0.58      5848\n",
      "weighted avg       0.74      0.78      0.76      5848\n",
      "\n"
     ]
    },
    {
     "name": "stderr",
     "output_type": "stream",
     "text": [
      "  0%|          | 0/366 [00:00<?, ?it/s]C:\\Users\\admin\\.conda\\envs\\dental1_yolo\\lib\\site-packages\\torch\\nn\\functional.py:1805: UserWarning: nn.functional.sigmoid is deprecated. Use torch.sigmoid instead.\n",
      "  warnings.warn(\"nn.functional.sigmoid is deprecated. Use torch.sigmoid instead.\")\n",
      "100%|██████████| 366/366 [00:54<00:00,  6.71it/s]\n"
     ]
    },
    {
     "name": "stdout",
     "output_type": "stream",
     "text": [
      "Epoch 71, loss = 0.0182, batch_idx= 366\n",
      "Epoch: 71 Accuracy of the Train Images: 4391.432236\n",
      "Confusion Matrix [[18670.    59.]\n",
      " [   98.  4563.]]\n",
      "Classification Report               precision    recall  f1-score   support\n",
      "\n",
      "         0.0       0.99      1.00      1.00     18729\n",
      "         1.0       0.99      0.98      0.98      4661\n",
      "\n",
      "    accuracy                           0.99     23390\n",
      "   macro avg       0.99      0.99      0.99     23390\n",
      "weighted avg       0.99      0.99      0.99     23390\n",
      "\n"
     ]
    },
    {
     "name": "stderr",
     "output_type": "stream",
     "text": [
      "  0%|          | 0/92 [00:00<?, ?it/s]C:\\Users\\admin\\.conda\\envs\\dental1_yolo\\lib\\site-packages\\torch\\nn\\functional.py:1805: UserWarning: nn.functional.sigmoid is deprecated. Use torch.sigmoid instead.\n",
      "  warnings.warn(\"nn.functional.sigmoid is deprecated. Use torch.sigmoid instead.\")\n",
      "100%|██████████| 92/92 [00:09<00:00,  9.69it/s]\n"
     ]
    },
    {
     "name": "stdout",
     "output_type": "stream",
     "text": [
      "Epoch: 71 Accuracy of the Valid Images: 4508.823529\n",
      "Confusion Matrix [[4106.  577.]\n",
      " [ 816.  349.]]\n",
      "Classification Report               precision    recall  f1-score   support\n",
      "\n",
      "         0.0       0.83      0.88      0.85      4683\n",
      "         1.0       0.38      0.30      0.33      1165\n",
      "\n",
      "    accuracy                           0.76      5848\n",
      "   macro avg       0.61      0.59      0.59      5848\n",
      "weighted avg       0.74      0.76      0.75      5848\n",
      "\n"
     ]
    },
    {
     "name": "stderr",
     "output_type": "stream",
     "text": [
      "  0%|          | 0/366 [00:00<?, ?it/s]C:\\Users\\admin\\.conda\\envs\\dental1_yolo\\lib\\site-packages\\torch\\nn\\functional.py:1805: UserWarning: nn.functional.sigmoid is deprecated. Use torch.sigmoid instead.\n",
      "  warnings.warn(\"nn.functional.sigmoid is deprecated. Use torch.sigmoid instead.\")\n",
      "100%|██████████| 366/366 [00:54<00:00,  6.72it/s]\n"
     ]
    },
    {
     "name": "stdout",
     "output_type": "stream",
     "text": [
      "Epoch 72, loss = 0.0173, batch_idx= 366\n",
      "Epoch: 72 Accuracy of the Train Images: 4383.702437\n",
      "Confusion Matrix [[18663.    66.]\n",
      " [   69.  4592.]]\n",
      "Classification Report               precision    recall  f1-score   support\n",
      "\n",
      "         0.0       1.00      1.00      1.00     18729\n",
      "         1.0       0.99      0.99      0.99      4661\n",
      "\n",
      "    accuracy                           0.99     23390\n",
      "   macro avg       0.99      0.99      0.99     23390\n",
      "weighted avg       0.99      0.99      0.99     23390\n",
      "\n"
     ]
    },
    {
     "name": "stderr",
     "output_type": "stream",
     "text": [
      "  0%|          | 0/92 [00:00<?, ?it/s]C:\\Users\\admin\\.conda\\envs\\dental1_yolo\\lib\\site-packages\\torch\\nn\\functional.py:1805: UserWarning: nn.functional.sigmoid is deprecated. Use torch.sigmoid instead.\n",
      "  warnings.warn(\"nn.functional.sigmoid is deprecated. Use torch.sigmoid instead.\")\n",
      "100%|██████████| 92/92 [00:09<00:00,  9.70it/s]\n"
     ]
    },
    {
     "name": "stdout",
     "output_type": "stream",
     "text": [
      "Epoch: 72 Accuracy of the Valid Images: 4684.268126\n",
      "Confusion Matrix [[4293.  390.]\n",
      " [ 906.  259.]]\n",
      "Classification Report               precision    recall  f1-score   support\n",
      "\n",
      "         0.0       0.83      0.92      0.87      4683\n",
      "         1.0       0.40      0.22      0.29      1165\n",
      "\n",
      "    accuracy                           0.78      5848\n",
      "   macro avg       0.61      0.57      0.58      5848\n",
      "weighted avg       0.74      0.78      0.75      5848\n",
      "\n"
     ]
    },
    {
     "name": "stderr",
     "output_type": "stream",
     "text": [
      "  0%|          | 0/366 [00:00<?, ?it/s]C:\\Users\\admin\\.conda\\envs\\dental1_yolo\\lib\\site-packages\\torch\\nn\\functional.py:1805: UserWarning: nn.functional.sigmoid is deprecated. Use torch.sigmoid instead.\n",
      "  warnings.warn(\"nn.functional.sigmoid is deprecated. Use torch.sigmoid instead.\")\n",
      "100%|██████████| 366/366 [00:54<00:00,  6.72it/s]\n"
     ]
    },
    {
     "name": "stdout",
     "output_type": "stream",
     "text": [
      "Epoch 73, loss = 0.0101, batch_idx= 366\n",
      "Epoch: 73 Accuracy of the Train Images: 4385.917059\n",
      "Confusion Matrix [[18696.    33.]\n",
      " [   39.  4622.]]\n",
      "Classification Report               precision    recall  f1-score   support\n",
      "\n",
      "         0.0       1.00      1.00      1.00     18729\n",
      "         1.0       0.99      0.99      0.99      4661\n",
      "\n",
      "    accuracy                           1.00     23390\n",
      "   macro avg       1.00      0.99      1.00     23390\n",
      "weighted avg       1.00      1.00      1.00     23390\n",
      "\n"
     ]
    },
    {
     "name": "stderr",
     "output_type": "stream",
     "text": [
      "  0%|          | 0/92 [00:00<?, ?it/s]C:\\Users\\admin\\.conda\\envs\\dental1_yolo\\lib\\site-packages\\torch\\nn\\functional.py:1805: UserWarning: nn.functional.sigmoid is deprecated. Use torch.sigmoid instead.\n",
      "  warnings.warn(\"nn.functional.sigmoid is deprecated. Use torch.sigmoid instead.\")\n",
      "100%|██████████| 92/92 [00:09<00:00,  9.62it/s]\n"
     ]
    },
    {
     "name": "stdout",
     "output_type": "stream",
     "text": [
      "Epoch: 73 Accuracy of the Valid Images: 4392.407661\n",
      "Confusion Matrix [[4038.  645.]\n",
      " [ 700.  465.]]\n",
      "Classification Report               precision    recall  f1-score   support\n",
      "\n",
      "         0.0       0.85      0.86      0.86      4683\n",
      "         1.0       0.42      0.40      0.41      1165\n",
      "\n",
      "    accuracy                           0.77      5848\n",
      "   macro avg       0.64      0.63      0.63      5848\n",
      "weighted avg       0.77      0.77      0.77      5848\n",
      "\n"
     ]
    },
    {
     "name": "stderr",
     "output_type": "stream",
     "text": [
      "  0%|          | 0/366 [00:00<?, ?it/s]C:\\Users\\admin\\.conda\\envs\\dental1_yolo\\lib\\site-packages\\torch\\nn\\functional.py:1805: UserWarning: nn.functional.sigmoid is deprecated. Use torch.sigmoid instead.\n",
      "  warnings.warn(\"nn.functional.sigmoid is deprecated. Use torch.sigmoid instead.\")\n",
      "100%|██████████| 366/366 [00:54<00:00,  6.72it/s]\n"
     ]
    },
    {
     "name": "stdout",
     "output_type": "stream",
     "text": [
      "Epoch 74, loss = 0.0229, batch_idx= 366\n",
      "Epoch: 74 Accuracy of the Train Images: 4385.848653\n",
      "Confusion Matrix [[18645.    84.]\n",
      " [  103.  4558.]]\n",
      "Classification Report               precision    recall  f1-score   support\n",
      "\n",
      "         0.0       0.99      1.00      1.00     18729\n",
      "         1.0       0.98      0.98      0.98      4661\n",
      "\n",
      "    accuracy                           0.99     23390\n",
      "   macro avg       0.99      0.99      0.99     23390\n",
      "weighted avg       0.99      0.99      0.99     23390\n",
      "\n"
     ]
    },
    {
     "name": "stderr",
     "output_type": "stream",
     "text": [
      "  0%|          | 0/92 [00:00<?, ?it/s]C:\\Users\\admin\\.conda\\envs\\dental1_yolo\\lib\\site-packages\\torch\\nn\\functional.py:1805: UserWarning: nn.functional.sigmoid is deprecated. Use torch.sigmoid instead.\n",
      "  warnings.warn(\"nn.functional.sigmoid is deprecated. Use torch.sigmoid instead.\")\n",
      "100%|██████████| 92/92 [00:09<00:00,  9.67it/s]\n"
     ]
    },
    {
     "name": "stdout",
     "output_type": "stream",
     "text": [
      "Epoch: 74 Accuracy of the Valid Images: 4330.403557\n",
      "Confusion Matrix [[3967.  716.]\n",
      " [ 672.  493.]]\n",
      "Classification Report               precision    recall  f1-score   support\n",
      "\n",
      "         0.0       0.86      0.85      0.85      4683\n",
      "         1.0       0.41      0.42      0.42      1165\n",
      "\n",
      "    accuracy                           0.76      5848\n",
      "   macro avg       0.63      0.64      0.63      5848\n",
      "weighted avg       0.77      0.76      0.76      5848\n",
      "\n"
     ]
    },
    {
     "name": "stderr",
     "output_type": "stream",
     "text": [
      "  0%|          | 0/366 [00:00<?, ?it/s]C:\\Users\\admin\\.conda\\envs\\dental1_yolo\\lib\\site-packages\\torch\\nn\\functional.py:1805: UserWarning: nn.functional.sigmoid is deprecated. Use torch.sigmoid instead.\n",
      "  warnings.warn(\"nn.functional.sigmoid is deprecated. Use torch.sigmoid instead.\")\n",
      "100%|██████████| 366/366 [00:54<00:00,  6.72it/s]\n"
     ]
    },
    {
     "name": "stdout",
     "output_type": "stream",
     "text": [
      "Epoch 75, loss = 0.0094, batch_idx= 366\n",
      "Epoch: 75 Accuracy of the Train Images: 4387.695596\n",
      "Confusion Matrix [[18702.    27.]\n",
      " [   35.  4626.]]\n",
      "Classification Report               precision    recall  f1-score   support\n",
      "\n",
      "         0.0       1.00      1.00      1.00     18729\n",
      "         1.0       0.99      0.99      0.99      4661\n",
      "\n",
      "    accuracy                           1.00     23390\n",
      "   macro avg       1.00      1.00      1.00     23390\n",
      "weighted avg       1.00      1.00      1.00     23390\n",
      "\n"
     ]
    },
    {
     "name": "stderr",
     "output_type": "stream",
     "text": [
      "  0%|          | 0/92 [00:00<?, ?it/s]C:\\Users\\admin\\.conda\\envs\\dental1_yolo\\lib\\site-packages\\torch\\nn\\functional.py:1805: UserWarning: nn.functional.sigmoid is deprecated. Use torch.sigmoid instead.\n",
      "  warnings.warn(\"nn.functional.sigmoid is deprecated. Use torch.sigmoid instead.\")\n",
      "100%|██████████| 92/92 [00:09<00:00,  9.72it/s]\n"
     ]
    },
    {
     "name": "stdout",
     "output_type": "stream",
     "text": [
      "Epoch: 75 Accuracy of the Valid Images: 4502.872777\n",
      "Confusion Matrix [[4094.  589.]\n",
      " [ 808.  357.]]\n",
      "Classification Report               precision    recall  f1-score   support\n",
      "\n",
      "         0.0       0.84      0.87      0.85      4683\n",
      "         1.0       0.38      0.31      0.34      1165\n",
      "\n",
      "    accuracy                           0.76      5848\n",
      "   macro avg       0.61      0.59      0.60      5848\n",
      "weighted avg       0.74      0.76      0.75      5848\n",
      "\n"
     ]
    },
    {
     "name": "stderr",
     "output_type": "stream",
     "text": [
      "  0%|          | 0/366 [00:00<?, ?it/s]C:\\Users\\admin\\.conda\\envs\\dental1_yolo\\lib\\site-packages\\torch\\nn\\functional.py:1805: UserWarning: nn.functional.sigmoid is deprecated. Use torch.sigmoid instead.\n",
      "  warnings.warn(\"nn.functional.sigmoid is deprecated. Use torch.sigmoid instead.\")\n",
      "100%|██████████| 366/366 [00:54<00:00,  6.71it/s]\n"
     ]
    },
    {
     "name": "stdout",
     "output_type": "stream",
     "text": [
      "Epoch 76, loss = 0.0123, batch_idx= 366\n",
      "Epoch: 76 Accuracy of the Train Images: 4383.488670\n",
      "Confusion Matrix [[18684.    45.]\n",
      " [   50.  4611.]]\n",
      "Classification Report               precision    recall  f1-score   support\n",
      "\n",
      "         0.0       1.00      1.00      1.00     18729\n",
      "         1.0       0.99      0.99      0.99      4661\n",
      "\n",
      "    accuracy                           1.00     23390\n",
      "   macro avg       0.99      0.99      0.99     23390\n",
      "weighted avg       1.00      1.00      1.00     23390\n",
      "\n"
     ]
    },
    {
     "name": "stderr",
     "output_type": "stream",
     "text": [
      "  0%|          | 0/92 [00:00<?, ?it/s]C:\\Users\\admin\\.conda\\envs\\dental1_yolo\\lib\\site-packages\\torch\\nn\\functional.py:1805: UserWarning: nn.functional.sigmoid is deprecated. Use torch.sigmoid instead.\n",
      "  warnings.warn(\"nn.functional.sigmoid is deprecated. Use torch.sigmoid instead.\")\n",
      "100%|██████████| 92/92 [00:09<00:00,  9.61it/s]\n"
     ]
    },
    {
     "name": "stdout",
     "output_type": "stream",
     "text": [
      "Epoch: 76 Accuracy of the Valid Images: 4261.388509\n",
      "Confusion Matrix [[3853.  830.]\n",
      " [ 693.  472.]]\n",
      "Classification Report               precision    recall  f1-score   support\n",
      "\n",
      "         0.0       0.85      0.82      0.83      4683\n",
      "         1.0       0.36      0.41      0.38      1165\n",
      "\n",
      "    accuracy                           0.74      5848\n",
      "   macro avg       0.61      0.61      0.61      5848\n",
      "weighted avg       0.75      0.74      0.74      5848\n",
      "\n"
     ]
    },
    {
     "name": "stderr",
     "output_type": "stream",
     "text": [
      "  0%|          | 0/366 [00:00<?, ?it/s]C:\\Users\\admin\\.conda\\envs\\dental1_yolo\\lib\\site-packages\\torch\\nn\\functional.py:1805: UserWarning: nn.functional.sigmoid is deprecated. Use torch.sigmoid instead.\n",
      "  warnings.warn(\"nn.functional.sigmoid is deprecated. Use torch.sigmoid instead.\")\n",
      "100%|██████████| 366/366 [00:54<00:00,  6.74it/s]\n"
     ]
    },
    {
     "name": "stdout",
     "output_type": "stream",
     "text": [
      "Epoch 77, loss = 0.0170, batch_idx= 366\n",
      "Epoch: 77 Accuracy of the Train Images: 4384.651560\n",
      "Confusion Matrix [[18665.    64.]\n",
      " [   76.  4585.]]\n",
      "Classification Report               precision    recall  f1-score   support\n",
      "\n",
      "         0.0       1.00      1.00      1.00     18729\n",
      "         1.0       0.99      0.98      0.98      4661\n",
      "\n",
      "    accuracy                           0.99     23390\n",
      "   macro avg       0.99      0.99      0.99     23390\n",
      "weighted avg       0.99      0.99      0.99     23390\n",
      "\n"
     ]
    },
    {
     "name": "stderr",
     "output_type": "stream",
     "text": [
      "  0%|          | 0/92 [00:00<?, ?it/s]C:\\Users\\admin\\.conda\\envs\\dental1_yolo\\lib\\site-packages\\torch\\nn\\functional.py:1805: UserWarning: nn.functional.sigmoid is deprecated. Use torch.sigmoid instead.\n",
      "  warnings.warn(\"nn.functional.sigmoid is deprecated. Use torch.sigmoid instead.\")\n",
      "100%|██████████| 92/92 [00:09<00:00,  9.61it/s]\n"
     ]
    },
    {
     "name": "stdout",
     "output_type": "stream",
     "text": [
      "Epoch: 77 Accuracy of the Valid Images: 4879.514364\n",
      "Confusion Matrix [[4482.  201.]\n",
      " [1004.  161.]]\n",
      "Classification Report               precision    recall  f1-score   support\n",
      "\n",
      "         0.0       0.82      0.96      0.88      4683\n",
      "         1.0       0.44      0.14      0.21      1165\n",
      "\n",
      "    accuracy                           0.79      5848\n",
      "   macro avg       0.63      0.55      0.55      5848\n",
      "weighted avg       0.74      0.79      0.75      5848\n",
      "\n"
     ]
    },
    {
     "name": "stderr",
     "output_type": "stream",
     "text": [
      "  0%|          | 0/366 [00:00<?, ?it/s]C:\\Users\\admin\\.conda\\envs\\dental1_yolo\\lib\\site-packages\\torch\\nn\\functional.py:1805: UserWarning: nn.functional.sigmoid is deprecated. Use torch.sigmoid instead.\n",
      "  warnings.warn(\"nn.functional.sigmoid is deprecated. Use torch.sigmoid instead.\")\n",
      "100%|██████████| 366/366 [00:54<00:00,  6.72it/s]\n"
     ]
    },
    {
     "name": "stdout",
     "output_type": "stream",
     "text": [
      "Epoch 78, loss = 0.0097, batch_idx= 366\n",
      "Epoch: 78 Accuracy of the Train Images: 4383.864900\n",
      "Confusion Matrix [[18693.    36.]\n",
      " [   41.  4620.]]\n",
      "Classification Report               precision    recall  f1-score   support\n",
      "\n",
      "         0.0       1.00      1.00      1.00     18729\n",
      "         1.0       0.99      0.99      0.99      4661\n",
      "\n",
      "    accuracy                           1.00     23390\n",
      "   macro avg       1.00      0.99      0.99     23390\n",
      "weighted avg       1.00      1.00      1.00     23390\n",
      "\n"
     ]
    },
    {
     "name": "stderr",
     "output_type": "stream",
     "text": [
      "  0%|          | 0/92 [00:00<?, ?it/s]C:\\Users\\admin\\.conda\\envs\\dental1_yolo\\lib\\site-packages\\torch\\nn\\functional.py:1805: UserWarning: nn.functional.sigmoid is deprecated. Use torch.sigmoid instead.\n",
      "  warnings.warn(\"nn.functional.sigmoid is deprecated. Use torch.sigmoid instead.\")\n",
      "100%|██████████| 92/92 [00:09<00:00,  9.58it/s]\n"
     ]
    },
    {
     "name": "stdout",
     "output_type": "stream",
     "text": [
      "Epoch: 78 Accuracy of the Valid Images: 4621.511628\n",
      "Confusion Matrix [[4239.  444.]\n",
      " [ 848.  317.]]\n",
      "Classification Report               precision    recall  f1-score   support\n",
      "\n",
      "         0.0       0.83      0.91      0.87      4683\n",
      "         1.0       0.42      0.27      0.33      1165\n",
      "\n",
      "    accuracy                           0.78      5848\n",
      "   macro avg       0.62      0.59      0.60      5848\n",
      "weighted avg       0.75      0.78      0.76      5848\n",
      "\n"
     ]
    },
    {
     "name": "stderr",
     "output_type": "stream",
     "text": [
      "  0%|          | 0/366 [00:00<?, ?it/s]C:\\Users\\admin\\.conda\\envs\\dental1_yolo\\lib\\site-packages\\torch\\nn\\functional.py:1805: UserWarning: nn.functional.sigmoid is deprecated. Use torch.sigmoid instead.\n",
      "  warnings.warn(\"nn.functional.sigmoid is deprecated. Use torch.sigmoid instead.\")\n",
      "100%|██████████| 366/366 [00:54<00:00,  6.74it/s]\n"
     ]
    },
    {
     "name": "stdout",
     "output_type": "stream",
     "text": [
      "Epoch 79, loss = 0.0145, batch_idx= 366\n",
      "Epoch: 79 Accuracy of the Train Images: 4386.113724\n",
      "Confusion Matrix [[18677.    52.]\n",
      " [   67.  4594.]]\n",
      "Classification Report               precision    recall  f1-score   support\n",
      "\n",
      "         0.0       1.00      1.00      1.00     18729\n",
      "         1.0       0.99      0.99      0.99      4661\n",
      "\n",
      "    accuracy                           0.99     23390\n",
      "   macro avg       0.99      0.99      0.99     23390\n",
      "weighted avg       0.99      0.99      0.99     23390\n",
      "\n"
     ]
    },
    {
     "name": "stderr",
     "output_type": "stream",
     "text": [
      "  0%|          | 0/92 [00:00<?, ?it/s]C:\\Users\\admin\\.conda\\envs\\dental1_yolo\\lib\\site-packages\\torch\\nn\\functional.py:1805: UserWarning: nn.functional.sigmoid is deprecated. Use torch.sigmoid instead.\n",
      "  warnings.warn(\"nn.functional.sigmoid is deprecated. Use torch.sigmoid instead.\")\n",
      "100%|██████████| 92/92 [00:09<00:00,  9.70it/s]\n"
     ]
    },
    {
     "name": "stdout",
     "output_type": "stream",
     "text": [
      "Epoch: 79 Accuracy of the Valid Images: 3999.076607\n",
      "Confusion Matrix [[3565. 1118.]\n",
      " [ 583.  582.]]\n",
      "Classification Report               precision    recall  f1-score   support\n",
      "\n",
      "         0.0       0.86      0.76      0.81      4683\n",
      "         1.0       0.34      0.50      0.41      1165\n",
      "\n",
      "    accuracy                           0.71      5848\n",
      "   macro avg       0.60      0.63      0.61      5848\n",
      "weighted avg       0.76      0.71      0.73      5848\n",
      "\n"
     ]
    },
    {
     "name": "stderr",
     "output_type": "stream",
     "text": [
      "  0%|          | 0/366 [00:00<?, ?it/s]C:\\Users\\admin\\.conda\\envs\\dental1_yolo\\lib\\site-packages\\torch\\nn\\functional.py:1805: UserWarning: nn.functional.sigmoid is deprecated. Use torch.sigmoid instead.\n",
      "  warnings.warn(\"nn.functional.sigmoid is deprecated. Use torch.sigmoid instead.\")\n",
      "100%|██████████| 366/366 [00:54<00:00,  6.71it/s]\n"
     ]
    },
    {
     "name": "stdout",
     "output_type": "stream",
     "text": [
      "Epoch 80, loss = 0.0174, batch_idx= 366\n",
      "Epoch: 80 Accuracy of the Train Images: 4388.593416\n",
      "Confusion Matrix [[18671.    58.]\n",
      " [   81.  4580.]]\n",
      "Classification Report               precision    recall  f1-score   support\n",
      "\n",
      "         0.0       1.00      1.00      1.00     18729\n",
      "         1.0       0.99      0.98      0.99      4661\n",
      "\n",
      "    accuracy                           0.99     23390\n",
      "   macro avg       0.99      0.99      0.99     23390\n",
      "weighted avg       0.99      0.99      0.99     23390\n",
      "\n"
     ]
    },
    {
     "name": "stderr",
     "output_type": "stream",
     "text": [
      "  0%|          | 0/92 [00:00<?, ?it/s]C:\\Users\\admin\\.conda\\envs\\dental1_yolo\\lib\\site-packages\\torch\\nn\\functional.py:1805: UserWarning: nn.functional.sigmoid is deprecated. Use torch.sigmoid instead.\n",
      "  warnings.warn(\"nn.functional.sigmoid is deprecated. Use torch.sigmoid instead.\")\n",
      "100%|██████████| 92/92 [00:09<00:00,  9.67it/s]\n"
     ]
    },
    {
     "name": "stdout",
     "output_type": "stream",
     "text": [
      "Epoch: 80 Accuracy of the Valid Images: 4283.447332\n",
      "Confusion Matrix [[3893.  790.]\n",
      " [ 670.  495.]]\n",
      "Classification Report               precision    recall  f1-score   support\n",
      "\n",
      "         0.0       0.85      0.83      0.84      4683\n",
      "         1.0       0.39      0.42      0.40      1165\n",
      "\n",
      "    accuracy                           0.75      5848\n",
      "   macro avg       0.62      0.63      0.62      5848\n",
      "weighted avg       0.76      0.75      0.75      5848\n",
      "\n"
     ]
    },
    {
     "name": "stderr",
     "output_type": "stream",
     "text": [
      "  0%|          | 0/366 [00:00<?, ?it/s]C:\\Users\\admin\\.conda\\envs\\dental1_yolo\\lib\\site-packages\\torch\\nn\\functional.py:1805: UserWarning: nn.functional.sigmoid is deprecated. Use torch.sigmoid instead.\n",
      "  warnings.warn(\"nn.functional.sigmoid is deprecated. Use torch.sigmoid instead.\")\n",
      "100%|██████████| 366/366 [00:54<00:00,  6.69it/s]\n"
     ]
    },
    {
     "name": "stdout",
     "output_type": "stream",
     "text": [
      "Epoch 81, loss = 0.0166, batch_idx= 366\n",
      "Epoch: 81 Accuracy of the Train Images: 4391.893972\n",
      "Confusion Matrix [[18674.    55.]\n",
      " [   75.  4586.]]\n",
      "Classification Report               precision    recall  f1-score   support\n",
      "\n",
      "         0.0       1.00      1.00      1.00     18729\n",
      "         1.0       0.99      0.98      0.99      4661\n",
      "\n",
      "    accuracy                           0.99     23390\n",
      "   macro avg       0.99      0.99      0.99     23390\n",
      "weighted avg       0.99      0.99      0.99     23390\n",
      "\n"
     ]
    },
    {
     "name": "stderr",
     "output_type": "stream",
     "text": [
      "  0%|          | 0/92 [00:00<?, ?it/s]C:\\Users\\admin\\.conda\\envs\\dental1_yolo\\lib\\site-packages\\torch\\nn\\functional.py:1805: UserWarning: nn.functional.sigmoid is deprecated. Use torch.sigmoid instead.\n",
      "  warnings.warn(\"nn.functional.sigmoid is deprecated. Use torch.sigmoid instead.\")\n",
      "100%|██████████| 92/92 [00:09<00:00,  9.61it/s]\n"
     ]
    },
    {
     "name": "stdout",
     "output_type": "stream",
     "text": [
      "Epoch: 81 Accuracy of the Valid Images: 4354.719562\n",
      "Confusion Matrix [[3981.  702.]\n",
      " [ 704.  461.]]\n",
      "Classification Report               precision    recall  f1-score   support\n",
      "\n",
      "         0.0       0.85      0.85      0.85      4683\n",
      "         1.0       0.40      0.40      0.40      1165\n",
      "\n",
      "    accuracy                           0.76      5848\n",
      "   macro avg       0.62      0.62      0.62      5848\n",
      "weighted avg       0.76      0.76      0.76      5848\n",
      "\n"
     ]
    },
    {
     "name": "stderr",
     "output_type": "stream",
     "text": [
      "  0%|          | 0/366 [00:00<?, ?it/s]C:\\Users\\admin\\.conda\\envs\\dental1_yolo\\lib\\site-packages\\torch\\nn\\functional.py:1805: UserWarning: nn.functional.sigmoid is deprecated. Use torch.sigmoid instead.\n",
      "  warnings.warn(\"nn.functional.sigmoid is deprecated. Use torch.sigmoid instead.\")\n",
      "100%|██████████| 366/366 [00:55<00:00,  6.64it/s]\n"
     ]
    },
    {
     "name": "stdout",
     "output_type": "stream",
     "text": [
      "Epoch 82, loss = 0.0087, batch_idx= 366\n",
      "Epoch: 82 Accuracy of the Train Images: 4387.601539\n",
      "Confusion Matrix [[18706.    23.]\n",
      " [   34.  4627.]]\n",
      "Classification Report               precision    recall  f1-score   support\n",
      "\n",
      "         0.0       1.00      1.00      1.00     18729\n",
      "         1.0       1.00      0.99      0.99      4661\n",
      "\n",
      "    accuracy                           1.00     23390\n",
      "   macro avg       1.00      1.00      1.00     23390\n",
      "weighted avg       1.00      1.00      1.00     23390\n",
      "\n"
     ]
    },
    {
     "name": "stderr",
     "output_type": "stream",
     "text": [
      "  0%|          | 0/92 [00:00<?, ?it/s]C:\\Users\\admin\\.conda\\envs\\dental1_yolo\\lib\\site-packages\\torch\\nn\\functional.py:1805: UserWarning: nn.functional.sigmoid is deprecated. Use torch.sigmoid instead.\n",
      "  warnings.warn(\"nn.functional.sigmoid is deprecated. Use torch.sigmoid instead.\")\n",
      "100%|██████████| 92/92 [00:09<00:00,  9.56it/s]\n"
     ]
    },
    {
     "name": "stdout",
     "output_type": "stream",
     "text": [
      "Epoch: 82 Accuracy of the Valid Images: 4842.031464\n",
      "Confusion Matrix [[4452.  231.]\n",
      " [ 979.  186.]]\n",
      "Classification Report               precision    recall  f1-score   support\n",
      "\n",
      "         0.0       0.82      0.95      0.88      4683\n",
      "         1.0       0.45      0.16      0.24      1165\n",
      "\n",
      "    accuracy                           0.79      5848\n",
      "   macro avg       0.63      0.56      0.56      5848\n",
      "weighted avg       0.75      0.79      0.75      5848\n",
      "\n"
     ]
    },
    {
     "name": "stderr",
     "output_type": "stream",
     "text": [
      "  0%|          | 0/366 [00:00<?, ?it/s]C:\\Users\\admin\\.conda\\envs\\dental1_yolo\\lib\\site-packages\\torch\\nn\\functional.py:1805: UserWarning: nn.functional.sigmoid is deprecated. Use torch.sigmoid instead.\n",
      "  warnings.warn(\"nn.functional.sigmoid is deprecated. Use torch.sigmoid instead.\")\n",
      "100%|██████████| 366/366 [00:55<00:00,  6.65it/s]\n"
     ]
    },
    {
     "name": "stdout",
     "output_type": "stream",
     "text": [
      "Epoch 83, loss = 0.0141, batch_idx= 366\n",
      "Epoch: 83 Accuracy of the Train Images: 4386.053869\n",
      "Confusion Matrix [[18683.    46.]\n",
      " [   70.  4591.]]\n",
      "Classification Report               precision    recall  f1-score   support\n",
      "\n",
      "         0.0       1.00      1.00      1.00     18729\n",
      "         1.0       0.99      0.98      0.99      4661\n",
      "\n",
      "    accuracy                           1.00     23390\n",
      "   macro avg       0.99      0.99      0.99     23390\n",
      "weighted avg       1.00      1.00      1.00     23390\n",
      "\n"
     ]
    },
    {
     "name": "stderr",
     "output_type": "stream",
     "text": [
      "  0%|          | 0/92 [00:00<?, ?it/s]C:\\Users\\admin\\.conda\\envs\\dental1_yolo\\lib\\site-packages\\torch\\nn\\functional.py:1805: UserWarning: nn.functional.sigmoid is deprecated. Use torch.sigmoid instead.\n",
      "  warnings.warn(\"nn.functional.sigmoid is deprecated. Use torch.sigmoid instead.\")\n",
      "100%|██████████| 92/92 [00:09<00:00,  9.62it/s]\n"
     ]
    },
    {
     "name": "stdout",
     "output_type": "stream",
     "text": [
      "Epoch: 83 Accuracy of the Valid Images: 4786.012312\n",
      "Confusion Matrix [[4406.  277.]\n",
      " [ 944.  221.]]\n",
      "Classification Report               precision    recall  f1-score   support\n",
      "\n",
      "         0.0       0.82      0.94      0.88      4683\n",
      "         1.0       0.44      0.19      0.27      1165\n",
      "\n",
      "    accuracy                           0.79      5848\n",
      "   macro avg       0.63      0.57      0.57      5848\n",
      "weighted avg       0.75      0.79      0.76      5848\n",
      "\n"
     ]
    },
    {
     "name": "stderr",
     "output_type": "stream",
     "text": [
      "  0%|          | 0/366 [00:00<?, ?it/s]C:\\Users\\admin\\.conda\\envs\\dental1_yolo\\lib\\site-packages\\torch\\nn\\functional.py:1805: UserWarning: nn.functional.sigmoid is deprecated. Use torch.sigmoid instead.\n",
      "  warnings.warn(\"nn.functional.sigmoid is deprecated. Use torch.sigmoid instead.\")\n",
      "100%|██████████| 366/366 [00:54<00:00,  6.70it/s]\n"
     ]
    },
    {
     "name": "stdout",
     "output_type": "stream",
     "text": [
      "Epoch 84, loss = 0.0074, batch_idx= 366\n",
      "Epoch: 84 Accuracy of the Train Images: 4379.238991\n",
      "Confusion Matrix [[18708.    21.]\n",
      " [   29.  4632.]]\n",
      "Classification Report               precision    recall  f1-score   support\n",
      "\n",
      "         0.0       1.00      1.00      1.00     18729\n",
      "         1.0       1.00      0.99      0.99      4661\n",
      "\n",
      "    accuracy                           1.00     23390\n",
      "   macro avg       1.00      1.00      1.00     23390\n",
      "weighted avg       1.00      1.00      1.00     23390\n",
      "\n"
     ]
    },
    {
     "name": "stderr",
     "output_type": "stream",
     "text": [
      "  0%|          | 0/92 [00:00<?, ?it/s]C:\\Users\\admin\\.conda\\envs\\dental1_yolo\\lib\\site-packages\\torch\\nn\\functional.py:1805: UserWarning: nn.functional.sigmoid is deprecated. Use torch.sigmoid instead.\n",
      "  warnings.warn(\"nn.functional.sigmoid is deprecated. Use torch.sigmoid instead.\")\n",
      "100%|██████████| 92/92 [00:09<00:00,  9.57it/s]\n"
     ]
    },
    {
     "name": "stdout",
     "output_type": "stream",
     "text": [
      "Epoch: 84 Accuracy of the Valid Images: 4309.507524\n",
      "Confusion Matrix [[3961.  722.]\n",
      " [ 655.  510.]]\n",
      "Classification Report               precision    recall  f1-score   support\n",
      "\n",
      "         0.0       0.86      0.85      0.85      4683\n",
      "         1.0       0.41      0.44      0.43      1165\n",
      "\n",
      "    accuracy                           0.76      5848\n",
      "   macro avg       0.64      0.64      0.64      5848\n",
      "weighted avg       0.77      0.76      0.77      5848\n",
      "\n"
     ]
    },
    {
     "name": "stderr",
     "output_type": "stream",
     "text": [
      "  0%|          | 0/366 [00:00<?, ?it/s]C:\\Users\\admin\\.conda\\envs\\dental1_yolo\\lib\\site-packages\\torch\\nn\\functional.py:1805: UserWarning: nn.functional.sigmoid is deprecated. Use torch.sigmoid instead.\n",
      "  warnings.warn(\"nn.functional.sigmoid is deprecated. Use torch.sigmoid instead.\")\n",
      "100%|██████████| 366/366 [00:54<00:00,  6.68it/s]\n"
     ]
    },
    {
     "name": "stdout",
     "output_type": "stream",
     "text": [
      "Epoch 85, loss = 0.0132, batch_idx= 366\n",
      "Epoch: 85 Accuracy of the Train Images: 4383.420265\n",
      "Confusion Matrix [[18680.    49.]\n",
      " [   60.  4601.]]\n",
      "Classification Report               precision    recall  f1-score   support\n",
      "\n",
      "         0.0       1.00      1.00      1.00     18729\n",
      "         1.0       0.99      0.99      0.99      4661\n",
      "\n",
      "    accuracy                           1.00     23390\n",
      "   macro avg       0.99      0.99      0.99     23390\n",
      "weighted avg       1.00      1.00      1.00     23390\n",
      "\n"
     ]
    },
    {
     "name": "stderr",
     "output_type": "stream",
     "text": [
      "  0%|          | 0/92 [00:00<?, ?it/s]C:\\Users\\admin\\.conda\\envs\\dental1_yolo\\lib\\site-packages\\torch\\nn\\functional.py:1805: UserWarning: nn.functional.sigmoid is deprecated. Use torch.sigmoid instead.\n",
      "  warnings.warn(\"nn.functional.sigmoid is deprecated. Use torch.sigmoid instead.\")\n",
      "100%|██████████| 92/92 [00:09<00:00,  9.58it/s]\n"
     ]
    },
    {
     "name": "stdout",
     "output_type": "stream",
     "text": [
      "Epoch: 85 Accuracy of the Valid Images: 4422.161423\n",
      "Confusion Matrix [[4072.  611.]\n",
      " [ 722.  443.]]\n",
      "Classification Report               precision    recall  f1-score   support\n",
      "\n",
      "         0.0       0.85      0.87      0.86      4683\n",
      "         1.0       0.42      0.38      0.40      1165\n",
      "\n",
      "    accuracy                           0.77      5848\n",
      "   macro avg       0.63      0.62      0.63      5848\n",
      "weighted avg       0.76      0.77      0.77      5848\n",
      "\n"
     ]
    },
    {
     "name": "stderr",
     "output_type": "stream",
     "text": [
      "  0%|          | 0/366 [00:00<?, ?it/s]C:\\Users\\admin\\.conda\\envs\\dental1_yolo\\lib\\site-packages\\torch\\nn\\functional.py:1805: UserWarning: nn.functional.sigmoid is deprecated. Use torch.sigmoid instead.\n",
      "  warnings.warn(\"nn.functional.sigmoid is deprecated. Use torch.sigmoid instead.\")\n",
      "100%|██████████| 366/366 [00:54<00:00,  6.66it/s]\n"
     ]
    },
    {
     "name": "stdout",
     "output_type": "stream",
     "text": [
      "Epoch 86, loss = 0.0130, batch_idx= 366\n",
      "Epoch: 86 Accuracy of the Train Images: 4387.045746\n",
      "Confusion Matrix [[18693.    36.]\n",
      " [   62.  4599.]]\n",
      "Classification Report               precision    recall  f1-score   support\n",
      "\n",
      "         0.0       1.00      1.00      1.00     18729\n",
      "         1.0       0.99      0.99      0.99      4661\n",
      "\n",
      "    accuracy                           1.00     23390\n",
      "   macro avg       0.99      0.99      0.99     23390\n",
      "weighted avg       1.00      1.00      1.00     23390\n",
      "\n"
     ]
    },
    {
     "name": "stderr",
     "output_type": "stream",
     "text": [
      "  0%|          | 0/92 [00:00<?, ?it/s]C:\\Users\\admin\\.conda\\envs\\dental1_yolo\\lib\\site-packages\\torch\\nn\\functional.py:1805: UserWarning: nn.functional.sigmoid is deprecated. Use torch.sigmoid instead.\n",
      "  warnings.warn(\"nn.functional.sigmoid is deprecated. Use torch.sigmoid instead.\")\n",
      "100%|██████████| 92/92 [00:09<00:00,  9.65it/s]\n"
     ]
    },
    {
     "name": "stdout",
     "output_type": "stream",
     "text": [
      "Epoch: 86 Accuracy of the Valid Images: 4619.493844\n",
      "Confusion Matrix [[4214.  469.]\n",
      " [ 874.  291.]]\n",
      "Classification Report               precision    recall  f1-score   support\n",
      "\n",
      "         0.0       0.83      0.90      0.86      4683\n",
      "         1.0       0.38      0.25      0.30      1165\n",
      "\n",
      "    accuracy                           0.77      5848\n",
      "   macro avg       0.61      0.57      0.58      5848\n",
      "weighted avg       0.74      0.77      0.75      5848\n",
      "\n"
     ]
    },
    {
     "name": "stderr",
     "output_type": "stream",
     "text": [
      "  0%|          | 0/366 [00:00<?, ?it/s]C:\\Users\\admin\\.conda\\envs\\dental1_yolo\\lib\\site-packages\\torch\\nn\\functional.py:1805: UserWarning: nn.functional.sigmoid is deprecated. Use torch.sigmoid instead.\n",
      "  warnings.warn(\"nn.functional.sigmoid is deprecated. Use torch.sigmoid instead.\")\n",
      "100%|██████████| 366/366 [00:54<00:00,  6.73it/s]\n"
     ]
    },
    {
     "name": "stdout",
     "output_type": "stream",
     "text": [
      "Epoch 87, loss = 0.0180, batch_idx= 366\n",
      "Epoch: 87 Accuracy of the Train Images: 4384.044463\n",
      "Confusion Matrix [[18663.    66.]\n",
      " [   82.  4579.]]\n",
      "Classification Report               precision    recall  f1-score   support\n",
      "\n",
      "         0.0       1.00      1.00      1.00     18729\n",
      "         1.0       0.99      0.98      0.98      4661\n",
      "\n",
      "    accuracy                           0.99     23390\n",
      "   macro avg       0.99      0.99      0.99     23390\n",
      "weighted avg       0.99      0.99      0.99     23390\n",
      "\n"
     ]
    },
    {
     "name": "stderr",
     "output_type": "stream",
     "text": [
      "  0%|          | 0/92 [00:00<?, ?it/s]C:\\Users\\admin\\.conda\\envs\\dental1_yolo\\lib\\site-packages\\torch\\nn\\functional.py:1805: UserWarning: nn.functional.sigmoid is deprecated. Use torch.sigmoid instead.\n",
      "  warnings.warn(\"nn.functional.sigmoid is deprecated. Use torch.sigmoid instead.\")\n",
      "100%|██████████| 92/92 [00:09<00:00,  9.64it/s]\n"
     ]
    },
    {
     "name": "stdout",
     "output_type": "stream",
     "text": [
      "Epoch: 87 Accuracy of the Valid Images: 4325.957592\n",
      "Confusion Matrix [[3942.  741.]\n",
      " [ 687.  478.]]\n",
      "Classification Report               precision    recall  f1-score   support\n",
      "\n",
      "         0.0       0.85      0.84      0.85      4683\n",
      "         1.0       0.39      0.41      0.40      1165\n",
      "\n",
      "    accuracy                           0.76      5848\n",
      "   macro avg       0.62      0.63      0.62      5848\n",
      "weighted avg       0.76      0.76      0.76      5848\n",
      "\n"
     ]
    },
    {
     "name": "stderr",
     "output_type": "stream",
     "text": [
      "  0%|          | 0/366 [00:00<?, ?it/s]C:\\Users\\admin\\.conda\\envs\\dental1_yolo\\lib\\site-packages\\torch\\nn\\functional.py:1805: UserWarning: nn.functional.sigmoid is deprecated. Use torch.sigmoid instead.\n",
      "  warnings.warn(\"nn.functional.sigmoid is deprecated. Use torch.sigmoid instead.\")\n",
      "100%|██████████| 366/366 [00:54<00:00,  6.73it/s]\n"
     ]
    },
    {
     "name": "stdout",
     "output_type": "stream",
     "text": [
      "Epoch 88, loss = 0.0138, batch_idx= 366\n",
      "Epoch: 88 Accuracy of the Train Images: 4385.899957\n",
      "Confusion Matrix [[18677.    52.]\n",
      " [   57.  4604.]]\n",
      "Classification Report               precision    recall  f1-score   support\n",
      "\n",
      "         0.0       1.00      1.00      1.00     18729\n",
      "         1.0       0.99      0.99      0.99      4661\n",
      "\n",
      "    accuracy                           1.00     23390\n",
      "   macro avg       0.99      0.99      0.99     23390\n",
      "weighted avg       1.00      1.00      1.00     23390\n",
      "\n"
     ]
    },
    {
     "name": "stderr",
     "output_type": "stream",
     "text": [
      "  0%|          | 0/92 [00:00<?, ?it/s]C:\\Users\\admin\\.conda\\envs\\dental1_yolo\\lib\\site-packages\\torch\\nn\\functional.py:1805: UserWarning: nn.functional.sigmoid is deprecated. Use torch.sigmoid instead.\n",
      "  warnings.warn(\"nn.functional.sigmoid is deprecated. Use torch.sigmoid instead.\")\n",
      "100%|██████████| 92/92 [00:09<00:00,  9.70it/s]\n"
     ]
    },
    {
     "name": "stdout",
     "output_type": "stream",
     "text": [
      "Epoch: 88 Accuracy of the Valid Images: 4620.519836\n",
      "Confusion Matrix [[4250.  433.]\n",
      " [ 845.  320.]]\n",
      "Classification Report               precision    recall  f1-score   support\n",
      "\n",
      "         0.0       0.83      0.91      0.87      4683\n",
      "         1.0       0.42      0.27      0.33      1165\n",
      "\n",
      "    accuracy                           0.78      5848\n",
      "   macro avg       0.63      0.59      0.60      5848\n",
      "weighted avg       0.75      0.78      0.76      5848\n",
      "\n"
     ]
    },
    {
     "name": "stderr",
     "output_type": "stream",
     "text": [
      "  0%|          | 0/366 [00:00<?, ?it/s]C:\\Users\\admin\\.conda\\envs\\dental1_yolo\\lib\\site-packages\\torch\\nn\\functional.py:1805: UserWarning: nn.functional.sigmoid is deprecated. Use torch.sigmoid instead.\n",
      "  warnings.warn(\"nn.functional.sigmoid is deprecated. Use torch.sigmoid instead.\")\n",
      "100%|██████████| 366/366 [00:54<00:00,  6.72it/s]\n"
     ]
    },
    {
     "name": "stdout",
     "output_type": "stream",
     "text": [
      "Epoch 89, loss = 0.0114, batch_idx= 366\n",
      "Epoch: 89 Accuracy of the Train Images: 4383.309106\n",
      "Confusion Matrix [[18690.    39.]\n",
      " [   45.  4616.]]\n",
      "Classification Report               precision    recall  f1-score   support\n",
      "\n",
      "         0.0       1.00      1.00      1.00     18729\n",
      "         1.0       0.99      0.99      0.99      4661\n",
      "\n",
      "    accuracy                           1.00     23390\n",
      "   macro avg       0.99      0.99      0.99     23390\n",
      "weighted avg       1.00      1.00      1.00     23390\n",
      "\n"
     ]
    },
    {
     "name": "stderr",
     "output_type": "stream",
     "text": [
      "  0%|          | 0/92 [00:00<?, ?it/s]C:\\Users\\admin\\.conda\\envs\\dental1_yolo\\lib\\site-packages\\torch\\nn\\functional.py:1805: UserWarning: nn.functional.sigmoid is deprecated. Use torch.sigmoid instead.\n",
      "  warnings.warn(\"nn.functional.sigmoid is deprecated. Use torch.sigmoid instead.\")\n",
      "100%|██████████| 92/92 [00:09<00:00,  9.70it/s]\n"
     ]
    },
    {
     "name": "stdout",
     "output_type": "stream",
     "text": [
      "Epoch: 89 Accuracy of the Valid Images: 4723.153215\n",
      "Confusion Matrix [[4323.  360.]\n",
      " [ 923.  242.]]\n",
      "Classification Report               precision    recall  f1-score   support\n",
      "\n",
      "         0.0       0.82      0.92      0.87      4683\n",
      "         1.0       0.40      0.21      0.27      1165\n",
      "\n",
      "    accuracy                           0.78      5848\n",
      "   macro avg       0.61      0.57      0.57      5848\n",
      "weighted avg       0.74      0.78      0.75      5848\n",
      "\n"
     ]
    },
    {
     "name": "stderr",
     "output_type": "stream",
     "text": [
      "  0%|          | 0/366 [00:00<?, ?it/s]C:\\Users\\admin\\.conda\\envs\\dental1_yolo\\lib\\site-packages\\torch\\nn\\functional.py:1805: UserWarning: nn.functional.sigmoid is deprecated. Use torch.sigmoid instead.\n",
      "  warnings.warn(\"nn.functional.sigmoid is deprecated. Use torch.sigmoid instead.\")\n",
      "100%|██████████| 366/366 [00:54<00:00,  6.69it/s]\n"
     ]
    },
    {
     "name": "stdout",
     "output_type": "stream",
     "text": [
      "Epoch 90, loss = 0.0108, batch_idx= 366\n",
      "Epoch: 90 Accuracy of the Train Images: 4390.859342\n",
      "Confusion Matrix [[18699.    30.]\n",
      " [   50.  4611.]]\n",
      "Classification Report               precision    recall  f1-score   support\n",
      "\n",
      "         0.0       1.00      1.00      1.00     18729\n",
      "         1.0       0.99      0.99      0.99      4661\n",
      "\n",
      "    accuracy                           1.00     23390\n",
      "   macro avg       1.00      0.99      0.99     23390\n",
      "weighted avg       1.00      1.00      1.00     23390\n",
      "\n"
     ]
    },
    {
     "name": "stderr",
     "output_type": "stream",
     "text": [
      "  0%|          | 0/92 [00:00<?, ?it/s]C:\\Users\\admin\\.conda\\envs\\dental1_yolo\\lib\\site-packages\\torch\\nn\\functional.py:1805: UserWarning: nn.functional.sigmoid is deprecated. Use torch.sigmoid instead.\n",
      "  warnings.warn(\"nn.functional.sigmoid is deprecated. Use torch.sigmoid instead.\")\n",
      "100%|██████████| 92/92 [00:09<00:00,  9.54it/s]\n"
     ]
    },
    {
     "name": "stdout",
     "output_type": "stream",
     "text": [
      "Epoch: 90 Accuracy of the Valid Images: 4637.106703\n",
      "Confusion Matrix [[4281.  402.]\n",
      " [ 835.  330.]]\n",
      "Classification Report               precision    recall  f1-score   support\n",
      "\n",
      "         0.0       0.84      0.91      0.87      4683\n",
      "         1.0       0.45      0.28      0.35      1165\n",
      "\n",
      "    accuracy                           0.79      5848\n",
      "   macro avg       0.64      0.60      0.61      5848\n",
      "weighted avg       0.76      0.79      0.77      5848\n",
      "\n"
     ]
    },
    {
     "name": "stderr",
     "output_type": "stream",
     "text": [
      "  0%|          | 0/366 [00:00<?, ?it/s]C:\\Users\\admin\\.conda\\envs\\dental1_yolo\\lib\\site-packages\\torch\\nn\\functional.py:1805: UserWarning: nn.functional.sigmoid is deprecated. Use torch.sigmoid instead.\n",
      "  warnings.warn(\"nn.functional.sigmoid is deprecated. Use torch.sigmoid instead.\")\n",
      "100%|██████████| 366/366 [00:54<00:00,  6.76it/s]\n"
     ]
    },
    {
     "name": "stdout",
     "output_type": "stream",
     "text": [
      "Epoch 91, loss = 0.0140, batch_idx= 366\n",
      "Epoch: 91 Accuracy of the Train Images: 4386.489953\n",
      "Confusion Matrix [[18682.    47.]\n",
      " [   56.  4605.]]\n",
      "Classification Report               precision    recall  f1-score   support\n",
      "\n",
      "         0.0       1.00      1.00      1.00     18729\n",
      "         1.0       0.99      0.99      0.99      4661\n",
      "\n",
      "    accuracy                           1.00     23390\n",
      "   macro avg       0.99      0.99      0.99     23390\n",
      "weighted avg       1.00      1.00      1.00     23390\n",
      "\n"
     ]
    },
    {
     "name": "stderr",
     "output_type": "stream",
     "text": [
      "  0%|          | 0/92 [00:00<?, ?it/s]C:\\Users\\admin\\.conda\\envs\\dental1_yolo\\lib\\site-packages\\torch\\nn\\functional.py:1805: UserWarning: nn.functional.sigmoid is deprecated. Use torch.sigmoid instead.\n",
      "  warnings.warn(\"nn.functional.sigmoid is deprecated. Use torch.sigmoid instead.\")\n",
      "100%|██████████| 92/92 [00:09<00:00,  9.62it/s]\n"
     ]
    },
    {
     "name": "stdout",
     "output_type": "stream",
     "text": [
      "Epoch: 91 Accuracy of the Valid Images: 3616.963064\n",
      "Confusion Matrix [[3115. 1568.]\n",
      " [ 431.  734.]]\n",
      "Classification Report               precision    recall  f1-score   support\n",
      "\n",
      "         0.0       0.88      0.67      0.76      4683\n",
      "         1.0       0.32      0.63      0.42      1165\n",
      "\n",
      "    accuracy                           0.66      5848\n",
      "   macro avg       0.60      0.65      0.59      5848\n",
      "weighted avg       0.77      0.66      0.69      5848\n",
      "\n"
     ]
    },
    {
     "name": "stderr",
     "output_type": "stream",
     "text": [
      "  0%|          | 0/366 [00:00<?, ?it/s]C:\\Users\\admin\\.conda\\envs\\dental1_yolo\\lib\\site-packages\\torch\\nn\\functional.py:1805: UserWarning: nn.functional.sigmoid is deprecated. Use torch.sigmoid instead.\n",
      "  warnings.warn(\"nn.functional.sigmoid is deprecated. Use torch.sigmoid instead.\")\n",
      "100%|██████████| 366/366 [00:54<00:00,  6.75it/s]\n"
     ]
    },
    {
     "name": "stdout",
     "output_type": "stream",
     "text": [
      "Epoch 92, loss = 0.0127, batch_idx= 366\n",
      "Epoch: 92 Accuracy of the Train Images: 4385.044891\n",
      "Confusion Matrix [[18685.    44.]\n",
      " [   53.  4608.]]\n",
      "Classification Report               precision    recall  f1-score   support\n",
      "\n",
      "         0.0       1.00      1.00      1.00     18729\n",
      "         1.0       0.99      0.99      0.99      4661\n",
      "\n",
      "    accuracy                           1.00     23390\n",
      "   macro avg       0.99      0.99      0.99     23390\n",
      "weighted avg       1.00      1.00      1.00     23390\n",
      "\n"
     ]
    },
    {
     "name": "stderr",
     "output_type": "stream",
     "text": [
      "  0%|          | 0/92 [00:00<?, ?it/s]C:\\Users\\admin\\.conda\\envs\\dental1_yolo\\lib\\site-packages\\torch\\nn\\functional.py:1805: UserWarning: nn.functional.sigmoid is deprecated. Use torch.sigmoid instead.\n",
      "  warnings.warn(\"nn.functional.sigmoid is deprecated. Use torch.sigmoid instead.\")\n",
      "100%|██████████| 92/92 [00:09<00:00,  9.61it/s]\n"
     ]
    },
    {
     "name": "stdout",
     "output_type": "stream",
     "text": [
      "Epoch: 92 Accuracy of the Valid Images: 4242.373461\n",
      "Confusion Matrix [[3884.  799.]\n",
      " [ 624.  541.]]\n",
      "Classification Report               precision    recall  f1-score   support\n",
      "\n",
      "         0.0       0.86      0.83      0.85      4683\n",
      "         1.0       0.40      0.46      0.43      1165\n",
      "\n",
      "    accuracy                           0.76      5848\n",
      "   macro avg       0.63      0.65      0.64      5848\n",
      "weighted avg       0.77      0.76      0.76      5848\n",
      "\n"
     ]
    },
    {
     "name": "stderr",
     "output_type": "stream",
     "text": [
      "  0%|          | 0/366 [00:00<?, ?it/s]C:\\Users\\admin\\.conda\\envs\\dental1_yolo\\lib\\site-packages\\torch\\nn\\functional.py:1805: UserWarning: nn.functional.sigmoid is deprecated. Use torch.sigmoid instead.\n",
      "  warnings.warn(\"nn.functional.sigmoid is deprecated. Use torch.sigmoid instead.\")\n",
      "100%|██████████| 366/366 [00:55<00:00,  6.65it/s]\n"
     ]
    },
    {
     "name": "stdout",
     "output_type": "stream",
     "text": [
      "Epoch 93, loss = 0.0110, batch_idx= 366\n",
      "Epoch: 93 Accuracy of the Train Images: 4388.439504\n",
      "Confusion Matrix [[18689.    40.]\n",
      " [   57.  4604.]]\n",
      "Classification Report               precision    recall  f1-score   support\n",
      "\n",
      "         0.0       1.00      1.00      1.00     18729\n",
      "         1.0       0.99      0.99      0.99      4661\n",
      "\n",
      "    accuracy                           1.00     23390\n",
      "   macro avg       0.99      0.99      0.99     23390\n",
      "weighted avg       1.00      1.00      1.00     23390\n",
      "\n"
     ]
    },
    {
     "name": "stderr",
     "output_type": "stream",
     "text": [
      "  0%|          | 0/92 [00:00<?, ?it/s]C:\\Users\\admin\\.conda\\envs\\dental1_yolo\\lib\\site-packages\\torch\\nn\\functional.py:1805: UserWarning: nn.functional.sigmoid is deprecated. Use torch.sigmoid instead.\n",
      "  warnings.warn(\"nn.functional.sigmoid is deprecated. Use torch.sigmoid instead.\")\n",
      "100%|██████████| 92/92 [00:09<00:00,  9.62it/s]\n"
     ]
    },
    {
     "name": "stdout",
     "output_type": "stream",
     "text": [
      "Epoch: 93 Accuracy of the Valid Images: 4304.172367\n",
      "Confusion Matrix [[3893.  790.]\n",
      " [ 707.  458.]]\n",
      "Classification Report               precision    recall  f1-score   support\n",
      "\n",
      "         0.0       0.85      0.83      0.84      4683\n",
      "         1.0       0.37      0.39      0.38      1165\n",
      "\n",
      "    accuracy                           0.74      5848\n",
      "   macro avg       0.61      0.61      0.61      5848\n",
      "weighted avg       0.75      0.74      0.75      5848\n",
      "\n"
     ]
    },
    {
     "name": "stderr",
     "output_type": "stream",
     "text": [
      "  0%|          | 0/366 [00:00<?, ?it/s]C:\\Users\\admin\\.conda\\envs\\dental1_yolo\\lib\\site-packages\\torch\\nn\\functional.py:1805: UserWarning: nn.functional.sigmoid is deprecated. Use torch.sigmoid instead.\n",
      "  warnings.warn(\"nn.functional.sigmoid is deprecated. Use torch.sigmoid instead.\")\n",
      "100%|██████████| 366/366 [00:54<00:00,  6.76it/s]\n"
     ]
    },
    {
     "name": "stdout",
     "output_type": "stream",
     "text": [
      "Epoch 94, loss = 0.0102, batch_idx= 366\n",
      "Epoch: 94 Accuracy of the Train Images: 4385.771697\n",
      "Confusion Matrix [[18698.    31.]\n",
      " [   43.  4618.]]\n",
      "Classification Report               precision    recall  f1-score   support\n",
      "\n",
      "         0.0       1.00      1.00      1.00     18729\n",
      "         1.0       0.99      0.99      0.99      4661\n",
      "\n",
      "    accuracy                           1.00     23390\n",
      "   macro avg       1.00      0.99      1.00     23390\n",
      "weighted avg       1.00      1.00      1.00     23390\n",
      "\n"
     ]
    },
    {
     "name": "stderr",
     "output_type": "stream",
     "text": [
      "  0%|          | 0/92 [00:00<?, ?it/s]C:\\Users\\admin\\.conda\\envs\\dental1_yolo\\lib\\site-packages\\torch\\nn\\functional.py:1805: UserWarning: nn.functional.sigmoid is deprecated. Use torch.sigmoid instead.\n",
      "  warnings.warn(\"nn.functional.sigmoid is deprecated. Use torch.sigmoid instead.\")\n",
      "100%|██████████| 92/92 [00:09<00:00,  9.68it/s]\n"
     ]
    },
    {
     "name": "stdout",
     "output_type": "stream",
     "text": [
      "Epoch: 94 Accuracy of the Valid Images: 4663.132695\n",
      "Confusion Matrix [[4304.  379.]\n",
      " [ 844.  321.]]\n",
      "Classification Report               precision    recall  f1-score   support\n",
      "\n",
      "         0.0       0.84      0.92      0.88      4683\n",
      "         1.0       0.46      0.28      0.34      1165\n",
      "\n",
      "    accuracy                           0.79      5848\n",
      "   macro avg       0.65      0.60      0.61      5848\n",
      "weighted avg       0.76      0.79      0.77      5848\n",
      "\n"
     ]
    },
    {
     "name": "stderr",
     "output_type": "stream",
     "text": [
      "  0%|          | 0/366 [00:00<?, ?it/s]C:\\Users\\admin\\.conda\\envs\\dental1_yolo\\lib\\site-packages\\torch\\nn\\functional.py:1805: UserWarning: nn.functional.sigmoid is deprecated. Use torch.sigmoid instead.\n",
      "  warnings.warn(\"nn.functional.sigmoid is deprecated. Use torch.sigmoid instead.\")\n",
      "100%|██████████| 366/366 [00:54<00:00,  6.76it/s]\n"
     ]
    },
    {
     "name": "stdout",
     "output_type": "stream",
     "text": [
      "Epoch 95, loss = 0.0098, batch_idx= 366\n",
      "Epoch: 95 Accuracy of the Train Images: 4386.259085\n",
      "Confusion Matrix [[18702.    27.]\n",
      " [   38.  4623.]]\n",
      "Classification Report               precision    recall  f1-score   support\n",
      "\n",
      "         0.0       1.00      1.00      1.00     18729\n",
      "         1.0       0.99      0.99      0.99      4661\n",
      "\n",
      "    accuracy                           1.00     23390\n",
      "   macro avg       1.00      1.00      1.00     23390\n",
      "weighted avg       1.00      1.00      1.00     23390\n",
      "\n"
     ]
    },
    {
     "name": "stderr",
     "output_type": "stream",
     "text": [
      "  0%|          | 0/92 [00:00<?, ?it/s]C:\\Users\\admin\\.conda\\envs\\dental1_yolo\\lib\\site-packages\\torch\\nn\\functional.py:1805: UserWarning: nn.functional.sigmoid is deprecated. Use torch.sigmoid instead.\n",
      "  warnings.warn(\"nn.functional.sigmoid is deprecated. Use torch.sigmoid instead.\")\n",
      "100%|██████████| 92/92 [00:09<00:00,  9.68it/s]\n"
     ]
    },
    {
     "name": "stdout",
     "output_type": "stream",
     "text": [
      "Epoch: 95 Accuracy of the Valid Images: 4567.920657\n",
      "Confusion Matrix [[4194.  489.]\n",
      " [ 824.  341.]]\n",
      "Classification Report               precision    recall  f1-score   support\n",
      "\n",
      "         0.0       0.84      0.90      0.86      4683\n",
      "         1.0       0.41      0.29      0.34      1165\n",
      "\n",
      "    accuracy                           0.78      5848\n",
      "   macro avg       0.62      0.59      0.60      5848\n",
      "weighted avg       0.75      0.78      0.76      5848\n",
      "\n"
     ]
    },
    {
     "name": "stderr",
     "output_type": "stream",
     "text": [
      "  0%|          | 0/366 [00:00<?, ?it/s]C:\\Users\\admin\\.conda\\envs\\dental1_yolo\\lib\\site-packages\\torch\\nn\\functional.py:1805: UserWarning: nn.functional.sigmoid is deprecated. Use torch.sigmoid instead.\n",
      "  warnings.warn(\"nn.functional.sigmoid is deprecated. Use torch.sigmoid instead.\")\n",
      "100%|██████████| 366/366 [00:54<00:00,  6.77it/s]\n"
     ]
    },
    {
     "name": "stdout",
     "output_type": "stream",
     "text": [
      "Epoch 96, loss = 0.0109, batch_idx= 366\n",
      "Epoch: 96 Accuracy of the Train Images: 4386.660966\n",
      "Confusion Matrix [[18693.    36.]\n",
      " [   44.  4617.]]\n",
      "Classification Report               precision    recall  f1-score   support\n",
      "\n",
      "         0.0       1.00      1.00      1.00     18729\n",
      "         1.0       0.99      0.99      0.99      4661\n",
      "\n",
      "    accuracy                           1.00     23390\n",
      "   macro avg       0.99      0.99      0.99     23390\n",
      "weighted avg       1.00      1.00      1.00     23390\n",
      "\n"
     ]
    },
    {
     "name": "stderr",
     "output_type": "stream",
     "text": [
      "  0%|          | 0/92 [00:00<?, ?it/s]C:\\Users\\admin\\.conda\\envs\\dental1_yolo\\lib\\site-packages\\torch\\nn\\functional.py:1805: UserWarning: nn.functional.sigmoid is deprecated. Use torch.sigmoid instead.\n",
      "  warnings.warn(\"nn.functional.sigmoid is deprecated. Use torch.sigmoid instead.\")\n",
      "100%|██████████| 92/92 [00:09<00:00,  9.66it/s]\n"
     ]
    },
    {
     "name": "stdout",
     "output_type": "stream",
     "text": [
      "Epoch: 96 Accuracy of the Valid Images: 4885.362517\n",
      "Confusion Matrix [[4475.  208.]\n",
      " [1020.  145.]]\n",
      "Classification Report               precision    recall  f1-score   support\n",
      "\n",
      "         0.0       0.81      0.96      0.88      4683\n",
      "         1.0       0.41      0.12      0.19      1165\n",
      "\n",
      "    accuracy                           0.79      5848\n",
      "   macro avg       0.61      0.54      0.54      5848\n",
      "weighted avg       0.73      0.79      0.74      5848\n",
      "\n"
     ]
    },
    {
     "name": "stderr",
     "output_type": "stream",
     "text": [
      "  0%|          | 0/366 [00:00<?, ?it/s]C:\\Users\\admin\\.conda\\envs\\dental1_yolo\\lib\\site-packages\\torch\\nn\\functional.py:1805: UserWarning: nn.functional.sigmoid is deprecated. Use torch.sigmoid instead.\n",
      "  warnings.warn(\"nn.functional.sigmoid is deprecated. Use torch.sigmoid instead.\")\n",
      "100%|██████████| 366/366 [00:54<00:00,  6.76it/s]\n"
     ]
    },
    {
     "name": "stdout",
     "output_type": "stream",
     "text": [
      "Epoch 97, loss = 0.0098, batch_idx= 366\n",
      "Epoch: 97 Accuracy of the Train Images: 4386.011116\n",
      "Confusion Matrix [[18701.    28.]\n",
      " [   42.  4619.]]\n",
      "Classification Report               precision    recall  f1-score   support\n",
      "\n",
      "         0.0       1.00      1.00      1.00     18729\n",
      "         1.0       0.99      0.99      0.99      4661\n",
      "\n",
      "    accuracy                           1.00     23390\n",
      "   macro avg       1.00      0.99      1.00     23390\n",
      "weighted avg       1.00      1.00      1.00     23390\n",
      "\n"
     ]
    },
    {
     "name": "stderr",
     "output_type": "stream",
     "text": [
      "  0%|          | 0/92 [00:00<?, ?it/s]C:\\Users\\admin\\.conda\\envs\\dental1_yolo\\lib\\site-packages\\torch\\nn\\functional.py:1805: UserWarning: nn.functional.sigmoid is deprecated. Use torch.sigmoid instead.\n",
      "  warnings.warn(\"nn.functional.sigmoid is deprecated. Use torch.sigmoid instead.\")\n",
      "100%|██████████| 92/92 [00:09<00:00,  9.58it/s]\n"
     ]
    },
    {
     "name": "stdout",
     "output_type": "stream",
     "text": [
      "Epoch: 97 Accuracy of the Valid Images: 4603.522572\n",
      "Confusion Matrix [[4184.  499.]\n",
      " [ 881.  284.]]\n",
      "Classification Report               precision    recall  f1-score   support\n",
      "\n",
      "         0.0       0.83      0.89      0.86      4683\n",
      "         1.0       0.36      0.24      0.29      1165\n",
      "\n",
      "    accuracy                           0.76      5848\n",
      "   macro avg       0.59      0.57      0.58      5848\n",
      "weighted avg       0.73      0.76      0.75      5848\n",
      "\n"
     ]
    },
    {
     "name": "stderr",
     "output_type": "stream",
     "text": [
      "  0%|          | 0/366 [00:00<?, ?it/s]C:\\Users\\admin\\.conda\\envs\\dental1_yolo\\lib\\site-packages\\torch\\nn\\functional.py:1805: UserWarning: nn.functional.sigmoid is deprecated. Use torch.sigmoid instead.\n",
      "  warnings.warn(\"nn.functional.sigmoid is deprecated. Use torch.sigmoid instead.\")\n",
      "100%|██████████| 366/366 [00:54<00:00,  6.78it/s]\n"
     ]
    },
    {
     "name": "stdout",
     "output_type": "stream",
     "text": [
      "Epoch 98, loss = 0.0158, batch_idx= 366\n",
      "Epoch: 98 Accuracy of the Train Images: 4387.892262\n",
      "Confusion Matrix [[18669.    60.]\n",
      " [   69.  4592.]]\n",
      "Classification Report               precision    recall  f1-score   support\n",
      "\n",
      "         0.0       1.00      1.00      1.00     18729\n",
      "         1.0       0.99      0.99      0.99      4661\n",
      "\n",
      "    accuracy                           0.99     23390\n",
      "   macro avg       0.99      0.99      0.99     23390\n",
      "weighted avg       0.99      0.99      0.99     23390\n",
      "\n"
     ]
    },
    {
     "name": "stderr",
     "output_type": "stream",
     "text": [
      "  0%|          | 0/92 [00:00<?, ?it/s]C:\\Users\\admin\\.conda\\envs\\dental1_yolo\\lib\\site-packages\\torch\\nn\\functional.py:1805: UserWarning: nn.functional.sigmoid is deprecated. Use torch.sigmoid instead.\n",
      "  warnings.warn(\"nn.functional.sigmoid is deprecated. Use torch.sigmoid instead.\")\n",
      "100%|██████████| 92/92 [00:09<00:00,  9.67it/s]\n"
     ]
    },
    {
     "name": "stdout",
     "output_type": "stream",
     "text": [
      "Epoch: 98 Accuracy of the Valid Images: 4299.931601\n",
      "Confusion Matrix [[3972.  711.]\n",
      " [ 632.  533.]]\n",
      "Classification Report               precision    recall  f1-score   support\n",
      "\n",
      "         0.0       0.86      0.85      0.86      4683\n",
      "         1.0       0.43      0.46      0.44      1165\n",
      "\n",
      "    accuracy                           0.77      5848\n",
      "   macro avg       0.65      0.65      0.65      5848\n",
      "weighted avg       0.78      0.77      0.77      5848\n",
      "\n"
     ]
    },
    {
     "name": "stderr",
     "output_type": "stream",
     "text": [
      "  0%|          | 0/366 [00:00<?, ?it/s]C:\\Users\\admin\\.conda\\envs\\dental1_yolo\\lib\\site-packages\\torch\\nn\\functional.py:1805: UserWarning: nn.functional.sigmoid is deprecated. Use torch.sigmoid instead.\n",
      "  warnings.warn(\"nn.functional.sigmoid is deprecated. Use torch.sigmoid instead.\")\n",
      "100%|██████████| 366/366 [00:54<00:00,  6.76it/s]\n"
     ]
    },
    {
     "name": "stdout",
     "output_type": "stream",
     "text": [
      "Epoch 99, loss = 0.0095, batch_idx= 366\n",
      "Epoch: 99 Accuracy of the Train Images: 4383.719538\n",
      "Confusion Matrix [[18695.    34.]\n",
      " [   42.  4619.]]\n",
      "Classification Report               precision    recall  f1-score   support\n",
      "\n",
      "         0.0       1.00      1.00      1.00     18729\n",
      "         1.0       0.99      0.99      0.99      4661\n",
      "\n",
      "    accuracy                           1.00     23390\n",
      "   macro avg       1.00      0.99      0.99     23390\n",
      "weighted avg       1.00      1.00      1.00     23390\n",
      "\n"
     ]
    },
    {
     "name": "stderr",
     "output_type": "stream",
     "text": [
      "  0%|          | 0/92 [00:00<?, ?it/s]C:\\Users\\admin\\.conda\\envs\\dental1_yolo\\lib\\site-packages\\torch\\nn\\functional.py:1805: UserWarning: nn.functional.sigmoid is deprecated. Use torch.sigmoid instead.\n",
      "  warnings.warn(\"nn.functional.sigmoid is deprecated. Use torch.sigmoid instead.\")\n",
      "100%|██████████| 92/92 [00:09<00:00,  9.72it/s]\n"
     ]
    },
    {
     "name": "stdout",
     "output_type": "stream",
     "text": [
      "Epoch: 99 Accuracy of the Valid Images: 4812.927497\n",
      "Confusion Matrix [[4431.  252.]\n",
      " [ 958.  207.]]\n",
      "Classification Report               precision    recall  f1-score   support\n",
      "\n",
      "         0.0       0.82      0.95      0.88      4683\n",
      "         1.0       0.45      0.18      0.25      1165\n",
      "\n",
      "    accuracy                           0.79      5848\n",
      "   macro avg       0.64      0.56      0.57      5848\n",
      "weighted avg       0.75      0.79      0.76      5848\n",
      "\n"
     ]
    },
    {
     "name": "stderr",
     "output_type": "stream",
     "text": [
      "  0%|          | 0/366 [00:00<?, ?it/s]C:\\Users\\admin\\.conda\\envs\\dental1_yolo\\lib\\site-packages\\torch\\nn\\functional.py:1805: UserWarning: nn.functional.sigmoid is deprecated. Use torch.sigmoid instead.\n",
      "  warnings.warn(\"nn.functional.sigmoid is deprecated. Use torch.sigmoid instead.\")\n",
      "100%|██████████| 366/366 [00:54<00:00,  6.76it/s]\n"
     ]
    },
    {
     "name": "stdout",
     "output_type": "stream",
     "text": [
      "Epoch 100, loss = 0.0075, batch_idx= 366\n",
      "Epoch: 100 Accuracy of the Train Images: 4384.600257\n",
      "Confusion Matrix [[18702.    27.]\n",
      " [   31.  4630.]]\n",
      "Classification Report               precision    recall  f1-score   support\n",
      "\n",
      "         0.0       1.00      1.00      1.00     18729\n",
      "         1.0       0.99      0.99      0.99      4661\n",
      "\n",
      "    accuracy                           1.00     23390\n",
      "   macro avg       1.00      1.00      1.00     23390\n",
      "weighted avg       1.00      1.00      1.00     23390\n",
      "\n"
     ]
    },
    {
     "name": "stderr",
     "output_type": "stream",
     "text": [
      "  0%|          | 0/92 [00:00<?, ?it/s]C:\\Users\\admin\\.conda\\envs\\dental1_yolo\\lib\\site-packages\\torch\\nn\\functional.py:1805: UserWarning: nn.functional.sigmoid is deprecated. Use torch.sigmoid instead.\n",
      "  warnings.warn(\"nn.functional.sigmoid is deprecated. Use torch.sigmoid instead.\")\n",
      "100%|██████████| 92/92 [00:09<00:00,  9.70it/s]\n"
     ]
    },
    {
     "name": "stdout",
     "output_type": "stream",
     "text": [
      "Epoch: 100 Accuracy of the Valid Images: 4346.203830\n",
      "Confusion Matrix [[3949.  734.]\n",
      " [ 718.  447.]]\n",
      "Classification Report               precision    recall  f1-score   support\n",
      "\n",
      "         0.0       0.85      0.84      0.84      4683\n",
      "         1.0       0.38      0.38      0.38      1165\n",
      "\n",
      "    accuracy                           0.75      5848\n",
      "   macro avg       0.61      0.61      0.61      5848\n",
      "weighted avg       0.75      0.75      0.75      5848\n",
      "\n"
     ]
    }
   ],
   "source": [
    "for epoch in range(1, epochs+1):\n",
    "    train(train_loader, model2, 9, optimizer, epoch)\n",
    "    valid(valid_loader, model2, 9, epoch)"
   ]
  },
  {
   "cell_type": "code",
   "execution_count": 122,
   "metadata": {},
   "outputs": [
    {
     "name": "stderr",
     "output_type": "stream",
     "text": [
      "<ipython-input-116-12cc02487420>:129: UserWarning: nn.init.kaiming_normal is now deprecated in favor of nn.init.kaiming_normal_.\n",
      "  init.kaiming_normal(self.fc.weight)\n",
      "<ipython-input-116-12cc02487420>:133: UserWarning: nn.init.kaiming_normal is now deprecated in favor of nn.init.kaiming_normal_.\n",
      "  init.kaiming_normal(self.state_dict()[key], mode='fan_out')\n"
     ]
    },
    {
     "data": {
      "text/plain": [
       "ResNet(\n",
       "  (conv1): Conv2d(3, 64, kernel_size=(7, 7), stride=(2, 2), padding=(3, 3), bias=False)\n",
       "  (maxpool): MaxPool2d(kernel_size=3, stride=2, padding=1, dilation=1, ceil_mode=False)\n",
       "  (avgpool): AvgPool2d(kernel_size=7, stride=7, padding=0)\n",
       "  (bn1): BatchNorm2d(64, eps=1e-05, momentum=0.1, affine=True, track_running_stats=True)\n",
       "  (relu): ReLU(inplace=True)\n",
       "  (layer1): Sequential(\n",
       "    (0): BasicBlock(\n",
       "      (conv1): Conv2d(64, 64, kernel_size=(3, 3), stride=(1, 1), padding=(1, 1), bias=False)\n",
       "      (bn1): BatchNorm2d(64, eps=1e-05, momentum=0.1, affine=True, track_running_stats=True)\n",
       "      (relu): ReLU(inplace=True)\n",
       "      (conv2): Conv2d(64, 64, kernel_size=(3, 3), stride=(1, 1), padding=(1, 1), bias=False)\n",
       "      (bn2): BatchNorm2d(64, eps=1e-05, momentum=0.1, affine=True, track_running_stats=True)\n",
       "      (cbam): CBAM(\n",
       "        (ChannelGate): ChannelGate(\n",
       "          (mlp): Sequential(\n",
       "            (0): Flatten()\n",
       "            (1): Linear(in_features=64, out_features=4, bias=True)\n",
       "            (2): ReLU()\n",
       "            (3): Linear(in_features=4, out_features=64, bias=True)\n",
       "          )\n",
       "        )\n",
       "        (SpatialGate): SpatialGate(\n",
       "          (compress): ChannelPool()\n",
       "          (spatial): BasicConv(\n",
       "            (conv): Conv2d(2, 1, kernel_size=(7, 7), stride=(1, 1), padding=(3, 3), bias=False)\n",
       "            (bn): BatchNorm2d(1, eps=1e-05, momentum=0.01, affine=True, track_running_stats=True)\n",
       "          )\n",
       "        )\n",
       "      )\n",
       "    )\n",
       "  )\n",
       "  (layer2): Sequential(\n",
       "    (0): BasicBlock(\n",
       "      (conv1): Conv2d(64, 128, kernel_size=(3, 3), stride=(2, 2), padding=(1, 1), bias=False)\n",
       "      (bn1): BatchNorm2d(128, eps=1e-05, momentum=0.1, affine=True, track_running_stats=True)\n",
       "      (relu): ReLU(inplace=True)\n",
       "      (conv2): Conv2d(128, 128, kernel_size=(3, 3), stride=(1, 1), padding=(1, 1), bias=False)\n",
       "      (bn2): BatchNorm2d(128, eps=1e-05, momentum=0.1, affine=True, track_running_stats=True)\n",
       "      (downsample): Sequential(\n",
       "        (0): Conv2d(64, 128, kernel_size=(1, 1), stride=(2, 2), bias=False)\n",
       "        (1): BatchNorm2d(128, eps=1e-05, momentum=0.1, affine=True, track_running_stats=True)\n",
       "      )\n",
       "      (cbam): CBAM(\n",
       "        (ChannelGate): ChannelGate(\n",
       "          (mlp): Sequential(\n",
       "            (0): Flatten()\n",
       "            (1): Linear(in_features=128, out_features=8, bias=True)\n",
       "            (2): ReLU()\n",
       "            (3): Linear(in_features=8, out_features=128, bias=True)\n",
       "          )\n",
       "        )\n",
       "        (SpatialGate): SpatialGate(\n",
       "          (compress): ChannelPool()\n",
       "          (spatial): BasicConv(\n",
       "            (conv): Conv2d(2, 1, kernel_size=(7, 7), stride=(1, 1), padding=(3, 3), bias=False)\n",
       "            (bn): BatchNorm2d(1, eps=1e-05, momentum=0.01, affine=True, track_running_stats=True)\n",
       "          )\n",
       "        )\n",
       "      )\n",
       "    )\n",
       "  )\n",
       "  (layer3): Sequential(\n",
       "    (0): BasicBlock(\n",
       "      (conv1): Conv2d(128, 256, kernel_size=(3, 3), stride=(2, 2), padding=(1, 1), bias=False)\n",
       "      (bn1): BatchNorm2d(256, eps=1e-05, momentum=0.1, affine=True, track_running_stats=True)\n",
       "      (relu): ReLU(inplace=True)\n",
       "      (conv2): Conv2d(256, 256, kernel_size=(3, 3), stride=(1, 1), padding=(1, 1), bias=False)\n",
       "      (bn2): BatchNorm2d(256, eps=1e-05, momentum=0.1, affine=True, track_running_stats=True)\n",
       "      (downsample): Sequential(\n",
       "        (0): Conv2d(128, 256, kernel_size=(1, 1), stride=(2, 2), bias=False)\n",
       "        (1): BatchNorm2d(256, eps=1e-05, momentum=0.1, affine=True, track_running_stats=True)\n",
       "      )\n",
       "      (cbam): CBAM(\n",
       "        (ChannelGate): ChannelGate(\n",
       "          (mlp): Sequential(\n",
       "            (0): Flatten()\n",
       "            (1): Linear(in_features=256, out_features=16, bias=True)\n",
       "            (2): ReLU()\n",
       "            (3): Linear(in_features=16, out_features=256, bias=True)\n",
       "          )\n",
       "        )\n",
       "        (SpatialGate): SpatialGate(\n",
       "          (compress): ChannelPool()\n",
       "          (spatial): BasicConv(\n",
       "            (conv): Conv2d(2, 1, kernel_size=(7, 7), stride=(1, 1), padding=(3, 3), bias=False)\n",
       "            (bn): BatchNorm2d(1, eps=1e-05, momentum=0.01, affine=True, track_running_stats=True)\n",
       "          )\n",
       "        )\n",
       "      )\n",
       "    )\n",
       "    (1): BasicBlock(\n",
       "      (conv1): Conv2d(256, 256, kernel_size=(3, 3), stride=(1, 1), padding=(1, 1), bias=False)\n",
       "      (bn1): BatchNorm2d(256, eps=1e-05, momentum=0.1, affine=True, track_running_stats=True)\n",
       "      (relu): ReLU(inplace=True)\n",
       "      (conv2): Conv2d(256, 256, kernel_size=(3, 3), stride=(1, 1), padding=(1, 1), bias=False)\n",
       "      (bn2): BatchNorm2d(256, eps=1e-05, momentum=0.1, affine=True, track_running_stats=True)\n",
       "      (cbam): CBAM(\n",
       "        (ChannelGate): ChannelGate(\n",
       "          (mlp): Sequential(\n",
       "            (0): Flatten()\n",
       "            (1): Linear(in_features=256, out_features=16, bias=True)\n",
       "            (2): ReLU()\n",
       "            (3): Linear(in_features=16, out_features=256, bias=True)\n",
       "          )\n",
       "        )\n",
       "        (SpatialGate): SpatialGate(\n",
       "          (compress): ChannelPool()\n",
       "          (spatial): BasicConv(\n",
       "            (conv): Conv2d(2, 1, kernel_size=(7, 7), stride=(1, 1), padding=(3, 3), bias=False)\n",
       "            (bn): BatchNorm2d(1, eps=1e-05, momentum=0.01, affine=True, track_running_stats=True)\n",
       "          )\n",
       "        )\n",
       "      )\n",
       "    )\n",
       "  )\n",
       "  (layer4): Sequential(\n",
       "    (0): BasicBlock(\n",
       "      (conv1): Conv2d(256, 512, kernel_size=(3, 3), stride=(2, 2), padding=(1, 1), bias=False)\n",
       "      (bn1): BatchNorm2d(512, eps=1e-05, momentum=0.1, affine=True, track_running_stats=True)\n",
       "      (relu): ReLU(inplace=True)\n",
       "      (conv2): Conv2d(512, 512, kernel_size=(3, 3), stride=(1, 1), padding=(1, 1), bias=False)\n",
       "      (bn2): BatchNorm2d(512, eps=1e-05, momentum=0.1, affine=True, track_running_stats=True)\n",
       "      (downsample): Sequential(\n",
       "        (0): Conv2d(256, 512, kernel_size=(1, 1), stride=(2, 2), bias=False)\n",
       "        (1): BatchNorm2d(512, eps=1e-05, momentum=0.1, affine=True, track_running_stats=True)\n",
       "      )\n",
       "      (cbam): CBAM(\n",
       "        (ChannelGate): ChannelGate(\n",
       "          (mlp): Sequential(\n",
       "            (0): Flatten()\n",
       "            (1): Linear(in_features=512, out_features=32, bias=True)\n",
       "            (2): ReLU()\n",
       "            (3): Linear(in_features=32, out_features=512, bias=True)\n",
       "          )\n",
       "        )\n",
       "        (SpatialGate): SpatialGate(\n",
       "          (compress): ChannelPool()\n",
       "          (spatial): BasicConv(\n",
       "            (conv): Conv2d(2, 1, kernel_size=(7, 7), stride=(1, 1), padding=(3, 3), bias=False)\n",
       "            (bn): BatchNorm2d(1, eps=1e-05, momentum=0.01, affine=True, track_running_stats=True)\n",
       "          )\n",
       "        )\n",
       "      )\n",
       "    )\n",
       "  )\n",
       "  (fc): Linear(in_features=512, out_features=1, bias=True)\n",
       "  (softmax): Sigmoid()\n",
       ")"
      ]
     },
     "execution_count": 122,
     "metadata": {},
     "output_type": "execute_result"
    }
   ],
   "source": [
    "PATH = 'model2.pth'\n",
    "torch.save(model2.state_dict(), PATH)\n"
   ]
  }
 ],
 "metadata": {
  "kernelspec": {
   "display_name": "Python 3",
   "language": "python",
   "name": "python3"
  },
  "language_info": {
   "codemirror_mode": {
    "name": "ipython",
    "version": 3
   },
   "file_extension": ".py",
   "mimetype": "text/x-python",
   "name": "python",
   "nbconvert_exporter": "python",
   "pygments_lexer": "ipython3",
   "version": "3.8.3"
  }
 },
 "nbformat": 4,
 "nbformat_minor": 5
}
